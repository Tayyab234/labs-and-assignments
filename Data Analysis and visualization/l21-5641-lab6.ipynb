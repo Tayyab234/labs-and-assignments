{
 "cells": [
  {
   "cell_type": "code",
   "execution_count": null,
   "metadata": {},
   "outputs": [],
   "source": [
    "import pandas as pd\n",
    "\n",
    "# Load the email dataset \n",
    "data = pd.read_csv('emails(2).csv')  \n",
    "\n",
    "print(data.head())\n",
    "print(data.describe())\n"
   ]
  },
  {
   "cell_type": "code",
   "execution_count": null,
   "metadata": {},
   "outputs": [],
   "source": [
    "#Data cleaning\n",
    "data = data.drop_duplicates()\n",
    "\n",
    "\n",
    "data = data.dropna()\n",
    "\n",
    "# Write a function to clean text data\n",
    "import re\n",
    "\n",
    "def clean_text(text):\n",
    "    #Removing HTML tags and non-alphanumeric characters\n",
    "    text = re.sub(r'<.*?>', '', text) \n",
    "    text = re.sub(r'[^\\w\\s]', '', text)  \n",
    "    return text\n",
    "\n",
    "\n",
    "data['cleaned_text'] = data['text'].apply(clean_text\n",
    "print(\"Raw text vs Cleaned text\")\n",
    "for i in range(5):\n",
    "    print(\"Raw:\", data['text'][i])\n",
    "    print(\"Cleaned:\", data['cleaned_text'][i])\n"
   ]
  },
  {
   "cell_type": "code",
   "execution_count": null,
   "metadata": {},
   "outputs": [],
   "source": [
    "# Remove emojis\n",
    "def remove_emojis(text):\n",
    "    # Remove emojis using regex\n",
    "    emoji_pattern = re.compile(\"[\"\n",
    "                           u\"\\U0001F600-\\U0001F64F\"  # emoticons\n",
    "                           u\"\\U0001F300-\\U0001F5FF\"  # symbols & pictographs\n",
    "                           u\"\\U0001F680-\\U0001F6FF\"  # transport & map symbols\n",
    "                           u\"\\U0001F1E0-\\U0001F1FF\"  # flags (iOS)\n",
    "                           \"]+\", flags=re.UNICODE)\n",
    "    return emoji_pattern.sub(r'', text)\n",
    "\n",
    "# Apply the function to the email body\n",
    "data['cleaned_text'] = data['cleaned_text'].apply(remove_emojis)\n"
   ]
  },
  {
   "cell_type": "code",
   "execution_count": null,
   "metadata": {},
   "outputs": [],
   "source": [
    "# Stemming using NLTK\n",
    "from nltk.stem import PorterStemmer\n",
    "stemmer = PorterStemmer()\n",
    "\n",
    "# Lemmatization using NLTK\n",
    "from nltk.stem import WordNetLemmatizer\n",
    "lemmatizer = WordNetLemmatizer()\n",
    "\n",
    "# Function to apply stemming and lemmatization\n",
    "def stem_and_lemmatize(text):\n",
    "    stemmed_text = ' '.join([stemmer.stem(word) for word in text.split()])\n",
    "    lemmatized_text = ' '.join([lemmatizer.lemmatize(word) for word in text.split()])\n",
    "    \n",
    "    return stemmed_text, lemmatized_text\n",
    "\n",
    "# Apply stemming and lemmatization to the email body\n",
    "data['stemmed_email'], data['lemmatized_email'] = zip(*data['cleaned_text'].map(stem_and_lemmatize))\n"
   ]
  },
  {
   "cell_type": "code",
   "execution_count": null,
   "metadata": {},
   "outputs": [],
   "source": [
    "# Remove stop words manually\n",
    "stop_words_list = ['the', 'of', 'to', 'is','am','are']  #list of stop words\n",
    "\n",
    "data['no_stop_words_email'] = data['lemmatized_email'].apply(lambda x: ' '.join([word for word in x.split() if word not in stop_words_list]))\n",
    "\n",
    "# Remove stop words using NLTK\n",
    "from nltk.corpus import stopwords\n",
    "stop_words = set(stopwords.words('english'))\n",
    "\n",
    "data['no_stop_words_email_nltk'] = data['lemmatized_email'].apply(lambda x: ' '.join([word for word in x.split() if word not in stop_words]))\n"
   ]
  },
  {
   "cell_type": "code",
   "execution_count": null,
   "metadata": {},
   "outputs": [],
   "source": [
    "# Tokenize the text into words\n",
    "data['tokenized_text'] = data['no_stop_words_email'].apply(lambda x: x.split())\n"
   ]
  },
  {
   "cell_type": "code",
   "execution_count": null,
   "metadata": {},
   "outputs": [],
   "source": [
    "#Calculate TF-IDF vectors for the text\n",
    "from sklearn.feature_extraction.text import TfidfVectorizer\n",
    "\n",
    "def calculate_tfidf(text):\n",
    "    vectorizer = TfidfVectorizer()\n",
    "    tfidf = vectorizer.fit_transform(text)\n",
    "    return tfidf\n",
    "\n",
    "# Apply the function to the email body\n",
    "data['tfidf'] = calculate_tfidf(data['no_stop_words_email'])\n"
   ]
  },
  {
   "cell_type": "code",
   "execution_count": null,
   "metadata": {},
   "outputs": [],
   "source": [
    "#Bag of words\n",
    "from sklearn.feature_extraction.text import CountVectorizer\n",
    "\n",
    "# Create a CountVectorizer object\n",
    "count_vectorizer = CountVectorizer()\n",
    "\n",
    "# Apply BoW representation\n",
    "bow_representation = count_vectorizer.fit_transform(data['no_stop_words_email'])\n",
    "\n",
    "# Compare TF-IDF and BoW representations for a specific email\n",
    "email_index = 10\n",
    "\n",
    "# TF-IDF representation\n",
    "print(\"TF-IDF representation:\")\n",
    "print(data['tfidf'][email_index])\n",
    "\n",
    "# BoW representation\n",
    "print(\"Bag of Words (BoW) representation:\")\n",
    "print(bow_representation[email_index])\n"
   ]
  }
 ],
 "metadata": {
  "language_info": {
   "name": "python"
  }
 },
 "nbformat": 4,
 "nbformat_minor": 2
}
