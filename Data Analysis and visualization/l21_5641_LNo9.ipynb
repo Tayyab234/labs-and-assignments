{
 "cells": [
  {
   "cell_type": "code",
   "execution_count": null,
   "metadata": {},
   "outputs": [],
   "source": [
    "import numpy as np\n",
    "import pandas as pd\n",
    "import tensorflow as tf\n",
    "df = pd.read_csv('Churn_Modelling.csv', sep='\\t')\n",
    "\n",
    "#QUESTION NO 1\n",
    "\n",
    "\n",
    "# Part 1 - Data Preprocessing\n",
    "# Label Encoding the \"Gender\" column\n",
    "df['Gender'] = df['Gender'].map({'Male': 1, 'Female': 0})\n",
    "\n",
    "# One Hot Encoding the \"Geography\" column\n",
    "df = pd.get_dummies(df, columns=['Geography'], drop_first=True)\n",
    "\n",
    "# Splitting the dataset into the Training set and Test set\n",
    "from sklearn.model_selection import train_test_split\n",
    "\n",
    "X = df.iloc[:, 3:].values  # Features\n",
    "y = df.iloc[:, -1].values  # Target variable\n",
    "\n",
    "X_train, X_test, y_train, y_test = train_test_split(X, y, test_size=0.2, random_state=42)\n",
    "\n",
    "# Feature Scaling\n",
    "from sklearn.preprocessing import StandardScaler\n",
    "\n",
    "sc = StandardScaler()\n",
    "X_train = sc.fit_transform(X_train)\n",
    "X_test = sc.transform(X_test)\n"
   ]
  },
  {
   "cell_type": "code",
   "execution_count": null,
   "metadata": {},
   "outputs": [],
   "source": [
    "# Part 2 - Building the ANN\n",
    "\n",
    "# Initializing the ANN and setting its parameters\n",
    "ann = tf.keras.models.Sequential()\n",
    "\n",
    "# Initializing and Adding the input layer and the first hidden layer\n",
    "ann.add(tf.keras.layers.Dense(units=6, activation='relu'))\n",
    "\n",
    "# Adding the output layer\n",
    "ann.add(tf.keras.layers.Dense(units=1, activation='sigmoid'))\n",
    "\n",
    "# Part 3 - Training the ANN\n",
    "\n",
    "ann.compile(optimizer='adam', loss='binary_crossentropy', metrics=['accuracy'])\n",
    "\n",
    "# Training the ANN \n",
    "ann.fit(X_train, y_train, batch_size=32, epochs=100)\n"
   ]
  },
  {
   "cell_type": "code",
   "execution_count": null,
   "metadata": {},
   "outputs": [],
   "source": [
    "# Part 4 - Making the predictions and evaluating the model\n",
    "\n",
    "new_data = np.array([[600, 1, 40, 3, 60000, 2, 1, 1, 50000, 1, 0]])\n",
    "new_data_scaled = sc.transform(new_data)\n",
    "prediction = ann.predict(new_data_scaled)\n",
    "\n",
    "# Convert the probability to a binary prediction\n",
    "prediction_result = (prediction > 0.5).astype(int)\n",
    "\n",
    "# Display the prediction\n",
    "if prediction_result[0][0] == 1:\n",
    "    print(\"Therefore, our ANN model predicts that this customer stays in the bank!\")\n",
    "else:\n",
    "    print(\"Therefore, our ANN model predicts that this customer will leave the bank!\")\n",
    "\n",
    "# Predicting the Test set results\n",
    "y_pred = (ann.predict(X_test) > 0.5).astype(int)\n",
    "\n",
    "# Making the Confusion Matrix\n",
    "from sklearn.metrics import confusion_matrix, accuracy_score\n",
    "cm = confusion_matrix(y_test, y_pred)\n",
    "accuracy = accuracy_score(y_test, y_pred)\n",
    "\n",
    "print(\"Confusion Matrix:\")\n",
    "print(cm)\n",
    "print(\"Accuracy:\", accuracy)"
   ]
  },
  {
   "cell_type": "code",
   "execution_count": null,
   "metadata": {},
   "outputs": [],
   "source": [
    "#QUESTION NO 3"
   ]
  }
 ],
 "metadata": {
  "language_info": {
   "name": "python"
  }
 },
 "nbformat": 4,
 "nbformat_minor": 2
}
