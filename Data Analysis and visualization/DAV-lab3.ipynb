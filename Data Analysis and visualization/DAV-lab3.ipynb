{
 "cells": [
  {
   "cell_type": "code",
   "execution_count": 48,
   "metadata": {},
   "outputs": [
    {
     "name": "stdout",
     "output_type": "stream",
     "text": [
      "  age         workclass  fnlwgt  education education-num      marital-status  \\\n",
      "0  39         State-gov   77516  Bachelors            13       Never-married   \n",
      "1  50  Self-emp-not-inc   83311  Bachelors            13  Married-civ-spouse   \n",
      "2  38           Private  215646    HS-grad             9            Divorced   \n",
      "3  53           Private  234721       11th             7  Married-civ-spouse   \n",
      "4  28           Private  338409  Bachelors            13  Married-civ-spouse   \n",
      "\n",
      "          occupation   relationship   race     sex  capital-gain capital-loss  \\\n",
      "0       Adm-clerical  Not-in-family  White    Male          2174            0   \n",
      "1    Exec-managerial        Husband  White    Male             0            0   \n",
      "2  Handlers-cleaners  Not-in-family  White    Male             0            0   \n",
      "3  Handlers-cleaners        Husband  Black    Male             0            0   \n",
      "4     Prof-specialty           Wife  Black  Female             0            0   \n",
      "\n",
      "   hours-per-week native-country salary  \n",
      "0              40  United-States  <=50K  \n",
      "1              13  United-States  <=50K  \n",
      "2              40  United-States  <=50K  \n",
      "3              40  United-States  <=50K  \n",
      "4              40           Cuba  <=50K  \n"
     ]
    }
   ],
   "source": [
    "import pandas as pd\n",
    "df=pd.read_csv('adult.data.csv')\n",
    "print(df.head())"
   ]
  },
  {
   "cell_type": "code",
   "execution_count": 21,
   "metadata": {},
   "outputs": [],
   "source": [
    "\n",
    "\n",
    "##\n",
    "##\n",
    "##\n",
    "##\n",
    "#d\n"
   ]
  },
  {
   "cell_type": "code",
   "execution_count": 50,
   "metadata": {},
   "outputs": [
    {
     "data": {
      "text/plain": [
       "age               0\n",
       "workclass         0\n",
       "fnlwgt            0\n",
       "education         0\n",
       "education-num     0\n",
       "marital-status    0\n",
       "occupation        0\n",
       "relationship      0\n",
       "race              0\n",
       "sex               0\n",
       "capital-gain      0\n",
       "capital-loss      0\n",
       "hours-per-week    0\n",
       "native-country    2\n",
       "salary            1\n",
       "dtype: int64"
      ]
     },
     "execution_count": 50,
     "metadata": {},
     "output_type": "execute_result"
    }
   ],
   "source": [
    "h=df['age'].mode()\n",
    "df['age'].fillna(df['age'].mode()[0],inplace=True)\n",
    "df['workclass'].fillna(df['workclass'].mode()[0],inplace=True)\n",
    "df['marital-status'].fillna(df['marital-status'].mode()[0],inplace=True)\n",
    "df['occupation'].fillna(df['occupation'].mode()[0],inplace=True)\n",
    "df['race'].fillna(df['race'].mode()[0],inplace=True)\n",
    "df['sex'].fillna(df['sex'].mode()[0],inplace=True)\n",
    "df.isna().sum()"
   ]
  },
  {
   "cell_type": "code",
   "execution_count": 45,
   "metadata": {},
   "outputs": [
    {
     "data": {
      "image/png": "[encoded data removed]",
      "text/plain": [
       "<Figure size 640x480 with 1 Axes>"
      ]
     },
     "metadata": {},
     "output_type": "display_data"
    }
   ],
   "source": [
    "import matplotlib.pyplot as plt\n",
    "import seaborn as sns\n",
    "sns.boxplot(data=df,x='age')\n",
    "plt.show()"
   ]
  },
  {
   "cell_type": "code",
   "execution_count": 52,
   "metadata": {},
   "outputs": [
    {
     "name": "stdout",
     "output_type": "stream",
     "text": [
      "Empty DataFrame\n",
      "Columns: [age, workclass, fnlwgt, education, education-num, marital-status, occupation, relationship, race, sex, capital-gain, capital-loss, hours-per-week, native-country, salary]\n",
      "Index: []\n"
     ]
    }
   ],
   "source": [
    "from scipy import stats\n",
    "z_score=stats.zscore(df['age'])\n",
    "outliers=df[(z_score>3)|(z_score<-3)]\n",
    "print(outliers)\n"
   ]
  },
  {
   "cell_type": "code",
   "execution_count": 40,
   "metadata": {},
   "outputs": [
    {
     "name": "stderr",
     "output_type": "stream",
     "text": [
      "C:\\Users\\HP\\AppData\\Local\\Temp\\ipykernel_4480\\97280588.py:1: FutureWarning: Automatic reindexing on DataFrame vs Series comparisons is deprecated and will raise ValueError in a future version. Do `left, right = left.align(right, axis=1, copy=False)` before e.g. `left == right`\n",
      "  df=df[df.age!=outliers]\n"
     ]
    }
   ],
   "source": [
    "df=df[df.age!=outliers]"
   ]
  },
  {
   "cell_type": "code",
   "execution_count": 51,
   "metadata": {},
   "outputs": [],
   "source": [
    "df['age']=pd.to_numeric(df['age'],errors='coerce')"
   ]
  }
 ],
 "metadata": {
  "kernelspec": {
   "display_name": "Python 3",
   "language": "python",
   "name": "python3"
  },
  "language_info": {
   "codemirror_mode": {
    "name": "ipython",
    "version": 3
   },
   "file_extension": ".py",
   "mimetype": "text/x-python",
   "name": "python",
   "nbconvert_exporter": "python",
   "pygments_lexer": "ipython3",
   "version": "3.10.11"
  }
 },
 "nbformat": 4,
 "nbformat_minor": 2
}
