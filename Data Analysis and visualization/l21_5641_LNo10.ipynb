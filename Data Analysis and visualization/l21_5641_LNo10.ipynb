{
  "nbformat": 4,
  "nbformat_minor": 0,
  "metadata": {
    "colab": {
      "provenance": [],
      "toc_visible": true
    },
    "kernelspec": {
      "name": "ir",
      "display_name": "R"
    },
    "language_info": {
      "name": "R"
    }
  },
  "cells": [
    {
      "cell_type": "code",
      "execution_count": 14,
      "metadata": {
        "colab": {
          "base_uri": "https://localhost:8080/"
        },
        "id": "_5IuQCO_EjsN",
        "outputId": "3e019017-cf87-4ee1-a1a4-7923615de395"
      },
      "outputs": [
        {
          "output_type": "stream",
          "name": "stdout",
          "text": [
            "[1] 8\n"
          ]
        }
      ],
      "source": [
        "myPower <- function(b, e) {\n",
        "  result <- 1\n",
        "  for (i in 1:e) {\n",
        "    result <- result * b\n",
        "  }\n",
        "  return(result)\n",
        "}\n",
        "\n",
        "print(myPower(2, 3))\n"
      ]
    },
    {
      "cell_type": "code",
      "source": [
        "# 8.2 Array Manipulation\n",
        "subtotal <- function(arr) {\n",
        "  total <- 0\n",
        "  for (i in 1:length(arr)) {\n",
        "    total <- total + arr[i]\n",
        "    arr[i] <- total\n",
        "  }\n",
        "  print(arr)\n",
        "  average <- sum(arr) / length(arr)\n",
        "  return(average)\n",
        "}\n",
        "\n",
        "arr <- c(5.8, 2.6, 9.1, 3.4, 7.0)\n",
        "average_result <- subtotal(arr)\n",
        "print(paste(\"Average of elements:\", average_result))\n"
      ],
      "metadata": {
        "colab": {
          "base_uri": "https://localhost:8080/"
        },
        "id": "889FJSK0Eup4",
        "outputId": "00d45297-3944-43ad-9e62-6103571e17be"
      },
      "execution_count": 15,
      "outputs": [
        {
          "output_type": "stream",
          "name": "stdout",
          "text": [
            "[1]  5.8  8.4 17.5 20.9 27.9\n",
            "[1] \"Average of elements: 16.1\"\n"
          ]
        }
      ]
    },
    {
      "cell_type": "code",
      "source": [
        "# 8.3 Counter\n",
        "Counter <- function(char_array) {\n",
        "  total_letters <- sum((char_array!=' '))\n",
        "  total_spaces <- sum(char_array == ' ')\n",
        "  total_uppercase <- sum(char_array %in% LETTERS)\n",
        "  total_lowercase <- sum(char_array %in% letters)\n",
        "\n",
        "  return(list(\n",
        "    \"No. of letters\" = total_letters,\n",
        "    \"No. of spaces\" = total_spaces,\n",
        "    \"No. of uppercase letters\" = total_uppercase,\n",
        "    \"No. of lowercase letters\" = total_lowercase\n",
        "  ))\n",
        "}\n",
        "\n",
        "# Test the counter function\n",
        "input_str <- \"Hello, I am a student of FAST University.\"\n",
        "result <- Counter(strsplit(input_str, '')[[1]])\n",
        "for (key in names(result)) {\n",
        "  cat(sprintf(\"%s are: %s\\n\", key, result[[key]]))\n",
        "}"
      ],
      "metadata": {
        "colab": {
          "base_uri": "https://localhost:8080/"
        },
        "id": "mYr2KXOGFK03",
        "outputId": "d09b83a7-88cc-467b-b98f-d62b5c14b84f"
      },
      "execution_count": 16,
      "outputs": [
        {
          "output_type": "stream",
          "name": "stdout",
          "text": [
            "No. of letters are: 34\n",
            "No. of spaces are: 7\n",
            "No. of uppercase letters are: 7\n",
            "No. of lowercase letters are: 25\n"
          ]
        }
      ]
    },
    {
      "cell_type": "code",
      "source": [
        "findMedianSortedArrays <- function(nums1, nums2) {\n",
        "  merged <- sort(c(nums1, nums2))\n",
        "  n <- length(merged)\n",
        "  #for even number\n",
        "  if (n %% 2 == 0) {\n",
        "    median <- (merged[n / 2] + merged[n / 2 + 1]) / 2\n",
        "  }\n",
        "   else {\n",
        "\n",
        "    median <- merged[(n + 1) / 2]\n",
        "  }\n",
        "\n",
        "  return(median)\n",
        "}\n",
        "\n",
        "# Test the function\n",
        "nums1 <- c(1, 3,4,5)\n",
        "nums2 <- c(2,6,7)\n",
        "result1 <- findMedianSortedArrays(nums1, nums2)\n",
        "print(paste(\"Output 1:\", result1))\n",
        "\n",
        "nums3 <- c(1, 2)\n",
        "nums4 <- c(3, 4)\n",
        "result2 <- findMedianSortedArrays(nums3, nums4)\n",
        "print(paste(\"Output 2:\", result2))\n"
      ],
      "metadata": {
        "colab": {
          "base_uri": "https://localhost:8080/"
        },
        "id": "JlAgBHcbGFOs",
        "outputId": "93bd226a-1ab7-4e37-9027-a36214f27237"
      },
      "execution_count": 7,
      "outputs": [
        {
          "output_type": "stream",
          "name": "stdout",
          "text": [
            "[1] \"Output 1: 4\"\n",
            "[1] \"Output 2: 2.5\"\n"
          ]
        }
      ]
    }
  ]
}