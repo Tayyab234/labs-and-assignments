{
 "cells": [
  {
   "cell_type": "code",
   "execution_count": 2,
   "id": "089ab181",
   "metadata": {},
   "outputs": [
    {
     "data": {
      "application/vnd.plotly.v1+json": {
       "config": {
        "plotlyServerURL": "https://plot.ly"
       },
       "data": [
        {
         "alignmentgroup": "True",
         "hovertemplate": "Bird Species=Mourning Dove <br>Date=%{x}<br>Number of Deaths=%{y}<extra></extra>",
         "legendgroup": "Mourning Dove ",
         "marker": {
          "color": "#636efa",
          "pattern": {
           "shape": ""
          }
         },
         "name": "Mourning Dove ",
         "offsetgroup": "Mourning Dove ",
         "orientation": "v",
         "showlegend": true,
         "textposition": "auto",
         "type": "bar",
         "x": [
          "2013-10-19T00:00:00",
          "2013-10-31T00:00:00",
          "2014-03-24T00:00:00",
          "2014-04-16T00:00:00",
          "2014-04-28T00:00:00",
          "2014-05-07T00:00:00",
          "2014-06-04T00:00:00",
          "2014-07-02T00:00:00",
          "2014-07-30T00:00:00",
          "2014-09-17T00:00:00",
          "2014-10-19T00:00:00",
          "2014-11-21T00:00:00",
          "2015-01-29T00:00:00",
          "2015-02-12T00:00:00"
         ],
         "xaxis": "x",
         "y": [
          1,
          1,
          1,
          1,
          1,
          1,
          1,
          1,
          1,
          1,
          1,
          1,
          1,
          1
         ],
         "yaxis": "y"
        },
        {
         "alignmentgroup": "True",
         "hovertemplate": "Bird Species=Eastern Towhee <br>Date=%{x}<br>Number of Deaths=%{y}<extra></extra>",
         "legendgroup": "Eastern Towhee ",
         "marker": {
          "color": "#EF553B",
          "pattern": {
           "shape": ""
          }
         },
         "name": "Eastern Towhee ",
         "offsetgroup": "Eastern Towhee ",
         "orientation": "v",
         "showlegend": true,
         "textposition": "auto",
         "type": "bar",
         "x": [
          "2013-10-22T00:00:00",
          "2014-02-03T00:00:00"
         ],
         "xaxis": "x",
         "y": [
          1,
          1
         ],
         "yaxis": "y"
        },
        {
         "alignmentgroup": "True",
         "hovertemplate": "Bird Species=Hermit Thrush <br>Date=%{x}<br>Number of Deaths=%{y}<extra></extra>",
         "legendgroup": "Hermit Thrush ",
         "marker": {
          "color": "#00cc96",
          "pattern": {
           "shape": ""
          }
         },
         "name": "Hermit Thrush ",
         "offsetgroup": "Hermit Thrush ",
         "orientation": "v",
         "showlegend": true,
         "textposition": "auto",
         "type": "bar",
         "x": [
          "2013-10-23T00:00:00",
          "2013-11-05T00:00:00",
          "2014-05-08T00:00:00",
          "2014-11-30T00:00:00"
         ],
         "xaxis": "x",
         "y": [
          1,
          1,
          1,
          1
         ],
         "yaxis": "y"
        },
        {
         "alignmentgroup": "True",
         "hovertemplate": "Bird Species=Golden-crowned Kinglet <br>Date=%{x}<br>Number of Deaths=%{y}<extra></extra>",
         "legendgroup": "Golden-crowned Kinglet ",
         "marker": {
          "color": "#ab63fa",
          "pattern": {
           "shape": ""
          }
         },
         "name": "Golden-crowned Kinglet ",
         "offsetgroup": "Golden-crowned Kinglet ",
         "orientation": "v",
         "showlegend": true,
         "textposition": "auto",
         "type": "bar",
         "x": [
          "2013-10-27T00:00:00",
          "2013-11-07T00:00:00",
          "2013-11-14T00:00:00",
          "2013-12-11T00:00:00",
          "2014-01-09T00:00:00",
          "2014-11-03T00:00:00",
          "2014-11-04T00:00:00",
          "2014-11-10T00:00:00",
          "2014-11-21T00:00:00"
         ],
         "xaxis": "x",
         "y": [
          1,
          1,
          1,
          1,
          1,
          1,
          1,
          1,
          1
         ],
         "yaxis": "y"
        },
        {
         "alignmentgroup": "True",
         "hovertemplate": "Bird Species=Gray Catbird <br>Date=%{x}<br>Number of Deaths=%{y}<extra></extra>",
         "legendgroup": "Gray Catbird ",
         "marker": {
          "color": "#FFA15A",
          "pattern": {
           "shape": ""
          }
         },
         "name": "Gray Catbird ",
         "offsetgroup": "Gray Catbird ",
         "orientation": "v",
         "showlegend": true,
         "textposition": "auto",
         "type": "bar",
         "x": [
          "2013-10-28T00:00:00",
          "2014-05-01T00:00:00",
          "2014-05-01T00:00:00",
          "2014-05-01T00:00:00",
          "2014-05-05T00:00:00",
          "2014-05-07T00:00:00",
          "2014-05-09T00:00:00",
          "2014-05-14T00:00:00",
          "2014-05-14T00:00:00",
          "2014-07-02T00:00:00",
          "2014-08-06T00:00:00",
          "2014-08-20T00:00:00",
          "2014-10-15T00:00:00"
         ],
         "xaxis": "x",
         "y": [
          1,
          1,
          1,
          1,
          1,
          1,
          1,
          1,
          1,
          1,
          1,
          1,
          1
         ],
         "yaxis": "y"
        },
        {
         "alignmentgroup": "True",
         "hovertemplate": "Bird Species=unknown<br>Date=%{x}<br>Number of Deaths=%{y}<extra></extra>",
         "legendgroup": "unknown",
         "marker": {
          "color": "#19d3f3",
          "pattern": {
           "shape": ""
          }
         },
         "name": "unknown",
         "offsetgroup": "unknown",
         "orientation": "v",
         "showlegend": true,
         "textposition": "auto",
         "type": "bar",
         "x": [
          "2013-10-28T00:00:00",
          "2013-10-28T00:00:00",
          "2013-11-04T00:00:00",
          "2013-11-11T00:00:00",
          "2013-11-25T00:00:00",
          "2014-02-20T00:00:00",
          "2014-03-24T00:00:00",
          "2014-04-06T00:00:00",
          "2014-04-08T00:00:00",
          "2014-04-17T00:00:00",
          "2014-04-21T00:00:00",
          "2014-04-23T00:00:00",
          "2014-04-29T00:00:00",
          "2014-05-19T00:00:00",
          "2014-06-15T00:00:00",
          "2014-06-25T00:00:00",
          "2014-07-13T00:00:00",
          "2014-07-13T00:00:00",
          "2014-07-14T00:00:00",
          "2014-07-16T00:00:00",
          "2014-07-21T00:00:00",
          "2014-07-21T00:00:00",
          "2014-07-21T00:00:00",
          "2014-08-01T00:00:00",
          "2014-08-04T00:00:00",
          "2014-08-26T00:00:00",
          "2014-09-15T00:00:00",
          "2014-09-17T00:00:00",
          "2014-09-17T00:00:00",
          "2014-09-18T00:00:00",
          "2014-09-19T00:00:00",
          "2014-09-21T00:00:00",
          "2014-09-21T00:00:00",
          "2014-10-05T00:00:00",
          "2014-11-12T00:00:00",
          "2014-11-19T00:00:00",
          "2014-11-19T00:00:00",
          "2014-12-02T00:00:00",
          "2015-04-13T00:00:00",
          "2015-04-28T00:00:00",
          "2015-05-27T00:00:00"
         ],
         "xaxis": "x",
         "y": [
          1,
          1,
          1,
          1,
          1,
          1,
          1,
          1,
          1,
          1,
          1,
          1,
          1,
          1,
          1,
          1,
          1,
          1,
          1,
          1,
          1,
          1,
          1,
          1,
          1,
          1,
          1,
          1,
          1,
          1,
          1,
          1,
          1,
          1,
          1,
          1,
          1,
          1,
          1,
          1,
          1
         ],
         "yaxis": "y"
        },
        {
         "alignmentgroup": "True",
         "hovertemplate": "Bird Species=Carolina Chickadee <br>Date=%{x}<br>Number of Deaths=%{y}<extra></extra>",
         "legendgroup": "Carolina Chickadee ",
         "marker": {
          "color": "#FF6692",
          "pattern": {
           "shape": ""
          }
         },
         "name": "Carolina Chickadee ",
         "offsetgroup": "Carolina Chickadee ",
         "orientation": "v",
         "showlegend": true,
         "textposition": "auto",
         "type": "bar",
         "x": [
          "2013-10-28T00:00:00"
         ],
         "xaxis": "x",
         "y": [
          1
         ],
         "yaxis": "y"
        },
        {
         "alignmentgroup": "True",
         "hovertemplate": "Bird Species=White-breasted Nuthatch <br>Date=%{x}<br>Number of Deaths=%{y}<extra></extra>",
         "legendgroup": "White-breasted Nuthatch ",
         "marker": {
          "color": "#B6E880",
          "pattern": {
           "shape": ""
          }
         },
         "name": "White-breasted Nuthatch ",
         "offsetgroup": "White-breasted Nuthatch ",
         "orientation": "v",
         "showlegend": true,
         "textposition": "auto",
         "type": "bar",
         "x": [
          "2013-10-28T00:00:00"
         ],
         "xaxis": "x",
         "y": [
          1
         ],
         "yaxis": "y"
        },
        {
         "alignmentgroup": "True",
         "hovertemplate": "Bird Species=White-throated Sparrow <br>Date=%{x}<br>Number of Deaths=%{y}<extra></extra>",
         "legendgroup": "White-throated Sparrow ",
         "marker": {
          "color": "#FF97FF",
          "pattern": {
           "shape": ""
          }
         },
         "name": "White-throated Sparrow ",
         "offsetgroup": "White-throated Sparrow ",
         "orientation": "v",
         "showlegend": true,
         "textposition": "auto",
         "type": "bar",
         "x": [
          "2013-11-01T00:00:00",
          "2013-11-08T00:00:00",
          "2013-11-15T00:00:00",
          "2014-03-16T00:00:00",
          "2014-05-05T00:00:00",
          "2014-10-23T00:00:00",
          "2014-11-10T00:00:00",
          "2014-12-02T00:00:00",
          "2014-12-24T00:00:00"
         ],
         "xaxis": "x",
         "y": [
          1,
          1,
          1,
          1,
          1,
          1,
          1,
          1,
          1
         ],
         "yaxis": "y"
        },
        {
         "alignmentgroup": "True",
         "hovertemplate": "Bird Species=Fox Sparrow <br>Date=%{x}<br>Number of Deaths=%{y}<extra></extra>",
         "legendgroup": "Fox Sparrow ",
         "marker": {
          "color": "#FECB52",
          "pattern": {
           "shape": ""
          }
         },
         "name": "Fox Sparrow ",
         "offsetgroup": "Fox Sparrow ",
         "orientation": "v",
         "showlegend": true,
         "textposition": "auto",
         "type": "bar",
         "x": [
          "2013-11-04T00:00:00"
         ],
         "xaxis": "x",
         "y": [
          1
         ],
         "yaxis": "y"
        },
        {
         "alignmentgroup": "True",
         "hovertemplate": "Bird Species=Song Sparrow <br>Date=%{x}<br>Number of Deaths=%{y}<extra></extra>",
         "legendgroup": "Song Sparrow ",
         "marker": {
          "color": "#636efa",
          "pattern": {
           "shape": ""
          }
         },
         "name": "Song Sparrow ",
         "offsetgroup": "Song Sparrow ",
         "orientation": "v",
         "showlegend": true,
         "textposition": "auto",
         "type": "bar",
         "x": [
          "2013-11-05T00:00:00",
          "2014-03-20T00:00:00",
          "2014-06-15T00:00:00",
          "2014-07-16T00:00:00",
          "2014-07-28T00:00:00"
         ],
         "xaxis": "x",
         "y": [
          1,
          1,
          1,
          1,
          1
         ],
         "yaxis": "y"
        },
        {
         "alignmentgroup": "True",
         "hovertemplate": "Bird Species=Dark-eyed Junco <br>Date=%{x}<br>Number of Deaths=%{y}<extra></extra>",
         "legendgroup": "Dark-eyed Junco ",
         "marker": {
          "color": "#EF553B",
          "pattern": {
           "shape": ""
          }
         },
         "name": "Dark-eyed Junco ",
         "offsetgroup": "Dark-eyed Junco ",
         "orientation": "v",
         "showlegend": true,
         "textposition": "auto",
         "type": "bar",
         "x": [
          "2013-11-07T00:00:00",
          "2013-12-03T00:00:00",
          "2013-12-16T00:00:00",
          "2014-03-12T00:00:00",
          "2014-03-24T00:00:00",
          "2014-04-04T00:00:00",
          "2014-04-17T00:00:00",
          "2014-11-10T00:00:00",
          "2014-11-21T00:00:00"
         ],
         "xaxis": "x",
         "y": [
          1,
          1,
          1,
          1,
          1,
          1,
          1,
          1,
          1
         ],
         "yaxis": "y"
        },
        {
         "alignmentgroup": "True",
         "hovertemplate": "Bird Species=Indigo Bunting <br>Date=%{x}<br>Number of Deaths=%{y}<extra></extra>",
         "legendgroup": "Indigo Bunting ",
         "marker": {
          "color": "#00cc96",
          "pattern": {
           "shape": ""
          }
         },
         "name": "Indigo Bunting ",
         "offsetgroup": "Indigo Bunting ",
         "orientation": "v",
         "showlegend": true,
         "textposition": "auto",
         "type": "bar",
         "x": [
          "2013-11-13T00:00:00",
          "2014-05-05T00:00:00",
          "2015-05-27T00:00:00"
         ],
         "xaxis": "x",
         "y": [
          1,
          1,
          1
         ],
         "yaxis": "y"
        },
        {
         "alignmentgroup": "True",
         "hovertemplate": "Bird Species=Northern Cardinal <br>Date=%{x}<br>Number of Deaths=%{y}<extra></extra>",
         "legendgroup": "Northern Cardinal ",
         "marker": {
          "color": "#ab63fa",
          "pattern": {
           "shape": ""
          }
         },
         "name": "Northern Cardinal ",
         "offsetgroup": "Northern Cardinal ",
         "orientation": "v",
         "showlegend": true,
         "textposition": "auto",
         "type": "bar",
         "x": [
          "2013-11-14T00:00:00",
          "2014-05-29T00:00:00",
          "2014-07-13T00:00:00",
          "2014-08-04T00:00:00"
         ],
         "xaxis": "x",
         "y": [
          1,
          1,
          1,
          1
         ],
         "yaxis": "y"
        },
        {
         "alignmentgroup": "True",
         "hovertemplate": "Bird Species=Ruby-crowned Kinglet <br>Date=%{x}<br>Number of Deaths=%{y}<extra></extra>",
         "legendgroup": "Ruby-crowned Kinglet ",
         "marker": {
          "color": "#FFA15A",
          "pattern": {
           "shape": ""
          }
         },
         "name": "Ruby-crowned Kinglet ",
         "offsetgroup": "Ruby-crowned Kinglet ",
         "orientation": "v",
         "showlegend": true,
         "textposition": "auto",
         "type": "bar",
         "x": [
          "2014-02-26T00:00:00"
         ],
         "xaxis": "x",
         "y": [
          1
         ],
         "yaxis": "y"
        },
        {
         "alignmentgroup": "True",
         "hovertemplate": "Bird Species=Eastern Bluebird <br>Date=%{x}<br>Number of Deaths=%{y}<extra></extra>",
         "legendgroup": "Eastern Bluebird ",
         "marker": {
          "color": "#19d3f3",
          "pattern": {
           "shape": ""
          }
         },
         "name": "Eastern Bluebird ",
         "offsetgroup": "Eastern Bluebird ",
         "orientation": "v",
         "showlegend": true,
         "textposition": "auto",
         "type": "bar",
         "x": [
          "2014-03-12T00:00:00",
          "2014-04-22T00:00:00"
         ],
         "xaxis": "x",
         "y": [
          1,
          1
         ],
         "yaxis": "y"
        },
        {
         "alignmentgroup": "True",
         "hovertemplate": "Bird Species=American Robin <br>Date=%{x}<br>Number of Deaths=%{y}<extra></extra>",
         "legendgroup": "American Robin ",
         "marker": {
          "color": "#FF6692",
          "pattern": {
           "shape": ""
          }
         },
         "name": "American Robin ",
         "offsetgroup": "American Robin ",
         "orientation": "v",
         "showlegend": true,
         "textposition": "auto",
         "type": "bar",
         "x": [
          "2014-03-18T00:00:00",
          "2014-03-19T00:00:00",
          "2014-03-31T00:00:00",
          "2014-04-03T00:00:00",
          "2014-04-14T00:00:00",
          "2014-04-15T00:00:00",
          "2014-04-18T00:00:00",
          "2014-04-22T00:00:00",
          "2014-05-08T00:00:00",
          "2014-05-19T00:00:00",
          "2014-07-02T00:00:00",
          "2014-07-07T00:00:00",
          "2014-07-07T00:00:00",
          "2014-07-17T00:00:00",
          "2014-07-28T00:00:00",
          "2014-08-04T00:00:00",
          "2014-08-06T00:00:00",
          "2014-08-20T00:00:00",
          "2014-10-22T00:00:00",
          "2014-10-29T00:00:00",
          "2015-03-20T00:00:00"
         ],
         "xaxis": "x",
         "y": [
          1,
          1,
          1,
          1,
          1,
          1,
          1,
          1,
          1,
          1,
          1,
          1,
          1,
          1,
          1,
          1,
          1,
          1,
          1,
          1,
          1
         ],
         "yaxis": "y"
        },
        {
         "alignmentgroup": "True",
         "hovertemplate": "Bird Species=European Starling <br>Date=%{x}<br>Number of Deaths=%{y}<extra></extra>",
         "legendgroup": "European Starling ",
         "marker": {
          "color": "#B6E880",
          "pattern": {
           "shape": ""
          }
         },
         "name": "European Starling ",
         "offsetgroup": "European Starling ",
         "orientation": "v",
         "showlegend": true,
         "textposition": "auto",
         "type": "bar",
         "x": [
          "2014-04-02T00:00:00",
          "2014-05-29T00:00:00"
         ],
         "xaxis": "x",
         "y": [
          1,
          1
         ],
         "yaxis": "y"
        },
        {
         "alignmentgroup": "True",
         "hovertemplate": "Bird Species=Savannah Sparrow <br>Date=%{x}<br>Number of Deaths=%{y}<extra></extra>",
         "legendgroup": "Savannah Sparrow ",
         "marker": {
          "color": "#FF97FF",
          "pattern": {
           "shape": ""
          }
         },
         "name": "Savannah Sparrow ",
         "offsetgroup": "Savannah Sparrow ",
         "orientation": "v",
         "showlegend": true,
         "textposition": "auto",
         "type": "bar",
         "x": [
          "2014-04-06T00:00:00"
         ],
         "xaxis": "x",
         "y": [
          1
         ],
         "yaxis": "y"
        },
        {
         "alignmentgroup": "True",
         "hovertemplate": "Bird Species=Brown Thrasher <br>Date=%{x}<br>Number of Deaths=%{y}<extra></extra>",
         "legendgroup": "Brown Thrasher ",
         "marker": {
          "color": "#FECB52",
          "pattern": {
           "shape": ""
          }
         },
         "name": "Brown Thrasher ",
         "offsetgroup": "Brown Thrasher ",
         "orientation": "v",
         "showlegend": true,
         "textposition": "auto",
         "type": "bar",
         "x": [
          "2014-04-14T00:00:00"
         ],
         "xaxis": "x",
         "y": [
          1
         ],
         "yaxis": "y"
        },
        {
         "alignmentgroup": "True",
         "hovertemplate": "Bird Species=Cedar Waxwing <br>Date=%{x}<br>Number of Deaths=%{y}<extra></extra>",
         "legendgroup": "Cedar Waxwing ",
         "marker": {
          "color": "#636efa",
          "pattern": {
           "shape": ""
          }
         },
         "name": "Cedar Waxwing ",
         "offsetgroup": "Cedar Waxwing ",
         "orientation": "v",
         "showlegend": true,
         "textposition": "auto",
         "type": "bar",
         "x": [
          "2014-04-18T00:00:00",
          "2014-06-02T00:00:00",
          "2014-07-18T00:00:00",
          "2014-09-21T00:00:00",
          "2014-11-12T00:00:00",
          "2015-03-29T00:00:00",
          "2015-05-27T00:00:00"
         ],
         "xaxis": "x",
         "y": [
          1,
          1,
          1,
          1,
          1,
          1,
          1
         ],
         "yaxis": "y"
        },
        {
         "alignmentgroup": "True",
         "hovertemplate": "Bird Species=Ruby-throated Hummingbird <br>Date=%{x}<br>Number of Deaths=%{y}<extra></extra>",
         "legendgroup": "Ruby-throated Hummingbird ",
         "marker": {
          "color": "#EF553B",
          "pattern": {
           "shape": ""
          }
         },
         "name": "Ruby-throated Hummingbird ",
         "offsetgroup": "Ruby-throated Hummingbird ",
         "orientation": "v",
         "showlegend": true,
         "textposition": "auto",
         "type": "bar",
         "x": [
          "2014-04-25T00:00:00",
          "2014-04-26T00:00:00",
          "2014-04-28T00:00:00",
          "2014-05-07T00:00:00",
          "2014-05-19T00:00:00",
          "2014-07-30T00:00:00",
          "2014-08-04T00:00:00",
          "2014-09-03T00:00:00",
          "2014-09-07T00:00:00",
          "2014-09-14T00:00:00",
          "2014-09-15T00:00:00",
          "2014-09-15T00:00:00",
          "2014-09-16T00:00:00",
          "2014-09-21T00:00:00",
          "2014-09-21T00:00:00",
          "2014-09-22T00:00:00",
          "2014-09-24T00:00:00",
          "2014-09-24T00:00:00",
          "2014-09-26T00:00:00",
          "2014-09-28T00:00:00",
          "2014-10-03T00:00:00",
          "2014-10-05T00:00:00"
         ],
         "xaxis": "x",
         "y": [
          1,
          1,
          1,
          1,
          1,
          1,
          1,
          1,
          1,
          1,
          1,
          1,
          1,
          1,
          1,
          1,
          1,
          1,
          1,
          1,
          1,
          1
         ],
         "yaxis": "y"
        },
        {
         "alignmentgroup": "True",
         "hovertemplate": "Bird Species=American Goldfinch <br>Date=%{x}<br>Number of Deaths=%{y}<extra></extra>",
         "legendgroup": "American Goldfinch ",
         "marker": {
          "color": "#00cc96",
          "pattern": {
           "shape": ""
          }
         },
         "name": "American Goldfinch ",
         "offsetgroup": "American Goldfinch ",
         "orientation": "v",
         "showlegend": true,
         "textposition": "auto",
         "type": "bar",
         "x": [
          "2014-04-28T00:00:00",
          "2014-05-08T00:00:00",
          "2014-05-21T00:00:00",
          "2014-05-29T00:00:00",
          "2014-09-24T00:00:00"
         ],
         "xaxis": "x",
         "y": [
          1,
          1,
          1,
          1,
          1
         ],
         "yaxis": "y"
        },
        {
         "alignmentgroup": "True",
         "hovertemplate": "Bird Species=Yellow-rumped Warbler <br>Date=%{x}<br>Number of Deaths=%{y}<extra></extra>",
         "legendgroup": "Yellow-rumped Warbler ",
         "marker": {
          "color": "#ab63fa",
          "pattern": {
           "shape": ""
          }
         },
         "name": "Yellow-rumped Warbler ",
         "offsetgroup": "Yellow-rumped Warbler ",
         "orientation": "v",
         "showlegend": true,
         "textposition": "auto",
         "type": "bar",
         "x": [
          "2014-04-29T00:00:00"
         ],
         "xaxis": "x",
         "y": [
          1
         ],
         "yaxis": "y"
        },
        {
         "alignmentgroup": "True",
         "hovertemplate": "Bird Species=Red-winged Blackbird <br>Date=%{x}<br>Number of Deaths=%{y}<extra></extra>",
         "legendgroup": "Red-winged Blackbird ",
         "marker": {
          "color": "#FFA15A",
          "pattern": {
           "shape": ""
          }
         },
         "name": "Red-winged Blackbird ",
         "offsetgroup": "Red-winged Blackbird ",
         "orientation": "v",
         "showlegend": true,
         "textposition": "auto",
         "type": "bar",
         "x": [
          "2014-05-05T00:00:00",
          "2014-07-14T00:00:00",
          "2014-07-23T00:00:00"
         ],
         "xaxis": "x",
         "y": [
          1,
          1,
          1
         ],
         "yaxis": "y"
        },
        {
         "alignmentgroup": "True",
         "hovertemplate": "Bird Species=Yellow-billed Cuckoo <br>Date=%{x}<br>Number of Deaths=%{y}<extra></extra>",
         "legendgroup": "Yellow-billed Cuckoo ",
         "marker": {
          "color": "#19d3f3",
          "pattern": {
           "shape": ""
          }
         },
         "name": "Yellow-billed Cuckoo ",
         "offsetgroup": "Yellow-billed Cuckoo ",
         "orientation": "v",
         "showlegend": true,
         "textposition": "auto",
         "type": "bar",
         "x": [
          "2014-05-09T00:00:00",
          "2014-05-21T00:00:00",
          "2014-05-29T00:00:00",
          "2014-05-29T00:00:00",
          "2014-09-28T00:00:00"
         ],
         "xaxis": "x",
         "y": [
          1,
          1,
          1,
          1,
          1
         ],
         "yaxis": "y"
        },
        {
         "alignmentgroup": "True",
         "hovertemplate": "Bird Species=Northern Flicker <br>Date=%{x}<br>Number of Deaths=%{y}<extra></extra>",
         "legendgroup": "Northern Flicker ",
         "marker": {
          "color": "#FF6692",
          "pattern": {
           "shape": ""
          }
         },
         "name": "Northern Flicker ",
         "offsetgroup": "Northern Flicker ",
         "orientation": "v",
         "showlegend": true,
         "textposition": "auto",
         "type": "bar",
         "x": [
          "2014-05-19T00:00:00",
          "2014-07-30T00:00:00",
          "2014-08-25T00:00:00"
         ],
         "xaxis": "x",
         "y": [
          1,
          1,
          1
         ],
         "yaxis": "y"
        },
        {
         "alignmentgroup": "True",
         "hovertemplate": "Bird Species=Common Yellowthroat <br>Date=%{x}<br>Number of Deaths=%{y}<extra></extra>",
         "legendgroup": "Common Yellowthroat ",
         "marker": {
          "color": "#B6E880",
          "pattern": {
           "shape": ""
          }
         },
         "name": "Common Yellowthroat ",
         "offsetgroup": "Common Yellowthroat ",
         "orientation": "v",
         "showlegend": true,
         "textposition": "auto",
         "type": "bar",
         "x": [
          "2014-05-26T00:00:00",
          "2014-09-16T00:00:00",
          "2014-09-17T00:00:00"
         ],
         "xaxis": "x",
         "y": [
          1,
          1,
          1
         ],
         "yaxis": "y"
        },
        {
         "alignmentgroup": "True",
         "hovertemplate": "Bird Species=American Redstart <br>Date=%{x}<br>Number of Deaths=%{y}<extra></extra>",
         "legendgroup": "American Redstart ",
         "marker": {
          "color": "#FF97FF",
          "pattern": {
           "shape": ""
          }
         },
         "name": "American Redstart ",
         "offsetgroup": "American Redstart ",
         "orientation": "v",
         "showlegend": true,
         "textposition": "auto",
         "type": "bar",
         "x": [
          "2014-05-29T00:00:00"
         ],
         "xaxis": "x",
         "y": [
          1
         ],
         "yaxis": "y"
        },
        {
         "alignmentgroup": "True",
         "hovertemplate": "Bird Species=Great Crested Flycatcher <br>Date=%{x}<br>Number of Deaths=%{y}<extra></extra>",
         "legendgroup": "Great Crested Flycatcher ",
         "marker": {
          "color": "#FECB52",
          "pattern": {
           "shape": ""
          }
         },
         "name": "Great Crested Flycatcher ",
         "offsetgroup": "Great Crested Flycatcher ",
         "orientation": "v",
         "showlegend": true,
         "textposition": "auto",
         "type": "bar",
         "x": [
          "2014-06-02T00:00:00"
         ],
         "xaxis": "x",
         "y": [
          1
         ],
         "yaxis": "y"
        },
        {
         "alignmentgroup": "True",
         "hovertemplate": "Bird Species=House Finch <br>Date=%{x}<br>Number of Deaths=%{y}<extra></extra>",
         "legendgroup": "House Finch ",
         "marker": {
          "color": "#636efa",
          "pattern": {
           "shape": ""
          }
         },
         "name": "House Finch ",
         "offsetgroup": "House Finch ",
         "orientation": "v",
         "showlegend": true,
         "textposition": "auto",
         "type": "bar",
         "x": [
          "2014-06-04T00:00:00",
          "2014-07-07T00:00:00",
          "2014-11-18T00:00:00"
         ],
         "xaxis": "x",
         "y": [
          1,
          1,
          1
         ],
         "yaxis": "y"
        },
        {
         "alignmentgroup": "True",
         "hovertemplate": "Bird Species=Northern Mockingbird <br>Date=%{x}<br>Number of Deaths=%{y}<extra></extra>",
         "legendgroup": "Northern Mockingbird ",
         "marker": {
          "color": "#EF553B",
          "pattern": {
           "shape": ""
          }
         },
         "name": "Northern Mockingbird ",
         "offsetgroup": "Northern Mockingbird ",
         "orientation": "v",
         "showlegend": true,
         "textposition": "auto",
         "type": "bar",
         "x": [
          "2014-06-25T00:00:00",
          "2014-09-21T00:00:00"
         ],
         "xaxis": "x",
         "y": [
          1,
          1
         ],
         "yaxis": "y"
        },
        {
         "alignmentgroup": "True",
         "hovertemplate": "Bird Species=Ovenbird <br>Date=%{x}<br>Number of Deaths=%{y}<extra></extra>",
         "legendgroup": "Ovenbird ",
         "marker": {
          "color": "#00cc96",
          "pattern": {
           "shape": ""
          }
         },
         "name": "Ovenbird ",
         "offsetgroup": "Ovenbird ",
         "orientation": "v",
         "showlegend": true,
         "textposition": "auto",
         "type": "bar",
         "x": [
          "2014-07-02T00:00:00",
          "2014-07-07T00:00:00",
          "2014-08-25T00:00:00"
         ],
         "xaxis": "x",
         "y": [
          1,
          1,
          1
         ],
         "yaxis": "y"
        },
        {
         "alignmentgroup": "True",
         "hovertemplate": "Bird Species=Louisiana Waterthrush <br>Date=%{x}<br>Number of Deaths=%{y}<extra></extra>",
         "legendgroup": "Louisiana Waterthrush ",
         "marker": {
          "color": "#ab63fa",
          "pattern": {
           "shape": ""
          }
         },
         "name": "Louisiana Waterthrush ",
         "offsetgroup": "Louisiana Waterthrush ",
         "orientation": "v",
         "showlegend": true,
         "textposition": "auto",
         "type": "bar",
         "x": [
          "2014-07-07T00:00:00"
         ],
         "xaxis": "x",
         "y": [
          1
         ],
         "yaxis": "y"
        },
        {
         "alignmentgroup": "True",
         "hovertemplate": "Bird Species=Yellow-throated Vireo <br>Date=%{x}<br>Number of Deaths=%{y}<extra></extra>",
         "legendgroup": "Yellow-throated Vireo ",
         "marker": {
          "color": "#FFA15A",
          "pattern": {
           "shape": ""
          }
         },
         "name": "Yellow-throated Vireo ",
         "offsetgroup": "Yellow-throated Vireo ",
         "orientation": "v",
         "showlegend": true,
         "textposition": "auto",
         "type": "bar",
         "x": [
          "2014-07-16T00:00:00"
         ],
         "xaxis": "x",
         "y": [
          1
         ],
         "yaxis": "y"
        },
        {
         "alignmentgroup": "True",
         "hovertemplate": "Bird Species=Field Sparrow <br>Date=%{x}<br>Number of Deaths=%{y}<extra></extra>",
         "legendgroup": "Field Sparrow ",
         "marker": {
          "color": "#19d3f3",
          "pattern": {
           "shape": ""
          }
         },
         "name": "Field Sparrow ",
         "offsetgroup": "Field Sparrow ",
         "orientation": "v",
         "showlegend": true,
         "textposition": "auto",
         "type": "bar",
         "x": [
          "2014-07-30T00:00:00"
         ],
         "xaxis": "x",
         "y": [
          1
         ],
         "yaxis": "y"
        },
        {
         "alignmentgroup": "True",
         "hovertemplate": "Bird Species=Common Nighthawk <br>Date=%{x}<br>Number of Deaths=%{y}<extra></extra>",
         "legendgroup": "Common Nighthawk ",
         "marker": {
          "color": "#FF6692",
          "pattern": {
           "shape": ""
          }
         },
         "name": "Common Nighthawk ",
         "offsetgroup": "Common Nighthawk ",
         "orientation": "v",
         "showlegend": true,
         "textposition": "auto",
         "type": "bar",
         "x": [
          "2014-09-03T00:00:00"
         ],
         "xaxis": "x",
         "y": [
          1
         ],
         "yaxis": "y"
        },
        {
         "alignmentgroup": "True",
         "hovertemplate": "Bird Species=Black-throated Green Warbler <br>Date=%{x}<br>Number of Deaths=%{y}<extra></extra>",
         "legendgroup": "Black-throated Green Warbler ",
         "marker": {
          "color": "#B6E880",
          "pattern": {
           "shape": ""
          }
         },
         "name": "Black-throated Green Warbler ",
         "offsetgroup": "Black-throated Green Warbler ",
         "orientation": "v",
         "showlegend": true,
         "textposition": "auto",
         "type": "bar",
         "x": [
          "2014-09-15T00:00:00",
          "2014-09-24T00:00:00"
         ],
         "xaxis": "x",
         "y": [
          1,
          1
         ],
         "yaxis": "y"
        },
        {
         "alignmentgroup": "True",
         "hovertemplate": "Bird Species=Yellow Warbler<br>Date=%{x}<br>Number of Deaths=%{y}<extra></extra>",
         "legendgroup": "Yellow Warbler",
         "marker": {
          "color": "#FF97FF",
          "pattern": {
           "shape": ""
          }
         },
         "name": "Yellow Warbler",
         "offsetgroup": "Yellow Warbler",
         "orientation": "v",
         "showlegend": true,
         "textposition": "auto",
         "type": "bar",
         "x": [
          "2014-09-18T00:00:00"
         ],
         "xaxis": "x",
         "y": [
          1
         ],
         "yaxis": "y"
        },
        {
         "alignmentgroup": "True",
         "hovertemplate": "Bird Species=Northern Waterthrush <br>Date=%{x}<br>Number of Deaths=%{y}<extra></extra>",
         "legendgroup": "Northern Waterthrush ",
         "marker": {
          "color": "#FECB52",
          "pattern": {
           "shape": ""
          }
         },
         "name": "Northern Waterthrush ",
         "offsetgroup": "Northern Waterthrush ",
         "orientation": "v",
         "showlegend": true,
         "textposition": "auto",
         "type": "bar",
         "x": [
          "2014-09-19T00:00:00"
         ],
         "xaxis": "x",
         "y": [
          1
         ],
         "yaxis": "y"
        },
        {
         "alignmentgroup": "True",
         "hovertemplate": "Bird Species=Thrush spp.<br>Date=%{x}<br>Number of Deaths=%{y}<extra></extra>",
         "legendgroup": "Thrush spp.",
         "marker": {
          "color": "#636efa",
          "pattern": {
           "shape": ""
          }
         },
         "name": "Thrush spp.",
         "offsetgroup": "Thrush spp.",
         "orientation": "v",
         "showlegend": true,
         "textposition": "auto",
         "type": "bar",
         "x": [
          "2014-09-19T00:00:00"
         ],
         "xaxis": "x",
         "y": [
          1
         ],
         "yaxis": "y"
        },
        {
         "alignmentgroup": "True",
         "hovertemplate": "Bird Species=Black-throated Blue Warbler <br>Date=%{x}<br>Number of Deaths=%{y}<extra></extra>",
         "legendgroup": "Black-throated Blue Warbler ",
         "marker": {
          "color": "#EF553B",
          "pattern": {
           "shape": ""
          }
         },
         "name": "Black-throated Blue Warbler ",
         "offsetgroup": "Black-throated Blue Warbler ",
         "orientation": "v",
         "showlegend": true,
         "textposition": "auto",
         "type": "bar",
         "x": [
          "2014-09-19T00:00:00"
         ],
         "xaxis": "x",
         "y": [
          1
         ],
         "yaxis": "y"
        },
        {
         "alignmentgroup": "True",
         "hovertemplate": "Bird Species=Scarlet Tanager <br>Date=%{x}<br>Number of Deaths=%{y}<extra></extra>",
         "legendgroup": "Scarlet Tanager ",
         "marker": {
          "color": "#00cc96",
          "pattern": {
           "shape": ""
          }
         },
         "name": "Scarlet Tanager ",
         "offsetgroup": "Scarlet Tanager ",
         "orientation": "v",
         "showlegend": true,
         "textposition": "auto",
         "type": "bar",
         "x": [
          "2014-09-22T00:00:00"
         ],
         "xaxis": "x",
         "y": [
          1
         ],
         "yaxis": "y"
        },
        {
         "alignmentgroup": "True",
         "hovertemplate": "Bird Species=Palm Warbler<br>Date=%{x}<br>Number of Deaths=%{y}<extra></extra>",
         "legendgroup": "Palm Warbler",
         "marker": {
          "color": "#ab63fa",
          "pattern": {
           "shape": ""
          }
         },
         "name": "Palm Warbler",
         "offsetgroup": "Palm Warbler",
         "orientation": "v",
         "showlegend": true,
         "textposition": "auto",
         "type": "bar",
         "x": [
          "2014-09-22T00:00:00"
         ],
         "xaxis": "x",
         "y": [
          1
         ],
         "yaxis": "y"
        },
        {
         "alignmentgroup": "True",
         "hovertemplate": "Bird Species=Tennessee Warbler <br>Date=%{x}<br>Number of Deaths=%{y}<extra></extra>",
         "legendgroup": "Tennessee Warbler ",
         "marker": {
          "color": "#FFA15A",
          "pattern": {
           "shape": ""
          }
         },
         "name": "Tennessee Warbler ",
         "offsetgroup": "Tennessee Warbler ",
         "orientation": "v",
         "showlegend": true,
         "textposition": "auto",
         "type": "bar",
         "x": [
          "2014-09-28T00:00:00"
         ],
         "xaxis": "x",
         "y": [
          1
         ],
         "yaxis": "y"
        },
        {
         "alignmentgroup": "True",
         "hovertemplate": "Bird Species=Chestnut-sided Warbler <br>Date=%{x}<br>Number of Deaths=%{y}<extra></extra>",
         "legendgroup": "Chestnut-sided Warbler ",
         "marker": {
          "color": "#19d3f3",
          "pattern": {
           "shape": ""
          }
         },
         "name": "Chestnut-sided Warbler ",
         "offsetgroup": "Chestnut-sided Warbler ",
         "orientation": "v",
         "showlegend": true,
         "textposition": "auto",
         "type": "bar",
         "x": [
          "2014-10-05T00:00:00"
         ],
         "xaxis": "x",
         "y": [
          1
         ],
         "yaxis": "y"
        },
        {
         "alignmentgroup": "True",
         "hovertemplate": "Bird Species=Red-eyed Vireo <br>Date=%{x}<br>Number of Deaths=%{y}<extra></extra>",
         "legendgroup": "Red-eyed Vireo ",
         "marker": {
          "color": "#FF6692",
          "pattern": {
           "shape": ""
          }
         },
         "name": "Red-eyed Vireo ",
         "offsetgroup": "Red-eyed Vireo ",
         "orientation": "v",
         "showlegend": true,
         "textposition": "auto",
         "type": "bar",
         "x": [
          "2014-10-13T00:00:00"
         ],
         "xaxis": "x",
         "y": [
          1
         ],
         "yaxis": "y"
        },
        {
         "alignmentgroup": "True",
         "hovertemplate": "Bird Species=Tufted Titmouse <br>Date=%{x}<br>Number of Deaths=%{y}<extra></extra>",
         "legendgroup": "Tufted Titmouse ",
         "marker": {
          "color": "#B6E880",
          "pattern": {
           "shape": ""
          }
         },
         "name": "Tufted Titmouse ",
         "offsetgroup": "Tufted Titmouse ",
         "orientation": "v",
         "showlegend": true,
         "textposition": "auto",
         "type": "bar",
         "x": [
          "2014-10-15T00:00:00"
         ],
         "xaxis": "x",
         "y": [
          1
         ],
         "yaxis": "y"
        },
        {
         "alignmentgroup": "True",
         "hovertemplate": "Bird Species=woodpecker spp<br>Date=%{x}<br>Number of Deaths=%{y}<extra></extra>",
         "legendgroup": "woodpecker spp",
         "marker": {
          "color": "#FF97FF",
          "pattern": {
           "shape": ""
          }
         },
         "name": "woodpecker spp",
         "offsetgroup": "woodpecker spp",
         "orientation": "v",
         "showlegend": true,
         "textposition": "auto",
         "type": "bar",
         "x": [
          "2014-10-19T00:00:00"
         ],
         "xaxis": "x",
         "y": [
          1
         ],
         "yaxis": "y"
        },
        {
         "alignmentgroup": "True",
         "hovertemplate": "Bird Species=Yellow-bellied Sapsucker<br>Date=%{x}<br>Number of Deaths=%{y}<extra></extra>",
         "legendgroup": "Yellow-bellied Sapsucker",
         "marker": {
          "color": "#FECB52",
          "pattern": {
           "shape": ""
          }
         },
         "name": "Yellow-bellied Sapsucker",
         "offsetgroup": "Yellow-bellied Sapsucker",
         "orientation": "v",
         "showlegend": true,
         "textposition": "auto",
         "type": "bar",
         "x": [
          "2014-10-30T00:00:00",
          "2015-01-13T00:00:00"
         ],
         "xaxis": "x",
         "y": [
          1,
          1
         ],
         "yaxis": "y"
        },
        {
         "alignmentgroup": "True",
         "hovertemplate": "Bird Species=Blue-headed Vireo<br>Date=%{x}<br>Number of Deaths=%{y}<extra></extra>",
         "legendgroup": "Blue-headed Vireo",
         "marker": {
          "color": "#636efa",
          "pattern": {
           "shape": ""
          }
         },
         "name": "Blue-headed Vireo",
         "offsetgroup": "Blue-headed Vireo",
         "orientation": "v",
         "showlegend": true,
         "textposition": "auto",
         "type": "bar",
         "x": [
          "2014-11-03T00:00:00"
         ],
         "xaxis": "x",
         "y": [
          1
         ],
         "yaxis": "y"
        },
        {
         "alignmentgroup": "True",
         "hovertemplate": "Bird Species=Brown Creeper<br>Date=%{x}<br>Number of Deaths=%{y}<extra></extra>",
         "legendgroup": "Brown Creeper",
         "marker": {
          "color": "#EF553B",
          "pattern": {
           "shape": ""
          }
         },
         "name": "Brown Creeper",
         "offsetgroup": "Brown Creeper",
         "orientation": "v",
         "showlegend": true,
         "textposition": "auto",
         "type": "bar",
         "x": [
          "2014-11-04T00:00:00"
         ],
         "xaxis": "x",
         "y": [
          1
         ],
         "yaxis": "y"
        },
        {
         "alignmentgroup": "True",
         "hovertemplate": "Bird Species=American Woodcock<br>Date=%{x}<br>Number of Deaths=%{y}<extra></extra>",
         "legendgroup": "American Woodcock",
         "marker": {
          "color": "#00cc96",
          "pattern": {
           "shape": ""
          }
         },
         "name": "American Woodcock",
         "offsetgroup": "American Woodcock",
         "orientation": "v",
         "showlegend": true,
         "textposition": "auto",
         "type": "bar",
         "x": [
          "2014-12-01T00:00:00"
         ],
         "xaxis": "x",
         "y": [
          1
         ],
         "yaxis": "y"
        },
        {
         "alignmentgroup": "True",
         "hovertemplate": "Bird Species=American Pipit<br>Date=%{x}<br>Number of Deaths=%{y}<extra></extra>",
         "legendgroup": "American Pipit",
         "marker": {
          "color": "#ab63fa",
          "pattern": {
           "shape": ""
          }
         },
         "name": "American Pipit",
         "offsetgroup": "American Pipit",
         "orientation": "v",
         "showlegend": true,
         "textposition": "auto",
         "type": "bar",
         "x": [
          "2014-12-01T00:00:00"
         ],
         "xaxis": "x",
         "y": [
          1
         ],
         "yaxis": "y"
        },
        {
         "alignmentgroup": "True",
         "hovertemplate": "Bird Species=White-crowned Sparrow<br>Date=%{x}<br>Number of Deaths=%{y}<extra></extra>",
         "legendgroup": "White-crowned Sparrow",
         "marker": {
          "color": "#FFA15A",
          "pattern": {
           "shape": ""
          }
         },
         "name": "White-crowned Sparrow",
         "offsetgroup": "White-crowned Sparrow",
         "orientation": "v",
         "showlegend": true,
         "textposition": "auto",
         "type": "bar",
         "x": [
          "2014-12-02T00:00:00"
         ],
         "xaxis": "x",
         "y": [
          1
         ],
         "yaxis": "y"
        },
        {
         "alignmentgroup": "True",
         "hovertemplate": "Bird Species=Northern Cardinal<br>Date=%{x}<br>Number of Deaths=%{y}<extra></extra>",
         "legendgroup": "Northern Cardinal",
         "marker": {
          "color": "#19d3f3",
          "pattern": {
           "shape": ""
          }
         },
         "name": "Northern Cardinal",
         "offsetgroup": "Northern Cardinal",
         "orientation": "v",
         "showlegend": true,
         "textposition": "auto",
         "type": "bar",
         "x": [
          "2015-01-14T00:00:00"
         ],
         "xaxis": "x",
         "y": [
          1
         ],
         "yaxis": "y"
        },
        {
         "alignmentgroup": "True",
         "hovertemplate": "Bird Species=Song Sparrow<br>Date=%{x}<br>Number of Deaths=%{y}<extra></extra>",
         "legendgroup": "Song Sparrow",
         "marker": {
          "color": "#FF6692",
          "pattern": {
           "shape": ""
          }
         },
         "name": "Song Sparrow",
         "offsetgroup": "Song Sparrow",
         "orientation": "v",
         "showlegend": true,
         "textposition": "auto",
         "type": "bar",
         "x": [
          "2015-03-22T00:00:00"
         ],
         "xaxis": "x",
         "y": [
          1
         ],
         "yaxis": "y"
        },
        {
         "alignmentgroup": "True",
         "hovertemplate": "Bird Species=Brown Thrasher<br>Date=%{x}<br>Number of Deaths=%{y}<extra></extra>",
         "legendgroup": "Brown Thrasher",
         "marker": {
          "color": "#B6E880",
          "pattern": {
           "shape": ""
          }
         },
         "name": "Brown Thrasher",
         "offsetgroup": "Brown Thrasher",
         "orientation": "v",
         "showlegend": true,
         "textposition": "auto",
         "type": "bar",
         "x": [
          "2015-04-27T00:00:00"
         ],
         "xaxis": "x",
         "y": [
          1
         ],
         "yaxis": "y"
        },
        {
         "alignmentgroup": "True",
         "hovertemplate": "Bird Species=Ruby-throated Hummingbird<br>Date=%{x}<br>Number of Deaths=%{y}<extra></extra>",
         "legendgroup": "Ruby-throated Hummingbird",
         "marker": {
          "color": "#FF97FF",
          "pattern": {
           "shape": ""
          }
         },
         "name": "Ruby-throated Hummingbird",
         "offsetgroup": "Ruby-throated Hummingbird",
         "orientation": "v",
         "showlegend": true,
         "textposition": "auto",
         "type": "bar",
         "x": [
          "2015-04-28T00:00:00",
          "2015-05-13T00:00:00"
         ],
         "xaxis": "x",
         "y": [
          1,
          1
         ],
         "yaxis": "y"
        },
        {
         "alignmentgroup": "True",
         "hovertemplate": "Bird Species=Gray Catbird<br>Date=%{x}<br>Number of Deaths=%{y}<extra></extra>",
         "legendgroup": "Gray Catbird",
         "marker": {
          "color": "#FECB52",
          "pattern": {
           "shape": ""
          }
         },
         "name": "Gray Catbird",
         "offsetgroup": "Gray Catbird",
         "orientation": "v",
         "showlegend": true,
         "textposition": "auto",
         "type": "bar",
         "x": [
          "2015-05-04T00:00:00",
          "2015-05-13T00:00:00"
         ],
         "xaxis": "x",
         "y": [
          1,
          1
         ],
         "yaxis": "y"
        },
        {
         "alignmentgroup": "True",
         "hovertemplate": "Bird Species=Easterm Kingbird<br>Date=%{x}<br>Number of Deaths=%{y}<extra></extra>",
         "legendgroup": "Easterm Kingbird",
         "marker": {
          "color": "#636efa",
          "pattern": {
           "shape": ""
          }
         },
         "name": "Easterm Kingbird",
         "offsetgroup": "Easterm Kingbird",
         "orientation": "v",
         "showlegend": true,
         "textposition": "auto",
         "type": "bar",
         "x": [
          "2015-05-04T00:00:00",
          "2015-05-04T00:00:00"
         ],
         "xaxis": "x",
         "y": [
          1,
          1
         ],
         "yaxis": "y"
        },
        {
         "alignmentgroup": "True",
         "hovertemplate": "Bird Species=Ruby-crowned Kinglet<br>Date=%{x}<br>Number of Deaths=%{y}<extra></extra>",
         "legendgroup": "Ruby-crowned Kinglet",
         "marker": {
          "color": "#EF553B",
          "pattern": {
           "shape": ""
          }
         },
         "name": "Ruby-crowned Kinglet",
         "offsetgroup": "Ruby-crowned Kinglet",
         "orientation": "v",
         "showlegend": true,
         "textposition": "auto",
         "type": "bar",
         "x": [
          "2015-05-06T00:00:00"
         ],
         "xaxis": "x",
         "y": [
          1
         ],
         "yaxis": "y"
        },
        {
         "alignmentgroup": "True",
         "hovertemplate": "Bird Species=Worm-eating Warbler<br>Date=%{x}<br>Number of Deaths=%{y}<extra></extra>",
         "legendgroup": "Worm-eating Warbler",
         "marker": {
          "color": "#00cc96",
          "pattern": {
           "shape": ""
          }
         },
         "name": "Worm-eating Warbler",
         "offsetgroup": "Worm-eating Warbler",
         "orientation": "v",
         "showlegend": true,
         "textposition": "auto",
         "type": "bar",
         "x": [
          "2015-05-06T00:00:00"
         ],
         "xaxis": "x",
         "y": [
          1
         ],
         "yaxis": "y"
        },
        {
         "alignmentgroup": "True",
         "hovertemplate": "Bird Species=Killdeer<br>Date=%{x}<br>Number of Deaths=%{y}<extra></extra>",
         "legendgroup": "Killdeer",
         "marker": {
          "color": "#ab63fa",
          "pattern": {
           "shape": ""
          }
         },
         "name": "Killdeer",
         "offsetgroup": "Killdeer",
         "orientation": "v",
         "showlegend": true,
         "textposition": "auto",
         "type": "bar",
         "x": [
          "2015-05-20T00:00:00"
         ],
         "xaxis": "x",
         "y": [
          1
         ],
         "yaxis": "y"
        },
        {
         "alignmentgroup": "True",
         "hovertemplate": "Bird Species=Northern Flicker<br>Date=%{x}<br>Number of Deaths=%{y}<extra></extra>",
         "legendgroup": "Northern Flicker",
         "marker": {
          "color": "#FFA15A",
          "pattern": {
           "shape": ""
          }
         },
         "name": "Northern Flicker",
         "offsetgroup": "Northern Flicker",
         "orientation": "v",
         "showlegend": true,
         "textposition": "auto",
         "type": "bar",
         "x": [
          "2015-05-20T00:00:00"
         ],
         "xaxis": "x",
         "y": [
          1
         ],
         "yaxis": "y"
        }
       ],
       "layout": {
        "barmode": "relative",
        "legend": {
         "title": {
          "text": "Bird Species"
         },
         "tracegroupgap": 0
        },
        "template": {
         "data": {
          "bar": [
           {
            "error_x": {
             "color": "#2a3f5f"
            },
            "error_y": {
             "color": "#2a3f5f"
            },
            "marker": {
             "line": {
              "color": "#E5ECF6",
              "width": 0.5
             },
             "pattern": {
              "fillmode": "overlay",
              "size": 10,
              "solidity": 0.2
             }
            },
            "type": "bar"
           }
          ],
          "barpolar": [
           {
            "marker": {
             "line": {
              "color": "#E5ECF6",
              "width": 0.5
             },
             "pattern": {
              "fillmode": "overlay",
              "size": 10,
              "solidity": 0.2
             }
            },
            "type": "barpolar"
           }
          ],
          "carpet": [
           {
            "aaxis": {
             "endlinecolor": "#2a3f5f",
             "gridcolor": "white",
             "linecolor": "white",
             "minorgridcolor": "white",
             "startlinecolor": "#2a3f5f"
            },
            "baxis": {
             "endlinecolor": "#2a3f5f",
             "gridcolor": "white",
             "linecolor": "white",
             "minorgridcolor": "white",
             "startlinecolor": "#2a3f5f"
            },
            "type": "carpet"
           }
          ],
          "choropleth": [
           {
            "colorbar": {
             "outlinewidth": 0,
             "ticks": ""
            },
            "type": "choropleth"
           }
          ],
          "contour": [
           {
            "colorbar": {
             "outlinewidth": 0,
             "ticks": ""
            },
            "colorscale": [
             [
              0,
              "#0d0887"
             ],
             [
              0.1111111111111111,
              "#46039f"
             ],
             [
              0.2222222222222222,
              "#7201a8"
             ],
             [
              0.3333333333333333,
              "#9c179e"
             ],
             [
              0.4444444444444444,
              "#bd3786"
             ],
             [
              0.5555555555555556,
              "#d8576b"
             ],
             [
              0.6666666666666666,
              "#ed7953"
             ],
             [
              0.7777777777777778,
              "#fb9f3a"
             ],
             [
              0.8888888888888888,
              "#fdca26"
             ],
             [
              1,
              "#f0f921"
             ]
            ],
            "type": "contour"
           }
          ],
          "contourcarpet": [
           {
            "colorbar": {
             "outlinewidth": 0,
             "ticks": ""
            },
            "type": "contourcarpet"
           }
          ],
          "heatmap": [
           {
            "colorbar": {
             "outlinewidth": 0,
             "ticks": ""
            },
            "colorscale": [
             [
              0,
              "#0d0887"
             ],
             [
              0.1111111111111111,
              "#46039f"
             ],
             [
              0.2222222222222222,
              "#7201a8"
             ],
             [
              0.3333333333333333,
              "#9c179e"
             ],
             [
              0.4444444444444444,
              "#bd3786"
             ],
             [
              0.5555555555555556,
              "#d8576b"
             ],
             [
              0.6666666666666666,
              "#ed7953"
             ],
             [
              0.7777777777777778,
              "#fb9f3a"
             ],
             [
              0.8888888888888888,
              "#fdca26"
             ],
             [
              1,
              "#f0f921"
             ]
            ],
            "type": "heatmap"
           }
          ],
          "heatmapgl": [
           {
            "colorbar": {
             "outlinewidth": 0,
             "ticks": ""
            },
            "colorscale": [
             [
              0,
              "#0d0887"
             ],
             [
              0.1111111111111111,
              "#46039f"
             ],
             [
              0.2222222222222222,
              "#7201a8"
             ],
             [
              0.3333333333333333,
              "#9c179e"
             ],
             [
              0.4444444444444444,
              "#bd3786"
             ],
             [
              0.5555555555555556,
              "#d8576b"
             ],
             [
              0.6666666666666666,
              "#ed7953"
             ],
             [
              0.7777777777777778,
              "#fb9f3a"
             ],
             [
              0.8888888888888888,
              "#fdca26"
             ],
             [
              1,
              "#f0f921"
             ]
            ],
            "type": "heatmapgl"
           }
          ],
          "histogram": [
           {
            "marker": {
             "pattern": {
              "fillmode": "overlay",
              "size": 10,
              "solidity": 0.2
             }
            },
            "type": "histogram"
           }
          ],
          "histogram2d": [
           {
            "colorbar": {
             "outlinewidth": 0,
             "ticks": ""
            },
            "colorscale": [
             [
              0,
              "#0d0887"
             ],
             [
              0.1111111111111111,
              "#46039f"
             ],
             [
              0.2222222222222222,
              "#7201a8"
             ],
             [
              0.3333333333333333,
              "#9c179e"
             ],
             [
              0.4444444444444444,
              "#bd3786"
             ],
             [
              0.5555555555555556,
              "#d8576b"
             ],
             [
              0.6666666666666666,
              "#ed7953"
             ],
             [
              0.7777777777777778,
              "#fb9f3a"
             ],
             [
              0.8888888888888888,
              "#fdca26"
             ],
             [
              1,
              "#f0f921"
             ]
            ],
            "type": "histogram2d"
           }
          ],
          "histogram2dcontour": [
           {
            "colorbar": {
             "outlinewidth": 0,
             "ticks": ""
            },
            "colorscale": [
             [
              0,
              "#0d0887"
             ],
             [
              0.1111111111111111,
              "#46039f"
             ],
             [
              0.2222222222222222,
              "#7201a8"
             ],
             [
              0.3333333333333333,
              "#9c179e"
             ],
             [
              0.4444444444444444,
              "#bd3786"
             ],
             [
              0.5555555555555556,
              "#d8576b"
             ],
             [
              0.6666666666666666,
              "#ed7953"
             ],
             [
              0.7777777777777778,
              "#fb9f3a"
             ],
             [
              0.8888888888888888,
              "#fdca26"
             ],
             [
              1,
              "#f0f921"
             ]
            ],
            "type": "histogram2dcontour"
           }
          ],
          "mesh3d": [
           {
            "colorbar": {
             "outlinewidth": 0,
             "ticks": ""
            },
            "type": "mesh3d"
           }
          ],
          "parcoords": [
           {
            "line": {
             "colorbar": {
              "outlinewidth": 0,
              "ticks": ""
             }
            },
            "type": "parcoords"
           }
          ],
          "pie": [
           {
            "automargin": true,
            "type": "pie"
           }
          ],
          "scatter": [
           {
            "fillpattern": {
             "fillmode": "overlay",
             "size": 10,
             "solidity": 0.2
            },
            "type": "scatter"
           }
          ],
          "scatter3d": [
           {
            "line": {
             "colorbar": {
              "outlinewidth": 0,
              "ticks": ""
             }
            },
            "marker": {
             "colorbar": {
              "outlinewidth": 0,
              "ticks": ""
             }
            },
            "type": "scatter3d"
           }
          ],
          "scattercarpet": [
           {
            "marker": {
             "colorbar": {
              "outlinewidth": 0,
              "ticks": ""
             }
            },
            "type": "scattercarpet"
           }
          ],
          "scattergeo": [
           {
            "marker": {
             "colorbar": {
              "outlinewidth": 0,
              "ticks": ""
             }
            },
            "type": "scattergeo"
           }
          ],
          "scattergl": [
           {
            "marker": {
             "colorbar": {
              "outlinewidth": 0,
              "ticks": ""
             }
            },
            "type": "scattergl"
           }
          ],
          "scattermapbox": [
           {
            "marker": {
             "colorbar": {
              "outlinewidth": 0,
              "ticks": ""
             }
            },
            "type": "scattermapbox"
           }
          ],
          "scatterpolar": [
           {
            "marker": {
             "colorbar": {
              "outlinewidth": 0,
              "ticks": ""
             }
            },
            "type": "scatterpolar"
           }
          ],
          "scatterpolargl": [
           {
            "marker": {
             "colorbar": {
              "outlinewidth": 0,
              "ticks": ""
             }
            },
            "type": "scatterpolargl"
           }
          ],
          "scatterternary": [
           {
            "marker": {
             "colorbar": {
              "outlinewidth": 0,
              "ticks": ""
             }
            },
            "type": "scatterternary"
           }
          ],
          "surface": [
           {
            "colorbar": {
             "outlinewidth": 0,
             "ticks": ""
            },
            "colorscale": [
             [
              0,
              "#0d0887"
             ],
             [
              0.1111111111111111,
              "#46039f"
             ],
             [
              0.2222222222222222,
              "#7201a8"
             ],
             [
              0.3333333333333333,
              "#9c179e"
             ],
             [
              0.4444444444444444,
              "#bd3786"
             ],
             [
              0.5555555555555556,
              "#d8576b"
             ],
             [
              0.6666666666666666,
              "#ed7953"
             ],
             [
              0.7777777777777778,
              "#fb9f3a"
             ],
             [
              0.8888888888888888,
              "#fdca26"
             ],
             [
              1,
              "#f0f921"
             ]
            ],
            "type": "surface"
           }
          ],
          "table": [
           {
            "cells": {
             "fill": {
              "color": "#EBF0F8"
             },
             "line": {
              "color": "white"
             }
            },
            "header": {
             "fill": {
              "color": "#C8D4E3"
             },
             "line": {
              "color": "white"
             }
            },
            "type": "table"
           }
          ]
         },
         "layout": {
          "annotationdefaults": {
           "arrowcolor": "#2a3f5f",
           "arrowhead": 0,
           "arrowwidth": 1
          },
          "autotypenumbers": "strict",
          "coloraxis": {
           "colorbar": {
            "outlinewidth": 0,
            "ticks": ""
           }
          },
          "colorscale": {
           "diverging": [
            [
             0,
             "#8e0152"
            ],
            [
             0.1,
             "#c51b7d"
            ],
            [
             0.2,
             "#de77ae"
            ],
            [
             0.3,
             "#f1b6da"
            ],
            [
             0.4,
             "#fde0ef"
            ],
            [
             0.5,
             "#f7f7f7"
            ],
            [
             0.6,
             "#e6f5d0"
            ],
            [
             0.7,
             "#b8e186"
            ],
            [
             0.8,
             "#7fbc41"
            ],
            [
             0.9,
             "#4d9221"
            ],
            [
             1,
             "#276419"
            ]
           ],
           "sequential": [
            [
             0,
             "#0d0887"
            ],
            [
             0.1111111111111111,
             "#46039f"
            ],
            [
             0.2222222222222222,
             "#7201a8"
            ],
            [
             0.3333333333333333,
             "#9c179e"
            ],
            [
             0.4444444444444444,
             "#bd3786"
            ],
            [
             0.5555555555555556,
             "#d8576b"
            ],
            [
             0.6666666666666666,
             "#ed7953"
            ],
            [
             0.7777777777777778,
             "#fb9f3a"
            ],
            [
             0.8888888888888888,
             "#fdca26"
            ],
            [
             1,
             "#f0f921"
            ]
           ],
           "sequentialminus": [
            [
             0,
             "#0d0887"
            ],
            [
             0.1111111111111111,
             "#46039f"
            ],
            [
             0.2222222222222222,
             "#7201a8"
            ],
            [
             0.3333333333333333,
             "#9c179e"
            ],
            [
             0.4444444444444444,
             "#bd3786"
            ],
            [
             0.5555555555555556,
             "#d8576b"
            ],
            [
             0.6666666666666666,
             "#ed7953"
            ],
            [
             0.7777777777777778,
             "#fb9f3a"
            ],
            [
             0.8888888888888888,
             "#fdca26"
            ],
            [
             1,
             "#f0f921"
            ]
           ]
          },
          "colorway": [
           "#636efa",
           "#EF553B",
           "#00cc96",
           "#ab63fa",
           "#FFA15A",
           "#19d3f3",
           "#FF6692",
           "#B6E880",
           "#FF97FF",
           "#FECB52"
          ],
          "font": {
           "color": "#2a3f5f"
          },
          "geo": {
           "bgcolor": "white",
           "lakecolor": "white",
           "landcolor": "#E5ECF6",
           "showlakes": true,
           "showland": true,
           "subunitcolor": "white"
          },
          "hoverlabel": {
           "align": "left"
          },
          "hovermode": "closest",
          "mapbox": {
           "style": "light"
          },
          "paper_bgcolor": "white",
          "plot_bgcolor": "#E5ECF6",
          "polar": {
           "angularaxis": {
            "gridcolor": "white",
            "linecolor": "white",
            "ticks": ""
           },
           "bgcolor": "#E5ECF6",
           "radialaxis": {
            "gridcolor": "white",
            "linecolor": "white",
            "ticks": ""
           }
          },
          "scene": {
           "xaxis": {
            "backgroundcolor": "#E5ECF6",
            "gridcolor": "white",
            "gridwidth": 2,
            "linecolor": "white",
            "showbackground": true,
            "ticks": "",
            "zerolinecolor": "white"
           },
           "yaxis": {
            "backgroundcolor": "#E5ECF6",
            "gridcolor": "white",
            "gridwidth": 2,
            "linecolor": "white",
            "showbackground": true,
            "ticks": "",
            "zerolinecolor": "white"
           },
           "zaxis": {
            "backgroundcolor": "#E5ECF6",
            "gridcolor": "white",
            "gridwidth": 2,
            "linecolor": "white",
            "showbackground": true,
            "ticks": "",
            "zerolinecolor": "white"
           }
          },
          "shapedefaults": {
           "line": {
            "color": "#2a3f5f"
           }
          },
          "ternary": {
           "aaxis": {
            "gridcolor": "white",
            "linecolor": "white",
            "ticks": ""
           },
           "baxis": {
            "gridcolor": "white",
            "linecolor": "white",
            "ticks": ""
           },
           "bgcolor": "#E5ECF6",
           "caxis": {
            "gridcolor": "white",
            "linecolor": "white",
            "ticks": ""
           }
          },
          "title": {
           "x": 0.05
          },
          "xaxis": {
           "automargin": true,
           "gridcolor": "white",
           "linecolor": "white",
           "ticks": "",
           "title": {
            "standoff": 15
           },
           "zerolinecolor": "white",
           "zerolinewidth": 2
          },
          "yaxis": {
           "automargin": true,
           "gridcolor": "white",
           "linecolor": "white",
           "ticks": "",
           "title": {
            "standoff": 15
           },
           "zerolinecolor": "white",
           "zerolinewidth": 2
          }
         }
        },
        "title": {
         "text": "Bird Deaths Over Time"
        },
        "xaxis": {
         "anchor": "y",
         "domain": [
          0,
          1
         ],
         "title": {
          "text": "Date"
         }
        },
        "yaxis": {
         "anchor": "x",
         "domain": [
          0,
          1
         ],
         "title": {
          "text": "Number of Deaths"
         }
        }
       }
      },
      "text/html": [
       "<div>                            <div id=\"d61c6c09-5e1f-40f8-abe1-f3db89333442\" class=\"plotly-graph-div\" style=\"height:525px; width:100%;\"></div>            <script type=\"text/javascript\">                require([\"plotly\"], function(Plotly) {                    window.PLOTLYENV=window.PLOTLYENV || {};                                    if (document.getElementById(\"d61c6c09-5e1f-40f8-abe1-f3db89333442\")) {                    Plotly.newPlot(                        \"d61c6c09-5e1f-40f8-abe1-f3db89333442\",                        [{\"alignmentgroup\":\"True\",\"hovertemplate\":\"Bird Species=Mourning Dove \\u003cbr\\u003eDate=%{x}\\u003cbr\\u003eNumber of Deaths=%{y}\\u003cextra\\u003e\\u003c\\u002fextra\\u003e\",\"legendgroup\":\"Mourning Dove \",\"marker\":{\"color\":\"#636efa\",\"pattern\":{\"shape\":\"\"}},\"name\":\"Mourning Dove \",\"offsetgroup\":\"Mourning Dove \",\"orientation\":\"v\",\"showlegend\":true,\"textposition\":\"auto\",\"x\":[\"2013-10-19T00:00:00\",\"2013-10-31T00:00:00\",\"2014-03-24T00:00:00\",\"2014-04-16T00:00:00\",\"2014-04-28T00:00:00\",\"2014-05-07T00:00:00\",\"2014-06-04T00:00:00\",\"2014-07-02T00:00:00\",\"2014-07-30T00:00:00\",\"2014-09-17T00:00:00\",\"2014-10-19T00:00:00\",\"2014-11-21T00:00:00\",\"2015-01-29T00:00:00\",\"2015-02-12T00:00:00\"],\"xaxis\":\"x\",\"y\":[1,1,1,1,1,1,1,1,1,1,1,1,1,1],\"yaxis\":\"y\",\"type\":\"bar\"},{\"alignmentgroup\":\"True\",\"hovertemplate\":\"Bird Species=Eastern Towhee \\u003cbr\\u003eDate=%{x}\\u003cbr\\u003eNumber of Deaths=%{y}\\u003cextra\\u003e\\u003c\\u002fextra\\u003e\",\"legendgroup\":\"Eastern Towhee \",\"marker\":{\"color\":\"#EF553B\",\"pattern\":{\"shape\":\"\"}},\"name\":\"Eastern Towhee \",\"offsetgroup\":\"Eastern Towhee \",\"orientation\":\"v\",\"showlegend\":true,\"textposition\":\"auto\",\"x\":[\"2013-10-22T00:00:00\",\"2014-02-03T00:00:00\"],\"xaxis\":\"x\",\"y\":[1,1],\"yaxis\":\"y\",\"type\":\"bar\"},{\"alignmentgroup\":\"True\",\"hovertemplate\":\"Bird Species=Hermit Thrush \\u003cbr\\u003eDate=%{x}\\u003cbr\\u003eNumber of Deaths=%{y}\\u003cextra\\u003e\\u003c\\u002fextra\\u003e\",\"legendgroup\":\"Hermit Thrush \",\"marker\":{\"color\":\"#00cc96\",\"pattern\":{\"shape\":\"\"}},\"name\":\"Hermit Thrush \",\"offsetgroup\":\"Hermit Thrush \",\"orientation\":\"v\",\"showlegend\":true,\"textposition\":\"auto\",\"x\":[\"2013-10-23T00:00:00\",\"2013-11-05T00:00:00\",\"2014-05-08T00:00:00\",\"2014-11-30T00:00:00\"],\"xaxis\":\"x\",\"y\":[1,1,1,1],\"yaxis\":\"y\",\"type\":\"bar\"},{\"alignmentgroup\":\"True\",\"hovertemplate\":\"Bird Species=Golden-crowned Kinglet \\u003cbr\\u003eDate=%{x}\\u003cbr\\u003eNumber of Deaths=%{y}\\u003cextra\\u003e\\u003c\\u002fextra\\u003e\",\"legendgroup\":\"Golden-crowned Kinglet \",\"marker\":{\"color\":\"#ab63fa\",\"pattern\":{\"shape\":\"\"}},\"name\":\"Golden-crowned Kinglet \",\"offsetgroup\":\"Golden-crowned Kinglet \",\"orientation\":\"v\",\"showlegend\":true,\"textposition\":\"auto\",\"x\":[\"2013-10-27T00:00:00\",\"2013-11-07T00:00:00\",\"2013-11-14T00:00:00\",\"2013-12-11T00:00:00\",\"2014-01-09T00:00:00\",\"2014-11-03T00:00:00\",\"2014-11-04T00:00:00\",\"2014-11-10T00:00:00\",\"2014-11-21T00:00:00\"],\"xaxis\":\"x\",\"y\":[1,1,1,1,1,1,1,1,1],\"yaxis\":\"y\",\"type\":\"bar\"},{\"alignmentgroup\":\"True\",\"hovertemplate\":\"Bird Species=Gray Catbird \\u003cbr\\u003eDate=%{x}\\u003cbr\\u003eNumber of Deaths=%{y}\\u003cextra\\u003e\\u003c\\u002fextra\\u003e\",\"legendgroup\":\"Gray Catbird \",\"marker\":{\"color\":\"#FFA15A\",\"pattern\":{\"shape\":\"\"}},\"name\":\"Gray Catbird \",\"offsetgroup\":\"Gray Catbird \",\"orientation\":\"v\",\"showlegend\":true,\"textposition\":\"auto\",\"x\":[\"2013-10-28T00:00:00\",\"2014-05-01T00:00:00\",\"2014-05-01T00:00:00\",\"2014-05-01T00:00:00\",\"2014-05-05T00:00:00\",\"2014-05-07T00:00:00\",\"2014-05-09T00:00:00\",\"2014-05-14T00:00:00\",\"2014-05-14T00:00:00\",\"2014-07-02T00:00:00\",\"2014-08-06T00:00:00\",\"2014-08-20T00:00:00\",\"2014-10-15T00:00:00\"],\"xaxis\":\"x\",\"y\":[1,1,1,1,1,1,1,1,1,1,1,1,1],\"yaxis\":\"y\",\"type\":\"bar\"},{\"alignmentgroup\":\"True\",\"hovertemplate\":\"Bird Species=unknown\\u003cbr\\u003eDate=%{x}\\u003cbr\\u003eNumber of Deaths=%{y}\\u003cextra\\u003e\\u003c\\u002fextra\\u003e\",\"legendgroup\":\"unknown\",\"marker\":{\"color\":\"#19d3f3\",\"pattern\":{\"shape\":\"\"}},\"name\":\"unknown\",\"offsetgroup\":\"unknown\",\"orientation\":\"v\",\"showlegend\":true,\"textposition\":\"auto\",\"x\":[\"2013-10-28T00:00:00\",\"2013-10-28T00:00:00\",\"2013-11-04T00:00:00\",\"2013-11-11T00:00:00\",\"2013-11-25T00:00:00\",\"2014-02-20T00:00:00\",\"2014-03-24T00:00:00\",\"2014-04-06T00:00:00\",\"2014-04-08T00:00:00\",\"2014-04-17T00:00:00\",\"2014-04-21T00:00:00\",\"2014-04-23T00:00:00\",\"2014-04-29T00:00:00\",\"2014-05-19T00:00:00\",\"2014-06-15T00:00:00\",\"2014-06-25T00:00:00\",\"2014-07-13T00:00:00\",\"2014-07-13T00:00:00\",\"2014-07-14T00:00:00\",\"2014-07-16T00:00:00\",\"2014-07-21T00:00:00\",\"2014-07-21T00:00:00\",\"2014-07-21T00:00:00\",\"2014-08-01T00:00:00\",\"2014-08-04T00:00:00\",\"2014-08-26T00:00:00\",\"2014-09-15T00:00:00\",\"2014-09-17T00:00:00\",\"2014-09-17T00:00:00\",\"2014-09-18T00:00:00\",\"2014-09-19T00:00:00\",\"2014-09-21T00:00:00\",\"2014-09-21T00:00:00\",\"2014-10-05T00:00:00\",\"2014-11-12T00:00:00\",\"2014-11-19T00:00:00\",\"2014-11-19T00:00:00\",\"2014-12-02T00:00:00\",\"2015-04-13T00:00:00\",\"2015-04-28T00:00:00\",\"2015-05-27T00:00:00\"],\"xaxis\":\"x\",\"y\":[1,1,1,1,1,1,1,1,1,1,1,1,1,1,1,1,1,1,1,1,1,1,1,1,1,1,1,1,1,1,1,1,1,1,1,1,1,1,1,1,1],\"yaxis\":\"y\",\"type\":\"bar\"},{\"alignmentgroup\":\"True\",\"hovertemplate\":\"Bird Species=Carolina Chickadee \\u003cbr\\u003eDate=%{x}\\u003cbr\\u003eNumber of Deaths=%{y}\\u003cextra\\u003e\\u003c\\u002fextra\\u003e\",\"legendgroup\":\"Carolina Chickadee \",\"marker\":{\"color\":\"#FF6692\",\"pattern\":{\"shape\":\"\"}},\"name\":\"Carolina Chickadee \",\"offsetgroup\":\"Carolina Chickadee \",\"orientation\":\"v\",\"showlegend\":true,\"textposition\":\"auto\",\"x\":[\"2013-10-28T00:00:00\"],\"xaxis\":\"x\",\"y\":[1],\"yaxis\":\"y\",\"type\":\"bar\"},{\"alignmentgroup\":\"True\",\"hovertemplate\":\"Bird Species=White-breasted Nuthatch \\u003cbr\\u003eDate=%{x}\\u003cbr\\u003eNumber of Deaths=%{y}\\u003cextra\\u003e\\u003c\\u002fextra\\u003e\",\"legendgroup\":\"White-breasted Nuthatch \",\"marker\":{\"color\":\"#B6E880\",\"pattern\":{\"shape\":\"\"}},\"name\":\"White-breasted Nuthatch \",\"offsetgroup\":\"White-breasted Nuthatch \",\"orientation\":\"v\",\"showlegend\":true,\"textposition\":\"auto\",\"x\":[\"2013-10-28T00:00:00\"],\"xaxis\":\"x\",\"y\":[1],\"yaxis\":\"y\",\"type\":\"bar\"},{\"alignmentgroup\":\"True\",\"hovertemplate\":\"Bird Species=White-throated Sparrow \\u003cbr\\u003eDate=%{x}\\u003cbr\\u003eNumber of Deaths=%{y}\\u003cextra\\u003e\\u003c\\u002fextra\\u003e\",\"legendgroup\":\"White-throated Sparrow \",\"marker\":{\"color\":\"#FF97FF\",\"pattern\":{\"shape\":\"\"}},\"name\":\"White-throated Sparrow \",\"offsetgroup\":\"White-throated Sparrow \",\"orientation\":\"v\",\"showlegend\":true,\"textposition\":\"auto\",\"x\":[\"2013-11-01T00:00:00\",\"2013-11-08T00:00:00\",\"2013-11-15T00:00:00\",\"2014-03-16T00:00:00\",\"2014-05-05T00:00:00\",\"2014-10-23T00:00:00\",\"2014-11-10T00:00:00\",\"2014-12-02T00:00:00\",\"2014-12-24T00:00:00\"],\"xaxis\":\"x\",\"y\":[1,1,1,1,1,1,1,1,1],\"yaxis\":\"y\",\"type\":\"bar\"},{\"alignmentgroup\":\"True\",\"hovertemplate\":\"Bird Species=Fox Sparrow \\u003cbr\\u003eDate=%{x}\\u003cbr\\u003eNumber of Deaths=%{y}\\u003cextra\\u003e\\u003c\\u002fextra\\u003e\",\"legendgroup\":\"Fox Sparrow \",\"marker\":{\"color\":\"#FECB52\",\"pattern\":{\"shape\":\"\"}},\"name\":\"Fox Sparrow \",\"offsetgroup\":\"Fox Sparrow \",\"orientation\":\"v\",\"showlegend\":true,\"textposition\":\"auto\",\"x\":[\"2013-11-04T00:00:00\"],\"xaxis\":\"x\",\"y\":[1],\"yaxis\":\"y\",\"type\":\"bar\"},{\"alignmentgroup\":\"True\",\"hovertemplate\":\"Bird Species=Song Sparrow \\u003cbr\\u003eDate=%{x}\\u003cbr\\u003eNumber of Deaths=%{y}\\u003cextra\\u003e\\u003c\\u002fextra\\u003e\",\"legendgroup\":\"Song Sparrow \",\"marker\":{\"color\":\"#636efa\",\"pattern\":{\"shape\":\"\"}},\"name\":\"Song Sparrow \",\"offsetgroup\":\"Song Sparrow \",\"orientation\":\"v\",\"showlegend\":true,\"textposition\":\"auto\",\"x\":[\"2013-11-05T00:00:00\",\"2014-03-20T00:00:00\",\"2014-06-15T00:00:00\",\"2014-07-16T00:00:00\",\"2014-07-28T00:00:00\"],\"xaxis\":\"x\",\"y\":[1,1,1,1,1],\"yaxis\":\"y\",\"type\":\"bar\"},{\"alignmentgroup\":\"True\",\"hovertemplate\":\"Bird Species=Dark-eyed Junco \\u003cbr\\u003eDate=%{x}\\u003cbr\\u003eNumber of Deaths=%{y}\\u003cextra\\u003e\\u003c\\u002fextra\\u003e\",\"legendgroup\":\"Dark-eyed Junco \",\"marker\":{\"color\":\"#EF553B\",\"pattern\":{\"shape\":\"\"}},\"name\":\"Dark-eyed Junco \",\"offsetgroup\":\"Dark-eyed Junco \",\"orientation\":\"v\",\"showlegend\":true,\"textposition\":\"auto\",\"x\":[\"2013-11-07T00:00:00\",\"2013-12-03T00:00:00\",\"2013-12-16T00:00:00\",\"2014-03-12T00:00:00\",\"2014-03-24T00:00:00\",\"2014-04-04T00:00:00\",\"2014-04-17T00:00:00\",\"2014-11-10T00:00:00\",\"2014-11-21T00:00:00\"],\"xaxis\":\"x\",\"y\":[1,1,1,1,1,1,1,1,1],\"yaxis\":\"y\",\"type\":\"bar\"},{\"alignmentgroup\":\"True\",\"hovertemplate\":\"Bird Species=Indigo Bunting \\u003cbr\\u003eDate=%{x}\\u003cbr\\u003eNumber of Deaths=%{y}\\u003cextra\\u003e\\u003c\\u002fextra\\u003e\",\"legendgroup\":\"Indigo Bunting \",\"marker\":{\"color\":\"#00cc96\",\"pattern\":{\"shape\":\"\"}},\"name\":\"Indigo Bunting \",\"offsetgroup\":\"Indigo Bunting \",\"orientation\":\"v\",\"showlegend\":true,\"textposition\":\"auto\",\"x\":[\"2013-11-13T00:00:00\",\"2014-05-05T00:00:00\",\"2015-05-27T00:00:00\"],\"xaxis\":\"x\",\"y\":[1,1,1],\"yaxis\":\"y\",\"type\":\"bar\"},{\"alignmentgroup\":\"True\",\"hovertemplate\":\"Bird Species=Northern Cardinal \\u003cbr\\u003eDate=%{x}\\u003cbr\\u003eNumber of Deaths=%{y}\\u003cextra\\u003e\\u003c\\u002fextra\\u003e\",\"legendgroup\":\"Northern Cardinal \",\"marker\":{\"color\":\"#ab63fa\",\"pattern\":{\"shape\":\"\"}},\"name\":\"Northern Cardinal \",\"offsetgroup\":\"Northern Cardinal \",\"orientation\":\"v\",\"showlegend\":true,\"textposition\":\"auto\",\"x\":[\"2013-11-14T00:00:00\",\"2014-05-29T00:00:00\",\"2014-07-13T00:00:00\",\"2014-08-04T00:00:00\"],\"xaxis\":\"x\",\"y\":[1,1,1,1],\"yaxis\":\"y\",\"type\":\"bar\"},{\"alignmentgroup\":\"True\",\"hovertemplate\":\"Bird Species=Ruby-crowned Kinglet \\u003cbr\\u003eDate=%{x}\\u003cbr\\u003eNumber of Deaths=%{y}\\u003cextra\\u003e\\u003c\\u002fextra\\u003e\",\"legendgroup\":\"Ruby-crowned Kinglet \",\"marker\":{\"color\":\"#FFA15A\",\"pattern\":{\"shape\":\"\"}},\"name\":\"Ruby-crowned Kinglet \",\"offsetgroup\":\"Ruby-crowned Kinglet \",\"orientation\":\"v\",\"showlegend\":true,\"textposition\":\"auto\",\"x\":[\"2014-02-26T00:00:00\"],\"xaxis\":\"x\",\"y\":[1],\"yaxis\":\"y\",\"type\":\"bar\"},{\"alignmentgroup\":\"True\",\"hovertemplate\":\"Bird Species=Eastern Bluebird \\u003cbr\\u003eDate=%{x}\\u003cbr\\u003eNumber of Deaths=%{y}\\u003cextra\\u003e\\u003c\\u002fextra\\u003e\",\"legendgroup\":\"Eastern Bluebird \",\"marker\":{\"color\":\"#19d3f3\",\"pattern\":{\"shape\":\"\"}},\"name\":\"Eastern Bluebird \",\"offsetgroup\":\"Eastern Bluebird \",\"orientation\":\"v\",\"showlegend\":true,\"textposition\":\"auto\",\"x\":[\"2014-03-12T00:00:00\",\"2014-04-22T00:00:00\"],\"xaxis\":\"x\",\"y\":[1,1],\"yaxis\":\"y\",\"type\":\"bar\"},{\"alignmentgroup\":\"True\",\"hovertemplate\":\"Bird Species=American Robin \\u003cbr\\u003eDate=%{x}\\u003cbr\\u003eNumber of Deaths=%{y}\\u003cextra\\u003e\\u003c\\u002fextra\\u003e\",\"legendgroup\":\"American Robin \",\"marker\":{\"color\":\"#FF6692\",\"pattern\":{\"shape\":\"\"}},\"name\":\"American Robin \",\"offsetgroup\":\"American Robin \",\"orientation\":\"v\",\"showlegend\":true,\"textposition\":\"auto\",\"x\":[\"2014-03-18T00:00:00\",\"2014-03-19T00:00:00\",\"2014-03-31T00:00:00\",\"2014-04-03T00:00:00\",\"2014-04-14T00:00:00\",\"2014-04-15T00:00:00\",\"2014-04-18T00:00:00\",\"2014-04-22T00:00:00\",\"2014-05-08T00:00:00\",\"2014-05-19T00:00:00\",\"2014-07-02T00:00:00\",\"2014-07-07T00:00:00\",\"2014-07-07T00:00:00\",\"2014-07-17T00:00:00\",\"2014-07-28T00:00:00\",\"2014-08-04T00:00:00\",\"2014-08-06T00:00:00\",\"2014-08-20T00:00:00\",\"2014-10-22T00:00:00\",\"2014-10-29T00:00:00\",\"2015-03-20T00:00:00\"],\"xaxis\":\"x\",\"y\":[1,1,1,1,1,1,1,1,1,1,1,1,1,1,1,1,1,1,1,1,1],\"yaxis\":\"y\",\"type\":\"bar\"},{\"alignmentgroup\":\"True\",\"hovertemplate\":\"Bird Species=European Starling \\u003cbr\\u003eDate=%{x}\\u003cbr\\u003eNumber of Deaths=%{y}\\u003cextra\\u003e\\u003c\\u002fextra\\u003e\",\"legendgroup\":\"European Starling \",\"marker\":{\"color\":\"#B6E880\",\"pattern\":{\"shape\":\"\"}},\"name\":\"European Starling \",\"offsetgroup\":\"European Starling \",\"orientation\":\"v\",\"showlegend\":true,\"textposition\":\"auto\",\"x\":[\"2014-04-02T00:00:00\",\"2014-05-29T00:00:00\"],\"xaxis\":\"x\",\"y\":[1,1],\"yaxis\":\"y\",\"type\":\"bar\"},{\"alignmentgroup\":\"True\",\"hovertemplate\":\"Bird Species=Savannah Sparrow \\u003cbr\\u003eDate=%{x}\\u003cbr\\u003eNumber of Deaths=%{y}\\u003cextra\\u003e\\u003c\\u002fextra\\u003e\",\"legendgroup\":\"Savannah Sparrow \",\"marker\":{\"color\":\"#FF97FF\",\"pattern\":{\"shape\":\"\"}},\"name\":\"Savannah Sparrow \",\"offsetgroup\":\"Savannah Sparrow \",\"orientation\":\"v\",\"showlegend\":true,\"textposition\":\"auto\",\"x\":[\"2014-04-06T00:00:00\"],\"xaxis\":\"x\",\"y\":[1],\"yaxis\":\"y\",\"type\":\"bar\"},{\"alignmentgroup\":\"True\",\"hovertemplate\":\"Bird Species=Brown Thrasher \\u003cbr\\u003eDate=%{x}\\u003cbr\\u003eNumber of Deaths=%{y}\\u003cextra\\u003e\\u003c\\u002fextra\\u003e\",\"legendgroup\":\"Brown Thrasher \",\"marker\":{\"color\":\"#FECB52\",\"pattern\":{\"shape\":\"\"}},\"name\":\"Brown Thrasher \",\"offsetgroup\":\"Brown Thrasher \",\"orientation\":\"v\",\"showlegend\":true,\"textposition\":\"auto\",\"x\":[\"2014-04-14T00:00:00\"],\"xaxis\":\"x\",\"y\":[1],\"yaxis\":\"y\",\"type\":\"bar\"},{\"alignmentgroup\":\"True\",\"hovertemplate\":\"Bird Species=Cedar Waxwing \\u003cbr\\u003eDate=%{x}\\u003cbr\\u003eNumber of Deaths=%{y}\\u003cextra\\u003e\\u003c\\u002fextra\\u003e\",\"legendgroup\":\"Cedar Waxwing \",\"marker\":{\"color\":\"#636efa\",\"pattern\":{\"shape\":\"\"}},\"name\":\"Cedar Waxwing \",\"offsetgroup\":\"Cedar Waxwing \",\"orientation\":\"v\",\"showlegend\":true,\"textposition\":\"auto\",\"x\":[\"2014-04-18T00:00:00\",\"2014-06-02T00:00:00\",\"2014-07-18T00:00:00\",\"2014-09-21T00:00:00\",\"2014-11-12T00:00:00\",\"2015-03-29T00:00:00\",\"2015-05-27T00:00:00\"],\"xaxis\":\"x\",\"y\":[1,1,1,1,1,1,1],\"yaxis\":\"y\",\"type\":\"bar\"},{\"alignmentgroup\":\"True\",\"hovertemplate\":\"Bird Species=Ruby-throated Hummingbird \\u003cbr\\u003eDate=%{x}\\u003cbr\\u003eNumber of Deaths=%{y}\\u003cextra\\u003e\\u003c\\u002fextra\\u003e\",\"legendgroup\":\"Ruby-throated Hummingbird \",\"marker\":{\"color\":\"#EF553B\",\"pattern\":{\"shape\":\"\"}},\"name\":\"Ruby-throated Hummingbird \",\"offsetgroup\":\"Ruby-throated Hummingbird \",\"orientation\":\"v\",\"showlegend\":true,\"textposition\":\"auto\",\"x\":[\"2014-04-25T00:00:00\",\"2014-04-26T00:00:00\",\"2014-04-28T00:00:00\",\"2014-05-07T00:00:00\",\"2014-05-19T00:00:00\",\"2014-07-30T00:00:00\",\"2014-08-04T00:00:00\",\"2014-09-03T00:00:00\",\"2014-09-07T00:00:00\",\"2014-09-14T00:00:00\",\"2014-09-15T00:00:00\",\"2014-09-15T00:00:00\",\"2014-09-16T00:00:00\",\"2014-09-21T00:00:00\",\"2014-09-21T00:00:00\",\"2014-09-22T00:00:00\",\"2014-09-24T00:00:00\",\"2014-09-24T00:00:00\",\"2014-09-26T00:00:00\",\"2014-09-28T00:00:00\",\"2014-10-03T00:00:00\",\"2014-10-05T00:00:00\"],\"xaxis\":\"x\",\"y\":[1,1,1,1,1,1,1,1,1,1,1,1,1,1,1,1,1,1,1,1,1,1],\"yaxis\":\"y\",\"type\":\"bar\"},{\"alignmentgroup\":\"True\",\"hovertemplate\":\"Bird Species=American Goldfinch \\u003cbr\\u003eDate=%{x}\\u003cbr\\u003eNumber of Deaths=%{y}\\u003cextra\\u003e\\u003c\\u002fextra\\u003e\",\"legendgroup\":\"American Goldfinch \",\"marker\":{\"color\":\"#00cc96\",\"pattern\":{\"shape\":\"\"}},\"name\":\"American Goldfinch \",\"offsetgroup\":\"American Goldfinch \",\"orientation\":\"v\",\"showlegend\":true,\"textposition\":\"auto\",\"x\":[\"2014-04-28T00:00:00\",\"2014-05-08T00:00:00\",\"2014-05-21T00:00:00\",\"2014-05-29T00:00:00\",\"2014-09-24T00:00:00\"],\"xaxis\":\"x\",\"y\":[1,1,1,1,1],\"yaxis\":\"y\",\"type\":\"bar\"},{\"alignmentgroup\":\"True\",\"hovertemplate\":\"Bird Species=Yellow-rumped Warbler \\u003cbr\\u003eDate=%{x}\\u003cbr\\u003eNumber of Deaths=%{y}\\u003cextra\\u003e\\u003c\\u002fextra\\u003e\",\"legendgroup\":\"Yellow-rumped Warbler \",\"marker\":{\"color\":\"#ab63fa\",\"pattern\":{\"shape\":\"\"}},\"name\":\"Yellow-rumped Warbler \",\"offsetgroup\":\"Yellow-rumped Warbler \",\"orientation\":\"v\",\"showlegend\":true,\"textposition\":\"auto\",\"x\":[\"2014-04-29T00:00:00\"],\"xaxis\":\"x\",\"y\":[1],\"yaxis\":\"y\",\"type\":\"bar\"},{\"alignmentgroup\":\"True\",\"hovertemplate\":\"Bird Species=Red-winged Blackbird \\u003cbr\\u003eDate=%{x}\\u003cbr\\u003eNumber of Deaths=%{y}\\u003cextra\\u003e\\u003c\\u002fextra\\u003e\",\"legendgroup\":\"Red-winged Blackbird \",\"marker\":{\"color\":\"#FFA15A\",\"pattern\":{\"shape\":\"\"}},\"name\":\"Red-winged Blackbird \",\"offsetgroup\":\"Red-winged Blackbird \",\"orientation\":\"v\",\"showlegend\":true,\"textposition\":\"auto\",\"x\":[\"2014-05-05T00:00:00\",\"2014-07-14T00:00:00\",\"2014-07-23T00:00:00\"],\"xaxis\":\"x\",\"y\":[1,1,1],\"yaxis\":\"y\",\"type\":\"bar\"},{\"alignmentgroup\":\"True\",\"hovertemplate\":\"Bird Species=Yellow-billed Cuckoo \\u003cbr\\u003eDate=%{x}\\u003cbr\\u003eNumber of Deaths=%{y}\\u003cextra\\u003e\\u003c\\u002fextra\\u003e\",\"legendgroup\":\"Yellow-billed Cuckoo \",\"marker\":{\"color\":\"#19d3f3\",\"pattern\":{\"shape\":\"\"}},\"name\":\"Yellow-billed Cuckoo \",\"offsetgroup\":\"Yellow-billed Cuckoo \",\"orientation\":\"v\",\"showlegend\":true,\"textposition\":\"auto\",\"x\":[\"2014-05-09T00:00:00\",\"2014-05-21T00:00:00\",\"2014-05-29T00:00:00\",\"2014-05-29T00:00:00\",\"2014-09-28T00:00:00\"],\"xaxis\":\"x\",\"y\":[1,1,1,1,1],\"yaxis\":\"y\",\"type\":\"bar\"},{\"alignmentgroup\":\"True\",\"hovertemplate\":\"Bird Species=Northern Flicker \\u003cbr\\u003eDate=%{x}\\u003cbr\\u003eNumber of Deaths=%{y}\\u003cextra\\u003e\\u003c\\u002fextra\\u003e\",\"legendgroup\":\"Northern Flicker \",\"marker\":{\"color\":\"#FF6692\",\"pattern\":{\"shape\":\"\"}},\"name\":\"Northern Flicker \",\"offsetgroup\":\"Northern Flicker \",\"orientation\":\"v\",\"showlegend\":true,\"textposition\":\"auto\",\"x\":[\"2014-05-19T00:00:00\",\"2014-07-30T00:00:00\",\"2014-08-25T00:00:00\"],\"xaxis\":\"x\",\"y\":[1,1,1],\"yaxis\":\"y\",\"type\":\"bar\"},{\"alignmentgroup\":\"True\",\"hovertemplate\":\"Bird Species=Common Yellowthroat \\u003cbr\\u003eDate=%{x}\\u003cbr\\u003eNumber of Deaths=%{y}\\u003cextra\\u003e\\u003c\\u002fextra\\u003e\",\"legendgroup\":\"Common Yellowthroat \",\"marker\":{\"color\":\"#B6E880\",\"pattern\":{\"shape\":\"\"}},\"name\":\"Common Yellowthroat \",\"offsetgroup\":\"Common Yellowthroat \",\"orientation\":\"v\",\"showlegend\":true,\"textposition\":\"auto\",\"x\":[\"2014-05-26T00:00:00\",\"2014-09-16T00:00:00\",\"2014-09-17T00:00:00\"],\"xaxis\":\"x\",\"y\":[1,1,1],\"yaxis\":\"y\",\"type\":\"bar\"},{\"alignmentgroup\":\"True\",\"hovertemplate\":\"Bird Species=American Redstart \\u003cbr\\u003eDate=%{x}\\u003cbr\\u003eNumber of Deaths=%{y}\\u003cextra\\u003e\\u003c\\u002fextra\\u003e\",\"legendgroup\":\"American Redstart \",\"marker\":{\"color\":\"#FF97FF\",\"pattern\":{\"shape\":\"\"}},\"name\":\"American Redstart \",\"offsetgroup\":\"American Redstart \",\"orientation\":\"v\",\"showlegend\":true,\"textposition\":\"auto\",\"x\":[\"2014-05-29T00:00:00\"],\"xaxis\":\"x\",\"y\":[1],\"yaxis\":\"y\",\"type\":\"bar\"},{\"alignmentgroup\":\"True\",\"hovertemplate\":\"Bird Species=Great Crested Flycatcher \\u003cbr\\u003eDate=%{x}\\u003cbr\\u003eNumber of Deaths=%{y}\\u003cextra\\u003e\\u003c\\u002fextra\\u003e\",\"legendgroup\":\"Great Crested Flycatcher \",\"marker\":{\"color\":\"#FECB52\",\"pattern\":{\"shape\":\"\"}},\"name\":\"Great Crested Flycatcher \",\"offsetgroup\":\"Great Crested Flycatcher \",\"orientation\":\"v\",\"showlegend\":true,\"textposition\":\"auto\",\"x\":[\"2014-06-02T00:00:00\"],\"xaxis\":\"x\",\"y\":[1],\"yaxis\":\"y\",\"type\":\"bar\"},{\"alignmentgroup\":\"True\",\"hovertemplate\":\"Bird Species=House Finch \\u003cbr\\u003eDate=%{x}\\u003cbr\\u003eNumber of Deaths=%{y}\\u003cextra\\u003e\\u003c\\u002fextra\\u003e\",\"legendgroup\":\"House Finch \",\"marker\":{\"color\":\"#636efa\",\"pattern\":{\"shape\":\"\"}},\"name\":\"House Finch \",\"offsetgroup\":\"House Finch \",\"orientation\":\"v\",\"showlegend\":true,\"textposition\":\"auto\",\"x\":[\"2014-06-04T00:00:00\",\"2014-07-07T00:00:00\",\"2014-11-18T00:00:00\"],\"xaxis\":\"x\",\"y\":[1,1,1],\"yaxis\":\"y\",\"type\":\"bar\"},{\"alignmentgroup\":\"True\",\"hovertemplate\":\"Bird Species=Northern Mockingbird \\u003cbr\\u003eDate=%{x}\\u003cbr\\u003eNumber of Deaths=%{y}\\u003cextra\\u003e\\u003c\\u002fextra\\u003e\",\"legendgroup\":\"Northern Mockingbird \",\"marker\":{\"color\":\"#EF553B\",\"pattern\":{\"shape\":\"\"}},\"name\":\"Northern Mockingbird \",\"offsetgroup\":\"Northern Mockingbird \",\"orientation\":\"v\",\"showlegend\":true,\"textposition\":\"auto\",\"x\":[\"2014-06-25T00:00:00\",\"2014-09-21T00:00:00\"],\"xaxis\":\"x\",\"y\":[1,1],\"yaxis\":\"y\",\"type\":\"bar\"},{\"alignmentgroup\":\"True\",\"hovertemplate\":\"Bird Species=Ovenbird \\u003cbr\\u003eDate=%{x}\\u003cbr\\u003eNumber of Deaths=%{y}\\u003cextra\\u003e\\u003c\\u002fextra\\u003e\",\"legendgroup\":\"Ovenbird \",\"marker\":{\"color\":\"#00cc96\",\"pattern\":{\"shape\":\"\"}},\"name\":\"Ovenbird \",\"offsetgroup\":\"Ovenbird \",\"orientation\":\"v\",\"showlegend\":true,\"textposition\":\"auto\",\"x\":[\"2014-07-02T00:00:00\",\"2014-07-07T00:00:00\",\"2014-08-25T00:00:00\"],\"xaxis\":\"x\",\"y\":[1,1,1],\"yaxis\":\"y\",\"type\":\"bar\"},{\"alignmentgroup\":\"True\",\"hovertemplate\":\"Bird Species=Louisiana Waterthrush \\u003cbr\\u003eDate=%{x}\\u003cbr\\u003eNumber of Deaths=%{y}\\u003cextra\\u003e\\u003c\\u002fextra\\u003e\",\"legendgroup\":\"Louisiana Waterthrush \",\"marker\":{\"color\":\"#ab63fa\",\"pattern\":{\"shape\":\"\"}},\"name\":\"Louisiana Waterthrush \",\"offsetgroup\":\"Louisiana Waterthrush \",\"orientation\":\"v\",\"showlegend\":true,\"textposition\":\"auto\",\"x\":[\"2014-07-07T00:00:00\"],\"xaxis\":\"x\",\"y\":[1],\"yaxis\":\"y\",\"type\":\"bar\"},{\"alignmentgroup\":\"True\",\"hovertemplate\":\"Bird Species=Yellow-throated Vireo \\u003cbr\\u003eDate=%{x}\\u003cbr\\u003eNumber of Deaths=%{y}\\u003cextra\\u003e\\u003c\\u002fextra\\u003e\",\"legendgroup\":\"Yellow-throated Vireo \",\"marker\":{\"color\":\"#FFA15A\",\"pattern\":{\"shape\":\"\"}},\"name\":\"Yellow-throated Vireo \",\"offsetgroup\":\"Yellow-throated Vireo \",\"orientation\":\"v\",\"showlegend\":true,\"textposition\":\"auto\",\"x\":[\"2014-07-16T00:00:00\"],\"xaxis\":\"x\",\"y\":[1],\"yaxis\":\"y\",\"type\":\"bar\"},{\"alignmentgroup\":\"True\",\"hovertemplate\":\"Bird Species=Field Sparrow \\u003cbr\\u003eDate=%{x}\\u003cbr\\u003eNumber of Deaths=%{y}\\u003cextra\\u003e\\u003c\\u002fextra\\u003e\",\"legendgroup\":\"Field Sparrow \",\"marker\":{\"color\":\"#19d3f3\",\"pattern\":{\"shape\":\"\"}},\"name\":\"Field Sparrow \",\"offsetgroup\":\"Field Sparrow \",\"orientation\":\"v\",\"showlegend\":true,\"textposition\":\"auto\",\"x\":[\"2014-07-30T00:00:00\"],\"xaxis\":\"x\",\"y\":[1],\"yaxis\":\"y\",\"type\":\"bar\"},{\"alignmentgroup\":\"True\",\"hovertemplate\":\"Bird Species=Common Nighthawk \\u003cbr\\u003eDate=%{x}\\u003cbr\\u003eNumber of Deaths=%{y}\\u003cextra\\u003e\\u003c\\u002fextra\\u003e\",\"legendgroup\":\"Common Nighthawk \",\"marker\":{\"color\":\"#FF6692\",\"pattern\":{\"shape\":\"\"}},\"name\":\"Common Nighthawk \",\"offsetgroup\":\"Common Nighthawk \",\"orientation\":\"v\",\"showlegend\":true,\"textposition\":\"auto\",\"x\":[\"2014-09-03T00:00:00\"],\"xaxis\":\"x\",\"y\":[1],\"yaxis\":\"y\",\"type\":\"bar\"},{\"alignmentgroup\":\"True\",\"hovertemplate\":\"Bird Species=Black-throated Green Warbler \\u003cbr\\u003eDate=%{x}\\u003cbr\\u003eNumber of Deaths=%{y}\\u003cextra\\u003e\\u003c\\u002fextra\\u003e\",\"legendgroup\":\"Black-throated Green Warbler \",\"marker\":{\"color\":\"#B6E880\",\"pattern\":{\"shape\":\"\"}},\"name\":\"Black-throated Green Warbler \",\"offsetgroup\":\"Black-throated Green Warbler \",\"orientation\":\"v\",\"showlegend\":true,\"textposition\":\"auto\",\"x\":[\"2014-09-15T00:00:00\",\"2014-09-24T00:00:00\"],\"xaxis\":\"x\",\"y\":[1,1],\"yaxis\":\"y\",\"type\":\"bar\"},{\"alignmentgroup\":\"True\",\"hovertemplate\":\"Bird Species=Yellow Warbler\\u003cbr\\u003eDate=%{x}\\u003cbr\\u003eNumber of Deaths=%{y}\\u003cextra\\u003e\\u003c\\u002fextra\\u003e\",\"legendgroup\":\"Yellow Warbler\",\"marker\":{\"color\":\"#FF97FF\",\"pattern\":{\"shape\":\"\"}},\"name\":\"Yellow Warbler\",\"offsetgroup\":\"Yellow Warbler\",\"orientation\":\"v\",\"showlegend\":true,\"textposition\":\"auto\",\"x\":[\"2014-09-18T00:00:00\"],\"xaxis\":\"x\",\"y\":[1],\"yaxis\":\"y\",\"type\":\"bar\"},{\"alignmentgroup\":\"True\",\"hovertemplate\":\"Bird Species=Northern Waterthrush \\u003cbr\\u003eDate=%{x}\\u003cbr\\u003eNumber of Deaths=%{y}\\u003cextra\\u003e\\u003c\\u002fextra\\u003e\",\"legendgroup\":\"Northern Waterthrush \",\"marker\":{\"color\":\"#FECB52\",\"pattern\":{\"shape\":\"\"}},\"name\":\"Northern Waterthrush \",\"offsetgroup\":\"Northern Waterthrush \",\"orientation\":\"v\",\"showlegend\":true,\"textposition\":\"auto\",\"x\":[\"2014-09-19T00:00:00\"],\"xaxis\":\"x\",\"y\":[1],\"yaxis\":\"y\",\"type\":\"bar\"},{\"alignmentgroup\":\"True\",\"hovertemplate\":\"Bird Species=Thrush spp.\\u003cbr\\u003eDate=%{x}\\u003cbr\\u003eNumber of Deaths=%{y}\\u003cextra\\u003e\\u003c\\u002fextra\\u003e\",\"legendgroup\":\"Thrush spp.\",\"marker\":{\"color\":\"#636efa\",\"pattern\":{\"shape\":\"\"}},\"name\":\"Thrush spp.\",\"offsetgroup\":\"Thrush spp.\",\"orientation\":\"v\",\"showlegend\":true,\"textposition\":\"auto\",\"x\":[\"2014-09-19T00:00:00\"],\"xaxis\":\"x\",\"y\":[1],\"yaxis\":\"y\",\"type\":\"bar\"},{\"alignmentgroup\":\"True\",\"hovertemplate\":\"Bird Species=Black-throated Blue Warbler \\u003cbr\\u003eDate=%{x}\\u003cbr\\u003eNumber of Deaths=%{y}\\u003cextra\\u003e\\u003c\\u002fextra\\u003e\",\"legendgroup\":\"Black-throated Blue Warbler \",\"marker\":{\"color\":\"#EF553B\",\"pattern\":{\"shape\":\"\"}},\"name\":\"Black-throated Blue Warbler \",\"offsetgroup\":\"Black-throated Blue Warbler \",\"orientation\":\"v\",\"showlegend\":true,\"textposition\":\"auto\",\"x\":[\"2014-09-19T00:00:00\"],\"xaxis\":\"x\",\"y\":[1],\"yaxis\":\"y\",\"type\":\"bar\"},{\"alignmentgroup\":\"True\",\"hovertemplate\":\"Bird Species=Scarlet Tanager \\u003cbr\\u003eDate=%{x}\\u003cbr\\u003eNumber of Deaths=%{y}\\u003cextra\\u003e\\u003c\\u002fextra\\u003e\",\"legendgroup\":\"Scarlet Tanager \",\"marker\":{\"color\":\"#00cc96\",\"pattern\":{\"shape\":\"\"}},\"name\":\"Scarlet Tanager \",\"offsetgroup\":\"Scarlet Tanager \",\"orientation\":\"v\",\"showlegend\":true,\"textposition\":\"auto\",\"x\":[\"2014-09-22T00:00:00\"],\"xaxis\":\"x\",\"y\":[1],\"yaxis\":\"y\",\"type\":\"bar\"},{\"alignmentgroup\":\"True\",\"hovertemplate\":\"Bird Species=Palm Warbler\\u003cbr\\u003eDate=%{x}\\u003cbr\\u003eNumber of Deaths=%{y}\\u003cextra\\u003e\\u003c\\u002fextra\\u003e\",\"legendgroup\":\"Palm Warbler\",\"marker\":{\"color\":\"#ab63fa\",\"pattern\":{\"shape\":\"\"}},\"name\":\"Palm Warbler\",\"offsetgroup\":\"Palm Warbler\",\"orientation\":\"v\",\"showlegend\":true,\"textposition\":\"auto\",\"x\":[\"2014-09-22T00:00:00\"],\"xaxis\":\"x\",\"y\":[1],\"yaxis\":\"y\",\"type\":\"bar\"},{\"alignmentgroup\":\"True\",\"hovertemplate\":\"Bird Species=Tennessee Warbler \\u003cbr\\u003eDate=%{x}\\u003cbr\\u003eNumber of Deaths=%{y}\\u003cextra\\u003e\\u003c\\u002fextra\\u003e\",\"legendgroup\":\"Tennessee Warbler \",\"marker\":{\"color\":\"#FFA15A\",\"pattern\":{\"shape\":\"\"}},\"name\":\"Tennessee Warbler \",\"offsetgroup\":\"Tennessee Warbler \",\"orientation\":\"v\",\"showlegend\":true,\"textposition\":\"auto\",\"x\":[\"2014-09-28T00:00:00\"],\"xaxis\":\"x\",\"y\":[1],\"yaxis\":\"y\",\"type\":\"bar\"},{\"alignmentgroup\":\"True\",\"hovertemplate\":\"Bird Species=Chestnut-sided Warbler \\u003cbr\\u003eDate=%{x}\\u003cbr\\u003eNumber of Deaths=%{y}\\u003cextra\\u003e\\u003c\\u002fextra\\u003e\",\"legendgroup\":\"Chestnut-sided Warbler \",\"marker\":{\"color\":\"#19d3f3\",\"pattern\":{\"shape\":\"\"}},\"name\":\"Chestnut-sided Warbler \",\"offsetgroup\":\"Chestnut-sided Warbler \",\"orientation\":\"v\",\"showlegend\":true,\"textposition\":\"auto\",\"x\":[\"2014-10-05T00:00:00\"],\"xaxis\":\"x\",\"y\":[1],\"yaxis\":\"y\",\"type\":\"bar\"},{\"alignmentgroup\":\"True\",\"hovertemplate\":\"Bird Species=Red-eyed Vireo \\u003cbr\\u003eDate=%{x}\\u003cbr\\u003eNumber of Deaths=%{y}\\u003cextra\\u003e\\u003c\\u002fextra\\u003e\",\"legendgroup\":\"Red-eyed Vireo \",\"marker\":{\"color\":\"#FF6692\",\"pattern\":{\"shape\":\"\"}},\"name\":\"Red-eyed Vireo \",\"offsetgroup\":\"Red-eyed Vireo \",\"orientation\":\"v\",\"showlegend\":true,\"textposition\":\"auto\",\"x\":[\"2014-10-13T00:00:00\"],\"xaxis\":\"x\",\"y\":[1],\"yaxis\":\"y\",\"type\":\"bar\"},{\"alignmentgroup\":\"True\",\"hovertemplate\":\"Bird Species=Tufted Titmouse \\u003cbr\\u003eDate=%{x}\\u003cbr\\u003eNumber of Deaths=%{y}\\u003cextra\\u003e\\u003c\\u002fextra\\u003e\",\"legendgroup\":\"Tufted Titmouse \",\"marker\":{\"color\":\"#B6E880\",\"pattern\":{\"shape\":\"\"}},\"name\":\"Tufted Titmouse \",\"offsetgroup\":\"Tufted Titmouse \",\"orientation\":\"v\",\"showlegend\":true,\"textposition\":\"auto\",\"x\":[\"2014-10-15T00:00:00\"],\"xaxis\":\"x\",\"y\":[1],\"yaxis\":\"y\",\"type\":\"bar\"},{\"alignmentgroup\":\"True\",\"hovertemplate\":\"Bird Species=woodpecker spp\\u003cbr\\u003eDate=%{x}\\u003cbr\\u003eNumber of Deaths=%{y}\\u003cextra\\u003e\\u003c\\u002fextra\\u003e\",\"legendgroup\":\"woodpecker spp\",\"marker\":{\"color\":\"#FF97FF\",\"pattern\":{\"shape\":\"\"}},\"name\":\"woodpecker spp\",\"offsetgroup\":\"woodpecker spp\",\"orientation\":\"v\",\"showlegend\":true,\"textposition\":\"auto\",\"x\":[\"2014-10-19T00:00:00\"],\"xaxis\":\"x\",\"y\":[1],\"yaxis\":\"y\",\"type\":\"bar\"},{\"alignmentgroup\":\"True\",\"hovertemplate\":\"Bird Species=Yellow-bellied Sapsucker\\u003cbr\\u003eDate=%{x}\\u003cbr\\u003eNumber of Deaths=%{y}\\u003cextra\\u003e\\u003c\\u002fextra\\u003e\",\"legendgroup\":\"Yellow-bellied Sapsucker\",\"marker\":{\"color\":\"#FECB52\",\"pattern\":{\"shape\":\"\"}},\"name\":\"Yellow-bellied Sapsucker\",\"offsetgroup\":\"Yellow-bellied Sapsucker\",\"orientation\":\"v\",\"showlegend\":true,\"textposition\":\"auto\",\"x\":[\"2014-10-30T00:00:00\",\"2015-01-13T00:00:00\"],\"xaxis\":\"x\",\"y\":[1,1],\"yaxis\":\"y\",\"type\":\"bar\"},{\"alignmentgroup\":\"True\",\"hovertemplate\":\"Bird Species=Blue-headed Vireo\\u003cbr\\u003eDate=%{x}\\u003cbr\\u003eNumber of Deaths=%{y}\\u003cextra\\u003e\\u003c\\u002fextra\\u003e\",\"legendgroup\":\"Blue-headed Vireo\",\"marker\":{\"color\":\"#636efa\",\"pattern\":{\"shape\":\"\"}},\"name\":\"Blue-headed Vireo\",\"offsetgroup\":\"Blue-headed Vireo\",\"orientation\":\"v\",\"showlegend\":true,\"textposition\":\"auto\",\"x\":[\"2014-11-03T00:00:00\"],\"xaxis\":\"x\",\"y\":[1],\"yaxis\":\"y\",\"type\":\"bar\"},{\"alignmentgroup\":\"True\",\"hovertemplate\":\"Bird Species=Brown Creeper\\u003cbr\\u003eDate=%{x}\\u003cbr\\u003eNumber of Deaths=%{y}\\u003cextra\\u003e\\u003c\\u002fextra\\u003e\",\"legendgroup\":\"Brown Creeper\",\"marker\":{\"color\":\"#EF553B\",\"pattern\":{\"shape\":\"\"}},\"name\":\"Brown Creeper\",\"offsetgroup\":\"Brown Creeper\",\"orientation\":\"v\",\"showlegend\":true,\"textposition\":\"auto\",\"x\":[\"2014-11-04T00:00:00\"],\"xaxis\":\"x\",\"y\":[1],\"yaxis\":\"y\",\"type\":\"bar\"},{\"alignmentgroup\":\"True\",\"hovertemplate\":\"Bird Species=American Woodcock\\u003cbr\\u003eDate=%{x}\\u003cbr\\u003eNumber of Deaths=%{y}\\u003cextra\\u003e\\u003c\\u002fextra\\u003e\",\"legendgroup\":\"American Woodcock\",\"marker\":{\"color\":\"#00cc96\",\"pattern\":{\"shape\":\"\"}},\"name\":\"American Woodcock\",\"offsetgroup\":\"American Woodcock\",\"orientation\":\"v\",\"showlegend\":true,\"textposition\":\"auto\",\"x\":[\"2014-12-01T00:00:00\"],\"xaxis\":\"x\",\"y\":[1],\"yaxis\":\"y\",\"type\":\"bar\"},{\"alignmentgroup\":\"True\",\"hovertemplate\":\"Bird Species=American Pipit\\u003cbr\\u003eDate=%{x}\\u003cbr\\u003eNumber of Deaths=%{y}\\u003cextra\\u003e\\u003c\\u002fextra\\u003e\",\"legendgroup\":\"American Pipit\",\"marker\":{\"color\":\"#ab63fa\",\"pattern\":{\"shape\":\"\"}},\"name\":\"American Pipit\",\"offsetgroup\":\"American Pipit\",\"orientation\":\"v\",\"showlegend\":true,\"textposition\":\"auto\",\"x\":[\"2014-12-01T00:00:00\"],\"xaxis\":\"x\",\"y\":[1],\"yaxis\":\"y\",\"type\":\"bar\"},{\"alignmentgroup\":\"True\",\"hovertemplate\":\"Bird Species=White-crowned Sparrow\\u003cbr\\u003eDate=%{x}\\u003cbr\\u003eNumber of Deaths=%{y}\\u003cextra\\u003e\\u003c\\u002fextra\\u003e\",\"legendgroup\":\"White-crowned Sparrow\",\"marker\":{\"color\":\"#FFA15A\",\"pattern\":{\"shape\":\"\"}},\"name\":\"White-crowned Sparrow\",\"offsetgroup\":\"White-crowned Sparrow\",\"orientation\":\"v\",\"showlegend\":true,\"textposition\":\"auto\",\"x\":[\"2014-12-02T00:00:00\"],\"xaxis\":\"x\",\"y\":[1],\"yaxis\":\"y\",\"type\":\"bar\"},{\"alignmentgroup\":\"True\",\"hovertemplate\":\"Bird Species=Northern Cardinal\\u003cbr\\u003eDate=%{x}\\u003cbr\\u003eNumber of Deaths=%{y}\\u003cextra\\u003e\\u003c\\u002fextra\\u003e\",\"legendgroup\":\"Northern Cardinal\",\"marker\":{\"color\":\"#19d3f3\",\"pattern\":{\"shape\":\"\"}},\"name\":\"Northern Cardinal\",\"offsetgroup\":\"Northern Cardinal\",\"orientation\":\"v\",\"showlegend\":true,\"textposition\":\"auto\",\"x\":[\"2015-01-14T00:00:00\"],\"xaxis\":\"x\",\"y\":[1],\"yaxis\":\"y\",\"type\":\"bar\"},{\"alignmentgroup\":\"True\",\"hovertemplate\":\"Bird Species=Song Sparrow\\u003cbr\\u003eDate=%{x}\\u003cbr\\u003eNumber of Deaths=%{y}\\u003cextra\\u003e\\u003c\\u002fextra\\u003e\",\"legendgroup\":\"Song Sparrow\",\"marker\":{\"color\":\"#FF6692\",\"pattern\":{\"shape\":\"\"}},\"name\":\"Song Sparrow\",\"offsetgroup\":\"Song Sparrow\",\"orientation\":\"v\",\"showlegend\":true,\"textposition\":\"auto\",\"x\":[\"2015-03-22T00:00:00\"],\"xaxis\":\"x\",\"y\":[1],\"yaxis\":\"y\",\"type\":\"bar\"},{\"alignmentgroup\":\"True\",\"hovertemplate\":\"Bird Species=Brown Thrasher\\u003cbr\\u003eDate=%{x}\\u003cbr\\u003eNumber of Deaths=%{y}\\u003cextra\\u003e\\u003c\\u002fextra\\u003e\",\"legendgroup\":\"Brown Thrasher\",\"marker\":{\"color\":\"#B6E880\",\"pattern\":{\"shape\":\"\"}},\"name\":\"Brown Thrasher\",\"offsetgroup\":\"Brown Thrasher\",\"orientation\":\"v\",\"showlegend\":true,\"textposition\":\"auto\",\"x\":[\"2015-04-27T00:00:00\"],\"xaxis\":\"x\",\"y\":[1],\"yaxis\":\"y\",\"type\":\"bar\"},{\"alignmentgroup\":\"True\",\"hovertemplate\":\"Bird Species=Ruby-throated Hummingbird\\u003cbr\\u003eDate=%{x}\\u003cbr\\u003eNumber of Deaths=%{y}\\u003cextra\\u003e\\u003c\\u002fextra\\u003e\",\"legendgroup\":\"Ruby-throated Hummingbird\",\"marker\":{\"color\":\"#FF97FF\",\"pattern\":{\"shape\":\"\"}},\"name\":\"Ruby-throated Hummingbird\",\"offsetgroup\":\"Ruby-throated Hummingbird\",\"orientation\":\"v\",\"showlegend\":true,\"textposition\":\"auto\",\"x\":[\"2015-04-28T00:00:00\",\"2015-05-13T00:00:00\"],\"xaxis\":\"x\",\"y\":[1,1],\"yaxis\":\"y\",\"type\":\"bar\"},{\"alignmentgroup\":\"True\",\"hovertemplate\":\"Bird Species=Gray Catbird\\u003cbr\\u003eDate=%{x}\\u003cbr\\u003eNumber of Deaths=%{y}\\u003cextra\\u003e\\u003c\\u002fextra\\u003e\",\"legendgroup\":\"Gray Catbird\",\"marker\":{\"color\":\"#FECB52\",\"pattern\":{\"shape\":\"\"}},\"name\":\"Gray Catbird\",\"offsetgroup\":\"Gray Catbird\",\"orientation\":\"v\",\"showlegend\":true,\"textposition\":\"auto\",\"x\":[\"2015-05-04T00:00:00\",\"2015-05-13T00:00:00\"],\"xaxis\":\"x\",\"y\":[1,1],\"yaxis\":\"y\",\"type\":\"bar\"},{\"alignmentgroup\":\"True\",\"hovertemplate\":\"Bird Species=Easterm Kingbird\\u003cbr\\u003eDate=%{x}\\u003cbr\\u003eNumber of Deaths=%{y}\\u003cextra\\u003e\\u003c\\u002fextra\\u003e\",\"legendgroup\":\"Easterm Kingbird\",\"marker\":{\"color\":\"#636efa\",\"pattern\":{\"shape\":\"\"}},\"name\":\"Easterm Kingbird\",\"offsetgroup\":\"Easterm Kingbird\",\"orientation\":\"v\",\"showlegend\":true,\"textposition\":\"auto\",\"x\":[\"2015-05-04T00:00:00\",\"2015-05-04T00:00:00\"],\"xaxis\":\"x\",\"y\":[1,1],\"yaxis\":\"y\",\"type\":\"bar\"},{\"alignmentgroup\":\"True\",\"hovertemplate\":\"Bird Species=Ruby-crowned Kinglet\\u003cbr\\u003eDate=%{x}\\u003cbr\\u003eNumber of Deaths=%{y}\\u003cextra\\u003e\\u003c\\u002fextra\\u003e\",\"legendgroup\":\"Ruby-crowned Kinglet\",\"marker\":{\"color\":\"#EF553B\",\"pattern\":{\"shape\":\"\"}},\"name\":\"Ruby-crowned Kinglet\",\"offsetgroup\":\"Ruby-crowned Kinglet\",\"orientation\":\"v\",\"showlegend\":true,\"textposition\":\"auto\",\"x\":[\"2015-05-06T00:00:00\"],\"xaxis\":\"x\",\"y\":[1],\"yaxis\":\"y\",\"type\":\"bar\"},{\"alignmentgroup\":\"True\",\"hovertemplate\":\"Bird Species=Worm-eating Warbler\\u003cbr\\u003eDate=%{x}\\u003cbr\\u003eNumber of Deaths=%{y}\\u003cextra\\u003e\\u003c\\u002fextra\\u003e\",\"legendgroup\":\"Worm-eating Warbler\",\"marker\":{\"color\":\"#00cc96\",\"pattern\":{\"shape\":\"\"}},\"name\":\"Worm-eating Warbler\",\"offsetgroup\":\"Worm-eating Warbler\",\"orientation\":\"v\",\"showlegend\":true,\"textposition\":\"auto\",\"x\":[\"2015-05-06T00:00:00\"],\"xaxis\":\"x\",\"y\":[1],\"yaxis\":\"y\",\"type\":\"bar\"},{\"alignmentgroup\":\"True\",\"hovertemplate\":\"Bird Species=Killdeer\\u003cbr\\u003eDate=%{x}\\u003cbr\\u003eNumber of Deaths=%{y}\\u003cextra\\u003e\\u003c\\u002fextra\\u003e\",\"legendgroup\":\"Killdeer\",\"marker\":{\"color\":\"#ab63fa\",\"pattern\":{\"shape\":\"\"}},\"name\":\"Killdeer\",\"offsetgroup\":\"Killdeer\",\"orientation\":\"v\",\"showlegend\":true,\"textposition\":\"auto\",\"x\":[\"2015-05-20T00:00:00\"],\"xaxis\":\"x\",\"y\":[1],\"yaxis\":\"y\",\"type\":\"bar\"},{\"alignmentgroup\":\"True\",\"hovertemplate\":\"Bird Species=Northern Flicker\\u003cbr\\u003eDate=%{x}\\u003cbr\\u003eNumber of Deaths=%{y}\\u003cextra\\u003e\\u003c\\u002fextra\\u003e\",\"legendgroup\":\"Northern Flicker\",\"marker\":{\"color\":\"#FFA15A\",\"pattern\":{\"shape\":\"\"}},\"name\":\"Northern Flicker\",\"offsetgroup\":\"Northern Flicker\",\"orientation\":\"v\",\"showlegend\":true,\"textposition\":\"auto\",\"x\":[\"2015-05-20T00:00:00\"],\"xaxis\":\"x\",\"y\":[1],\"yaxis\":\"y\",\"type\":\"bar\"}],                        {\"template\":{\"data\":{\"histogram2dcontour\":[{\"type\":\"histogram2dcontour\",\"colorbar\":{\"outlinewidth\":0,\"ticks\":\"\"},\"colorscale\":[[0.0,\"#0d0887\"],[0.1111111111111111,\"#46039f\"],[0.2222222222222222,\"#7201a8\"],[0.3333333333333333,\"#9c179e\"],[0.4444444444444444,\"#bd3786\"],[0.5555555555555556,\"#d8576b\"],[0.6666666666666666,\"#ed7953\"],[0.7777777777777778,\"#fb9f3a\"],[0.8888888888888888,\"#fdca26\"],[1.0,\"#f0f921\"]]}],\"choropleth\":[{\"type\":\"choropleth\",\"colorbar\":{\"outlinewidth\":0,\"ticks\":\"\"}}],\"histogram2d\":[{\"type\":\"histogram2d\",\"colorbar\":{\"outlinewidth\":0,\"ticks\":\"\"},\"colorscale\":[[0.0,\"#0d0887\"],[0.1111111111111111,\"#46039f\"],[0.2222222222222222,\"#7201a8\"],[0.3333333333333333,\"#9c179e\"],[0.4444444444444444,\"#bd3786\"],[0.5555555555555556,\"#d8576b\"],[0.6666666666666666,\"#ed7953\"],[0.7777777777777778,\"#fb9f3a\"],[0.8888888888888888,\"#fdca26\"],[1.0,\"#f0f921\"]]}],\"heatmap\":[{\"type\":\"heatmap\",\"colorbar\":{\"outlinewidth\":0,\"ticks\":\"\"},\"colorscale\":[[0.0,\"#0d0887\"],[0.1111111111111111,\"#46039f\"],[0.2222222222222222,\"#7201a8\"],[0.3333333333333333,\"#9c179e\"],[0.4444444444444444,\"#bd3786\"],[0.5555555555555556,\"#d8576b\"],[0.6666666666666666,\"#ed7953\"],[0.7777777777777778,\"#fb9f3a\"],[0.8888888888888888,\"#fdca26\"],[1.0,\"#f0f921\"]]}],\"heatmapgl\":[{\"type\":\"heatmapgl\",\"colorbar\":{\"outlinewidth\":0,\"ticks\":\"\"},\"colorscale\":[[0.0,\"#0d0887\"],[0.1111111111111111,\"#46039f\"],[0.2222222222222222,\"#7201a8\"],[0.3333333333333333,\"#9c179e\"],[0.4444444444444444,\"#bd3786\"],[0.5555555555555556,\"#d8576b\"],[0.6666666666666666,\"#ed7953\"],[0.7777777777777778,\"#fb9f3a\"],[0.8888888888888888,\"#fdca26\"],[1.0,\"#f0f921\"]]}],\"contourcarpet\":[{\"type\":\"contourcarpet\",\"colorbar\":{\"outlinewidth\":0,\"ticks\":\"\"}}],\"contour\":[{\"type\":\"contour\",\"colorbar\":{\"outlinewidth\":0,\"ticks\":\"\"},\"colorscale\":[[0.0,\"#0d0887\"],[0.1111111111111111,\"#46039f\"],[0.2222222222222222,\"#7201a8\"],[0.3333333333333333,\"#9c179e\"],[0.4444444444444444,\"#bd3786\"],[0.5555555555555556,\"#d8576b\"],[0.6666666666666666,\"#ed7953\"],[0.7777777777777778,\"#fb9f3a\"],[0.8888888888888888,\"#fdca26\"],[1.0,\"#f0f921\"]]}],\"surface\":[{\"type\":\"surface\",\"colorbar\":{\"outlinewidth\":0,\"ticks\":\"\"},\"colorscale\":[[0.0,\"#0d0887\"],[0.1111111111111111,\"#46039f\"],[0.2222222222222222,\"#7201a8\"],[0.3333333333333333,\"#9c179e\"],[0.4444444444444444,\"#bd3786\"],[0.5555555555555556,\"#d8576b\"],[0.6666666666666666,\"#ed7953\"],[0.7777777777777778,\"#fb9f3a\"],[0.8888888888888888,\"#fdca26\"],[1.0,\"#f0f921\"]]}],\"mesh3d\":[{\"type\":\"mesh3d\",\"colorbar\":{\"outlinewidth\":0,\"ticks\":\"\"}}],\"scatter\":[{\"fillpattern\":{\"fillmode\":\"overlay\",\"size\":10,\"solidity\":0.2},\"type\":\"scatter\"}],\"parcoords\":[{\"type\":\"parcoords\",\"line\":{\"colorbar\":{\"outlinewidth\":0,\"ticks\":\"\"}}}],\"scatterpolargl\":[{\"type\":\"scatterpolargl\",\"marker\":{\"colorbar\":{\"outlinewidth\":0,\"ticks\":\"\"}}}],\"bar\":[{\"error_x\":{\"color\":\"#2a3f5f\"},\"error_y\":{\"color\":\"#2a3f5f\"},\"marker\":{\"line\":{\"color\":\"#E5ECF6\",\"width\":0.5},\"pattern\":{\"fillmode\":\"overlay\",\"size\":10,\"solidity\":0.2}},\"type\":\"bar\"}],\"scattergeo\":[{\"type\":\"scattergeo\",\"marker\":{\"colorbar\":{\"outlinewidth\":0,\"ticks\":\"\"}}}],\"scatterpolar\":[{\"type\":\"scatterpolar\",\"marker\":{\"colorbar\":{\"outlinewidth\":0,\"ticks\":\"\"}}}],\"histogram\":[{\"marker\":{\"pattern\":{\"fillmode\":\"overlay\",\"size\":10,\"solidity\":0.2}},\"type\":\"histogram\"}],\"scattergl\":[{\"type\":\"scattergl\",\"marker\":{\"colorbar\":{\"outlinewidth\":0,\"ticks\":\"\"}}}],\"scatter3d\":[{\"type\":\"scatter3d\",\"line\":{\"colorbar\":{\"outlinewidth\":0,\"ticks\":\"\"}},\"marker\":{\"colorbar\":{\"outlinewidth\":0,\"ticks\":\"\"}}}],\"scattermapbox\":[{\"type\":\"scattermapbox\",\"marker\":{\"colorbar\":{\"outlinewidth\":0,\"ticks\":\"\"}}}],\"scatterternary\":[{\"type\":\"scatterternary\",\"marker\":{\"colorbar\":{\"outlinewidth\":0,\"ticks\":\"\"}}}],\"scattercarpet\":[{\"type\":\"scattercarpet\",\"marker\":{\"colorbar\":{\"outlinewidth\":0,\"ticks\":\"\"}}}],\"carpet\":[{\"aaxis\":{\"endlinecolor\":\"#2a3f5f\",\"gridcolor\":\"white\",\"linecolor\":\"white\",\"minorgridcolor\":\"white\",\"startlinecolor\":\"#2a3f5f\"},\"baxis\":{\"endlinecolor\":\"#2a3f5f\",\"gridcolor\":\"white\",\"linecolor\":\"white\",\"minorgridcolor\":\"white\",\"startlinecolor\":\"#2a3f5f\"},\"type\":\"carpet\"}],\"table\":[{\"cells\":{\"fill\":{\"color\":\"#EBF0F8\"},\"line\":{\"color\":\"white\"}},\"header\":{\"fill\":{\"color\":\"#C8D4E3\"},\"line\":{\"color\":\"white\"}},\"type\":\"table\"}],\"barpolar\":[{\"marker\":{\"line\":{\"color\":\"#E5ECF6\",\"width\":0.5},\"pattern\":{\"fillmode\":\"overlay\",\"size\":10,\"solidity\":0.2}},\"type\":\"barpolar\"}],\"pie\":[{\"automargin\":true,\"type\":\"pie\"}]},\"layout\":{\"autotypenumbers\":\"strict\",\"colorway\":[\"#636efa\",\"#EF553B\",\"#00cc96\",\"#ab63fa\",\"#FFA15A\",\"#19d3f3\",\"#FF6692\",\"#B6E880\",\"#FF97FF\",\"#FECB52\"],\"font\":{\"color\":\"#2a3f5f\"},\"hovermode\":\"closest\",\"hoverlabel\":{\"align\":\"left\"},\"paper_bgcolor\":\"white\",\"plot_bgcolor\":\"#E5ECF6\",\"polar\":{\"bgcolor\":\"#E5ECF6\",\"angularaxis\":{\"gridcolor\":\"white\",\"linecolor\":\"white\",\"ticks\":\"\"},\"radialaxis\":{\"gridcolor\":\"white\",\"linecolor\":\"white\",\"ticks\":\"\"}},\"ternary\":{\"bgcolor\":\"#E5ECF6\",\"aaxis\":{\"gridcolor\":\"white\",\"linecolor\":\"white\",\"ticks\":\"\"},\"baxis\":{\"gridcolor\":\"white\",\"linecolor\":\"white\",\"ticks\":\"\"},\"caxis\":{\"gridcolor\":\"white\",\"linecolor\":\"white\",\"ticks\":\"\"}},\"coloraxis\":{\"colorbar\":{\"outlinewidth\":0,\"ticks\":\"\"}},\"colorscale\":{\"sequential\":[[0.0,\"#0d0887\"],[0.1111111111111111,\"#46039f\"],[0.2222222222222222,\"#7201a8\"],[0.3333333333333333,\"#9c179e\"],[0.4444444444444444,\"#bd3786\"],[0.5555555555555556,\"#d8576b\"],[0.6666666666666666,\"#ed7953\"],[0.7777777777777778,\"#fb9f3a\"],[0.8888888888888888,\"#fdca26\"],[1.0,\"#f0f921\"]],\"sequentialminus\":[[0.0,\"#0d0887\"],[0.1111111111111111,\"#46039f\"],[0.2222222222222222,\"#7201a8\"],[0.3333333333333333,\"#9c179e\"],[0.4444444444444444,\"#bd3786\"],[0.5555555555555556,\"#d8576b\"],[0.6666666666666666,\"#ed7953\"],[0.7777777777777778,\"#fb9f3a\"],[0.8888888888888888,\"#fdca26\"],[1.0,\"#f0f921\"]],\"diverging\":[[0,\"#8e0152\"],[0.1,\"#c51b7d\"],[0.2,\"#de77ae\"],[0.3,\"#f1b6da\"],[0.4,\"#fde0ef\"],[0.5,\"#f7f7f7\"],[0.6,\"#e6f5d0\"],[0.7,\"#b8e186\"],[0.8,\"#7fbc41\"],[0.9,\"#4d9221\"],[1,\"#276419\"]]},\"xaxis\":{\"gridcolor\":\"white\",\"linecolor\":\"white\",\"ticks\":\"\",\"title\":{\"standoff\":15},\"zerolinecolor\":\"white\",\"automargin\":true,\"zerolinewidth\":2},\"yaxis\":{\"gridcolor\":\"white\",\"linecolor\":\"white\",\"ticks\":\"\",\"title\":{\"standoff\":15},\"zerolinecolor\":\"white\",\"automargin\":true,\"zerolinewidth\":2},\"scene\":{\"xaxis\":{\"backgroundcolor\":\"#E5ECF6\",\"gridcolor\":\"white\",\"linecolor\":\"white\",\"showbackground\":true,\"ticks\":\"\",\"zerolinecolor\":\"white\",\"gridwidth\":2},\"yaxis\":{\"backgroundcolor\":\"#E5ECF6\",\"gridcolor\":\"white\",\"linecolor\":\"white\",\"showbackground\":true,\"ticks\":\"\",\"zerolinecolor\":\"white\",\"gridwidth\":2},\"zaxis\":{\"backgroundcolor\":\"#E5ECF6\",\"gridcolor\":\"white\",\"linecolor\":\"white\",\"showbackground\":true,\"ticks\":\"\",\"zerolinecolor\":\"white\",\"gridwidth\":2}},\"shapedefaults\":{\"line\":{\"color\":\"#2a3f5f\"}},\"annotationdefaults\":{\"arrowcolor\":\"#2a3f5f\",\"arrowhead\":0,\"arrowwidth\":1},\"geo\":{\"bgcolor\":\"white\",\"landcolor\":\"#E5ECF6\",\"subunitcolor\":\"white\",\"showland\":true,\"showlakes\":true,\"lakecolor\":\"white\"},\"title\":{\"x\":0.05},\"mapbox\":{\"style\":\"light\"}}},\"xaxis\":{\"anchor\":\"y\",\"domain\":[0.0,1.0],\"title\":{\"text\":\"Date\"}},\"yaxis\":{\"anchor\":\"x\",\"domain\":[0.0,1.0],\"title\":{\"text\":\"Number of Deaths\"}},\"legend\":{\"title\":{\"text\":\"Bird Species\"},\"tracegroupgap\":0},\"title\":{\"text\":\"Bird Deaths Over Time\"},\"barmode\":\"relative\"},                        {\"responsive\": true}                    ).then(function(){\n",
       "                            \n",
       "var gd = document.getElementById('d61c6c09-5e1f-40f8-abe1-f3db89333442');\n",
       "var x = new MutationObserver(function (mutations, observer) {{\n",
       "        var display = window.getComputedStyle(gd).display;\n",
       "        if (!display || display === 'none') {{\n",
       "            console.log([gd, 'removed!']);\n",
       "            Plotly.purge(gd);\n",
       "            observer.disconnect();\n",
       "        }}\n",
       "}});\n",
       "\n",
       "// Listen for the removal of the full notebook cells\n",
       "var notebookContainer = gd.closest('#notebook-container');\n",
       "if (notebookContainer) {{\n",
       "    x.observe(notebookContainer, {childList: true});\n",
       "}}\n",
       "\n",
       "// Listen for the clearing of the current output cell\n",
       "var outputEl = gd.closest('.output');\n",
       "if (outputEl) {{\n",
       "    x.observe(outputEl, {childList: true});\n",
       "}}\n",
       "\n",
       "                        })                };                });            </script>        </div>"
      ]
     },
     "metadata": {},
     "output_type": "display_data"
    }
   ],
   "source": [
    "import plotly.express as px\n",
    "import pandas as pd\n",
    "\n",
    "df=pd.read_csv(\"bird-window-collision-death.csv\")\n",
    "df['Date'] = pd.to_datetime(df['Date'])\n",
    "\n",
    "# Create a bar chart\n",
    "fig = px.bar(df, x='Date', y='Deaths', color='Common Name', title='Bird Deaths Over Time',\n",
    "             labels={'Date': 'Date', 'Deaths': 'Number of Deaths', 'Common Name': 'Bird Species'})\n",
    "\n",
    "# Show the plot\n",
    "fig.show()\n"
   ]
  },
  {
   "cell_type": "code",
   "execution_count": null,
   "id": "a3d93e62",
   "metadata": {},
   "outputs": [],
   "source": []
  },
  {
   "cell_type": "code",
   "execution_count": null,
   "id": "a661bba8",
   "metadata": {},
   "outputs": [],
   "source": []
  },
  {
   "cell_type": "code",
   "execution_count": null,
   "id": "eee177c3",
   "metadata": {},
   "outputs": [],
   "source": []
  }
 ],
 "metadata": {
  "kernelspec": {
   "display_name": "Python 3",
   "language": "python",
   "name": "python3"
  },
  "language_info": {
   "codemirror_mode": {
    "name": "ipython",
    "version": 3
   },
   "file_extension": ".py",
   "mimetype": "text/x-python",
   "name": "python",
   "nbconvert_exporter": "python",
   "pygments_lexer": "ipython3",
   "version": "3.8.8"
  }
 },
 "nbformat": 4,
 "nbformat_minor": 5
}
