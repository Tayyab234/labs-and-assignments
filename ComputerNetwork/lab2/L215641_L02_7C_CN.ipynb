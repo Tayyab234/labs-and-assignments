{
  "nbformat": 4,
  "nbformat_minor": 0,
  "metadata": {
    "colab": {
      "provenance": []
    },
    "kernelspec": {
      "name": "python3",
      "display_name": "Python 3"
    },
    "language_info": {
      "name": "python"
    }
  },
  "cells": [
    {
      "cell_type": "code",
      "execution_count": null,
      "metadata": {
        "colab": {
          "base_uri": "https://localhost:8080/"
        },
        "id": "6E3WLj3m-GY0",
        "outputId": "6c1e7cc1-16ac-4521-9634-1e1b12a5ed0a"
      },
      "outputs": [
        {
          "output_type": "stream",
          "name": "stdout",
          "text": [
            "String :  hello\n",
            "reverse string :  olleh\n"
          ]
        }
      ],
      "source": [
        "#QUESTION NO 1\n",
        "#Reverse String\n",
        "\n",
        "def reverse_string(inp):\n",
        "  #Len=len(inp)\n",
        "  #r_s=\"\"\n",
        "  r_s=inp[::-1]\n",
        "  return r_s\n",
        "\"\"\"  for i in range(Len-1,-1,-1):\n",
        "       r_s+=inp[i]\"\"\"\n",
        "\n",
        "string=\"hello\"\n",
        "print(\"String : \", string)\n",
        "print(\"reverse string : \", reverse_string(string))\n"
      ]
    },
    {
      "cell_type": "code",
      "source": [
        "#Question no 2\n",
        "#is pallindrome\n",
        "\n",
        "def pallindrome(inp):\n",
        "  length=len(inp)\n",
        "  string=\"\"\n",
        "  for i in range(0,length):\n",
        "    if inp[i]>='A'and inp[i]<='Z' or inp[i]>='a'and inp[i]<='z':\n",
        "       string+=inp[i]\n",
        "  string=string.lower()\n",
        "  print(string)\n",
        "  if string[::-1]== string[:]:\n",
        "      print(\"Given string is pallindrome\")\n",
        "  else:\n",
        "      print(\"Given string is not pallindrome\")\n",
        "\n",
        "\n",
        "string=\"A man, a plan, a canal:\"\n",
        "print(\"String : \",string )\n",
        "pallindrome(string)\n",
        "\n",
        "print()\n",
        "string=\"racecar\"\n",
        "print(\"String : \",string )\n",
        "pallindrome(string)\n",
        "\n",
        "print()\n",
        "string=\"hello\"\n",
        "print(\"String : \",string )\n",
        "pallindrome(string)\n"
      ],
      "metadata": {
        "colab": {
          "base_uri": "https://localhost:8080/"
        },
        "id": "Ifpq4KO-_w3J",
        "outputId": "d3b5abe2-0105-465b-b0dc-7552a554b769"
      },
      "execution_count": null,
      "outputs": [
        {
          "output_type": "stream",
          "name": "stdout",
          "text": [
            "String :  A man, a plan, a canal:\n",
            "amanaplanacanal\n",
            "Given string is not pallindrome\n",
            "\n",
            "String :  racecar\n",
            "racecar\n",
            "Given string is pallindrome\n",
            "\n",
            "String :  hello\n",
            "hello\n",
            "Given string is not pallindrome\n"
          ]
        }
      ]
    },
    {
      "cell_type": "code",
      "source": [
        "#Queastion no 3\n",
        "\n",
        "def sqr_root(num):\n",
        "  for i in range(1,num):\n",
        "    if i*i>num:\n",
        "      print(\"Sqaure root of \",num,\" is (After truncated) : \",i-1)\n",
        "      break\n",
        "    elif i*i==num:\n",
        "      print(\"Sqaure root of \",num,\" is : \",i)\n",
        "      break\n",
        "sqr_root(5)\n",
        "sqr_root(17)\n",
        "sqr_root(25)"
      ],
      "metadata": {
        "colab": {
          "base_uri": "https://localhost:8080/"
        },
        "id": "uufXN0FwENRD",
        "outputId": "093a701e-c33e-4011-f83b-756a41112c7b"
      },
      "execution_count": null,
      "outputs": [
        {
          "output_type": "stream",
          "name": "stdout",
          "text": [
            "Sqaure root of  5  is (After truncated) :  2\n",
            "Sqaure root of  17  is (After truncated) :  4\n",
            "Sqaure root of  25  is :  5\n"
          ]
        }
      ]
    }
  ]
}