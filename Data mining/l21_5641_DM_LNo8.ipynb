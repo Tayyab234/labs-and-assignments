{
 "cells": [
  {
   "cell_type": "code",
   "execution_count": null,
   "metadata": {},
   "outputs": [],
   "source": [
    "import pandas as pd\n",
    "from apyori import apriori\n",
    "\n",
    "# Load the dataset\n",
    "df = pd.read_csv('Data.csv', header=None)\n",
    "df.columns = ['age', 'workclass', 'fnlwgt', 'education', 'education-num', 'marital-status', 'occupation', \n",
    "              'relationship', 'race', 'sex', 'capital-gain', 'capital-loss', 'hours-per-week', 'native-country', 'income']\n"
   ]
  },
  {
   "cell_type": "code",
   "execution_count": null,
   "metadata": {},
   "outputs": [],
   "source": [
    "# Data preprocessing\n",
    "# Define numerical attributes to be converted to categorical\n",
    "numerical_attributes = ['age', 'fnlwgt', 'education-num', 'capital-gain', 'capital-loss', 'hours-per-week']\n",
    "\n",
    "# Convert numerical attributes to categorical\n",
    "for attr in numerical_attributes:\n",
    "    df[attr] = pd.cut(df[attr], bins=5)\n",
    "\n",
    "# Convert income attribute to binary\n",
    "df['income'] = df['income'].apply(lambda x: '>50K' if x.strip() == '>50K' else '<=50K')\n",
    "\n",
    "# Convert dataframe to list of lists\n",
    "records = df.values.tolist()"
   ]
  },
  {
   "cell_type": "code",
   "execution_count": null,
   "metadata": {},
   "outputs": [],
   "source": [
    "# Association rule mining\n",
    "def find_rules(records, min_support, min_confidence, min_lift, min_length):\n",
    "    rules = apriori(records, min_support=min_support, min_confidence=min_confidence,\n",
    "                    min_lift=min_lift, min_length=min_length)\n",
    "    return list(rules)\n",
    "\n",
    "# Example usage\n",
    "min_support = 0.0022\n",
    "min_confidence = 0.2\n",
    "min_lift = 3\n",
    "min_length = 4\n",
    "results = find_rules(records, min_support, min_confidence, min_lift, min_length)"
   ]
  },
  {
   "cell_type": "code",
   "execution_count": null,
   "metadata": {},
   "outputs": [],
   "source": [
    "# Print the results\n",
    "for rule in results:\n",
    "    # Extracting the rule, support, and confidence\n",
    "    rule_str = f\"RULE: {list(rule.items)}\\nSUPPORT: {rule.support}\\nCONFIDENCE: {rule.ordered_statistics[0].confidence}\\nLIFT: {rule.ordered_statistics[0].lift}\"\n",
    "    print(rule_str)"
   ]
  }
 ],
 "metadata": {
  "language_info": {
   "name": "python"
  }
 },
 "nbformat": 4,
 "nbformat_minor": 2
}
