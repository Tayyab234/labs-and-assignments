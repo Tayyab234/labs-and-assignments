{
  "nbformat": 4,
  "nbformat_minor": 0,
  "metadata": {
    "colab": {
      "provenance": []
    },
    "kernelspec": {
      "name": "python3",
      "display_name": "Python 3"
    },
    "language_info": {
      "name": "python"
    }
  },
  "cells": [
    {
      "cell_type": "code",
      "source": [
        "import numpy as np\n",
        "import matplotlib.pyplot as plt\n",
        "\n",
        "class Perceptron:\n",
        "    def __init__(self, learning_rate=0.1, max_iterations=100):\n",
        "        self.learning_rate = learning_rate\n",
        "        self.max_iterations = max_iterations\n",
        "\n",
        "    def sigmoid(self, z):\n",
        "        return 1 / (1 + np.exp(-z))\n",
        "\n",
        "    def fit(self, X, y):\n",
        "        self.weights = np.zeros(X.shape[1])\n",
        "        self.bias = 0\n",
        "\n",
        "        for _ in range(self.max_iterations):\n",
        "            for x, target in zip(X, y):\n",
        "                z = np.dot(x, self.weights) + self.bias\n",
        "                y_pred = self.sigmoid(z)\n",
        "\n",
        "                error = target - y_pred\n",
        "                adjustment = self.learning_rate * error * y_pred * (1 - y_pred) * x\n",
        "\n",
        "                self.weights += adjustment\n",
        "                self.bias += self.learning_rate * error * y_pred * (1 - y_pred)\n",
        "\n",
        "    def predict(self, X):\n",
        "        z = np.dot(X, self.weights) + self.bias\n",
        "        y_pred = self.sigmoid(z)\n",
        "        return np.round(y_pred)\n",
        "\n",
        "def plot_decision_boundary(perceptron, X, y):\n",
        "    x_min, x_max = X[:, 0].min() - 1, X[:, 0].max() + 1\n",
        "    y_min, y_max = X[:, 1].min() - 1, X[:, 1].max() + 1\n",
        "    xx, yy = np.meshgrid(np.arange(x_min, x_max, 0.1),\n",
        "                         np.arange(y_min, y_max, 0.1))\n",
        "\n",
        "    Z = perceptron.predict(np.c_[xx.ravel(), yy.ravel()])\n",
        "    Z = Z.reshape(xx.shape)\n",
        "\n",
        "    plt.contourf(xx, yy, Z, alpha=0.8, cmap='bwr')\n",
        "    plt.scatter(X[:, 0], X[:, 1], c=y, cmap='bwr')\n",
        "    plt.show()\n",
        "\n",
        "def generate_or_and_data(n_samples=100):\n",
        "    np.random.seed(0)\n",
        "    X_or = np.random.randn(n_samples, 2)\n",
        "    X_and = np.random.randn(n_samples, 2)\n",
        "\n",
        "    X_or[:, 0][X_or[:, 0] > 0] = 1\n",
        "    X_or[:, 1][X_or[:, 1] > 0] = 1\n",
        "    X_and[:, 0][X_and[:, 0] < 0] = -1\n",
        "    X_and[:, 1][X_and[:, 1] < 0] = -1\n",
        "\n",
        "    y_or = np.logical_or(X_or[:, 0] > 0, X_or[:, 1] > 0)\n",
        "    y_and = np.logical_and(X_and[:, 0] > 0, X_and[:, 1] > 0)\n",
        "\n",
        "    return X_or, y_or, X_and, y_and"
      ],
      "metadata": {
        "id": "1AC_nSfXxo-k"
      },
      "execution_count": null,
      "outputs": []
    },
    {
      "cell_type": "code",
      "source": [
        "# OR gate\n",
        "X_or, y_or, _, _ = generate_or_and_data()\n",
        "perceptron_or = Perceptron()\n",
        "perceptron_or.fit(X_or, y_or)\n",
        "print(\"OR gate accuracy:\", np.mean(perceptron_or.predict(X_or) == y_or))\n",
        "plot_decision_boundary(perceptron_or, X_or, y_or)\n",
        "\n",
        "# AND gate\n",
        "_, _, X_and, y_and = generate_or_and_data()\n",
        "perce"
      ],
      "metadata": {
        "id": "8z_QdOcbxsrc"
      },
      "execution_count": null,
      "outputs": []
    }
  ]
}