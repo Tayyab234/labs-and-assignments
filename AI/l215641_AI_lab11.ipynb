{
 "cells": [
  {
   "cell_type": "code",
   "execution_count": 18,
   "metadata": {},
   "outputs": [],
   "source": [
    "import numpy as np\n",
    "import pandas as pd\n",
    "import matplotlib.pyplot as plt\n",
    "from sklearn.datasets import make_blobs\n",
    "from sklearn.preprocessing import StandardScaler"
   ]
  },
  {
   "cell_type": "code",
   "execution_count": 19,
   "metadata": {},
   "outputs": [],
   "source": [
    "# Generate a synthetic dataset with 300 samples and 2 features\n",
    "data = make_blobs(n_samples=300, centers=4, n_features=2, random_state=42)\n",
    "# Standardize the dataset\n",
    "scaler = StandardScaler()\n",
    "data_scaled = scaler.fit_transform(data[0])"
   ]
  },
  {
   "cell_type": "code",
   "execution_count": 20,
   "metadata": {},
   "outputs": [],
   "source": [
    "data_df = pd.DataFrame(data_scaled, columns=['feature_1', 'feature_2'])"
   ]
  },
  {
   "cell_type": "code",
   "execution_count": 21,
   "metadata": {},
   "outputs": [
    {
     "data": {
      "text/html": [
       "<div>\n",
       "<style scoped>\n",
       "    .dataframe tbody tr th:only-of-type {\n",
       "        vertical-align: middle;\n",
       "    }\n",
       "\n",
       "    .dataframe tbody tr th {\n",
       "        vertical-align: top;\n",
       "    }\n",
       "\n",
       "    .dataframe thead th {\n",
       "        text-align: right;\n",
       "    }\n",
       "</style>\n",
       "<table border=\"1\" class=\"dataframe\">\n",
       "  <thead>\n",
       "    <tr style=\"text-align: right;\">\n",
       "      <th></th>\n",
       "      <th>feature_1</th>\n",
       "      <th>feature_2</th>\n",
       "    </tr>\n",
       "  </thead>\n",
       "  <tbody>\n",
       "    <tr>\n",
       "      <th>0</th>\n",
       "      <td>-1.116190</td>\n",
       "      <td>0.583772</td>\n",
       "    </tr>\n",
       "    <tr>\n",
       "      <th>1</th>\n",
       "      <td>-1.192142</td>\n",
       "      <td>0.658633</td>\n",
       "    </tr>\n",
       "    <tr>\n",
       "      <th>2</th>\n",
       "      <td>0.325204</td>\n",
       "      <td>0.796111</td>\n",
       "    </tr>\n",
       "    <tr>\n",
       "      <th>3</th>\n",
       "      <td>-0.699477</td>\n",
       "      <td>-1.387959</td>\n",
       "    </tr>\n",
       "    <tr>\n",
       "      <th>4</th>\n",
       "      <td>-1.415179</td>\n",
       "      <td>0.558312</td>\n",
       "    </tr>\n",
       "  </tbody>\n",
       "</table>\n",
       "</div>"
      ],
      "text/plain": [
       "   feature_1  feature_2\n",
       "0  -1.116190   0.583772\n",
       "1  -1.192142   0.658633\n",
       "2   0.325204   0.796111\n",
       "3  -0.699477  -1.387959\n",
       "4  -1.415179   0.558312"
      ]
     },
     "execution_count": 21,
     "metadata": {},
     "output_type": "execute_result"
    }
   ],
   "source": [
    "data_df.head()"
   ]
  },
  {
   "cell_type": "markdown",
   "metadata": {},
   "source": [
    "KMEAN"
   ]
  },
  {
   "cell_type": "code",
   "execution_count": 22,
   "metadata": {},
   "outputs": [],
   "source": [
    "def initial_centroids(num_clusters,data):\n",
    "  centroids=data.sample(num_clusters)\n",
    "  return centroids"
   ]
  },
  {
   "cell_type": "code",
   "execution_count": 23,
   "metadata": {},
   "outputs": [
    {
     "name": "stdout",
     "output_type": "stream",
     "text": [
      "     feature_1  feature_2\n",
      "203    1.41172  -0.003629\n",
      "266   -0.63547  -1.481974\n",
      "152    1.57655  -0.240510\n"
     ]
    }
   ],
   "source": [
    "np.random.seed(42)\n",
    "n_clusters=3\n",
    "centroids=initial_centroids(n_clusters,data_df)\n",
    "print(centroids)"
   ]
  },
  {
   "cell_type": "code",
   "execution_count": 24,
   "metadata": {},
   "outputs": [],
   "source": [
    "def error(x,y):\n",
    "  return np.square(np.sum((x-y)**2))"
   ]
  },
  {
   "cell_type": "code",
   "execution_count": 25,
   "metadata": {},
   "outputs": [],
   "source": [
    "def assign_centroids(data,centroids):\n",
    "  labels=[]\n",
    "  k=centroids.shape[0]\n",
    "\n",
    "  for sample in range(data.shape[0]):\n",
    "    error_a=np.array([])\n",
    "    for centroid in range(k):\n",
    "      err=error(centroids.iloc[centroid,:],data.iloc[sample,:])\n",
    "      error_a=np.append(error_a,err)\n",
    "    \n",
    "    nc=np.where(error_a==np.amin(error_a))[0].tolist()[0]\n",
    "    labels.append(nc)\n",
    "\n",
    "  return labels\n",
    "    "
   ]
  },
  {
   "cell_type": "code",
   "execution_count": 26,
   "metadata": {},
   "outputs": [],
   "source": [
    "def kmeans(n_clusters,data):\n",
    "  temp=data.copy()\n",
    "  flag=True\n",
    "  centroids=[]\n",
    "  prev_centroids=[]\n",
    "  init_cent=initial_centroids(n_clusters,temp)\n",
    "  while(flag):\n",
    "    temp['Centroid']=assign_centroids(temp,init_cent)\n",
    "    centroids=temp['Centroid'].values.tolist()\n",
    "    if(centroids==prev_centroids):\n",
    "      flag=False\n",
    "      break\n",
    "  \n",
    "    prev_centroids=centroids\n",
    "  \n",
    "  return temp['Centroid']"
   ]
  },
  {
   "cell_type": "code",
   "execution_count": 37,
   "metadata": {},
   "outputs": [],
   "source": [
    "data_df['Centroid']=kmeans(n_clusters,data_df)"
   ]
  },
  {
   "cell_type": "code",
   "execution_count": 38,
   "metadata": {},
   "outputs": [
    {
     "data": {
      "image/png": "[encoded data removed]",
      "text/plain": [
       "<Figure size 576x432 with 1 Axes>"
      ]
     },
     "metadata": {
      "needs_background": "light"
     },
     "output_type": "display_data"
    }
   ],
   "source": [
    "fig, ax = plt.subplots(figsize=(8, 6))\n",
    "plt.scatter(x=data_df['feature_1'], y=data_df['feature_2'], s=150,\n",
    "            c=data_df['Centroid'].astype('category'))\n",
    "ax.set_xlabel(r'x', fontsize=14)\n",
    "ax.set_ylabel(r'y', fontsize=14)\n",
    "plt.xticks(fontsize=12)\n",
    "plt.yticks(fontsize=12)\n",
    "plt.show()"
   ]
  },
  {
   "cell_type": "markdown",
   "metadata": {},
   "source": [
    "KMEDOID"
   ]
  },
  {
   "cell_type": "code",
   "execution_count": 45,
   "metadata": {},
   "outputs": [],
   "source": [
    "def initialize_medoids(data, k):\n",
    "    n_samples = data.shape[0]\n",
    "    medoid_indices = np.random.choice(n_samples, k, replace=False)\n",
    "    medoids = data[medoid_indices]\n",
    "    return medoids\n",
    "\n",
    "\n",
    "def compute_dissimilarities(data, medoids):\n",
    "    n_samples = data.shape[0]\n",
    "    n_medoids = medoids.shape[0]\n",
    "    dissimilarities = np.zeros((n_samples, n_medoids))\n",
    "    for i in range(n_medoids):\n",
    "        dissimilarities[:, i] = np.linalg.norm(data - medoids[i], axis=1)\n",
    "    return dissimilarities"
   ]
  },
  {
   "cell_type": "code",
   "execution_count": 46,
   "metadata": {},
   "outputs": [],
   "source": [
    "def assign_clusters(dissimilarities):\n",
    "    clusters = np.argmin(dissimilarities, axis=1)\n",
    "    return clusters\n",
    "\n",
    "\n",
    "def update_medoids(data, clusters, k):\n",
    "    medoids = np.zeros((k, data.shape[1]))\n",
    "    for i in range(k):\n",
    "        cluster_indices = np.where(clusters == i)[0]\n",
    "        cluster_data = data[cluster_indices]\n",
    "        cluster_dissimilarities = dissimilarities[cluster_indices, i]\n",
    "        medoid_index = cluster_indices[np.argmin(cluster_dissimilarities)]\n",
    "        medoids[i] = data[medoid_index]\n",
    "    return medoids\n",
    "\n",
    "\n",
    "def k_medoids(data, k, max_iterations=100):\n",
    "    medoids = initialize_medoids(data, k)\n",
    "    for i in range(max_iterations):\n",
    "        dissimilarities = compute_dissimilarities(data, medoids)\n",
    "        clusters = assign_clusters(dissimilarities)\n",
    "        new_medoids = update_medoids(data, clusters, k)\n",
    "        if np.all(medoids == new_medoids):\n",
    "            break\n",
    "        medoids = new_medoids\n",
    "    return medoids, clusters"
   ]
  },
  {
   "cell_type": "code",
   "execution_count": 47,
   "metadata": {},
   "outputs": [
    {
     "name": "stderr",
     "output_type": "stream",
     "text": [
      "*c* argument looks like a single numeric RGB or RGBA sequence, which should be avoided as value-mapping will have precedence in case its length matches with *x* & *y*.  Please use the *color* keyword-argument or provide a 2D array with a single row if you intend to specify the same RGB or RGBA value for all points.\n"
     ]
    },
    {
     "data": {
      "image/png": "[encoded data removed]",
      "text/plain": [
       "<Figure size 432x288 with 1 Axes>"
      ]
     },
     "metadata": {
      "needs_background": "light"
     },
     "output_type": "display_data"
    }
   ],
   "source": [
    "medoids,clusters = kmedoids(data_scaled, k=3)\n",
    "plt.scatter(data_scaled[:, 0], data_scaled[:, 1], c=clusters, cmap='rainbow')\n",
    "plt.title('KMedoid clustering')\n",
    "plt.xlabel('Feature 1')\n",
    "plt.ylabel('Feature 2')\n",
    "plt.show()"
   ]
  },
  {
   "cell_type": "code",
   "execution_count": null,
   "metadata": {},
   "outputs": [],
   "source": []
  }
 ],
 "metadata": {
  "kernelspec": {
   "display_name": "Python 3",
   "language": "python",
   "name": "python3"
  },
  "language_info": {
   "codemirror_mode": {
    "name": "ipython",
    "version": 3
   },
   "file_extension": ".py",
   "mimetype": "text/x-python",
   "name": "python",
   "nbconvert_exporter": "python",
   "pygments_lexer": "ipython3",
   "version": "3.8.8"
  }
 },
 "nbformat": 4,
 "nbformat_minor": 2
}
