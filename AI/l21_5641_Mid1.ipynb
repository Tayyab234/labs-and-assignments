{
 "cells": [
  {
   "cell_type": "code",
   "execution_count": 5,
   "id": "cdc9291d",
   "metadata": {},
   "outputs": [
    {
     "data": {
      "text/plain": [
       "{'orange': 20, 'apple': 25, 'grapes': 15, 'banana': 8}"
      ]
     },
     "execution_count": 5,
     "metadata": {},
     "output_type": "execute_result"
    }
   ],
   "source": [
    "#Question no 1\n",
    "def agregate_dictionary(list1):\n",
    "    list2=list()\n",
    "    for dict1 in list1:\n",
    "        list2.extend(dict1.keys())\n",
    "    list2=list(set(list2))\n",
    "    new_dict=dict()\n",
    "    for items in list2:\n",
    "        new_dict[items]=0\n",
    "    for items in list2:\n",
    "        for dict2 in list1:\n",
    "            if items in dict2:\n",
    "                new_dict[items] += dict2[items]\n",
    "    return new_dict\n",
    "\n",
    "sales_data = [\n",
    "    {\"apple\": 10, \"banana\": 5, \"orange\": 8},\n",
    "    {\"apple\": 15, \"banana\": 3, \"grapes\": 6},\n",
    "    {\"orange\": 12, \"grapes\": 9}\n",
    "]\n",
    "agregate_dictionary(sales_data)\n"
   ]
  },
  {
   "cell_type": "code",
   "execution_count": 37,
   "id": "7bd1a7f3",
   "metadata": {},
   "outputs": [
    {
     "name": "stdout",
     "output_type": "stream",
     "text": [
      "{(0, 2)}\n",
      "None\n"
     ]
    },
    {
     "ename": "TypeError",
     "evalue": "'NoneType' object is not iterable",
     "output_type": "error",
     "traceback": [
      "\u001b[1;31m---------------------------------------------------------------------------\u001b[0m",
      "\u001b[1;31mTypeError\u001b[0m                                 Traceback (most recent call last)",
      "\u001b[1;32m<ipython-input-37-649fb03cc02f>\u001b[0m in \u001b[0;36m<module>\u001b[1;34m\u001b[0m\n\u001b[0;32m     64\u001b[0m \u001b[0mtarget\u001b[0m \u001b[1;33m=\u001b[0m \u001b[1;33m(\u001b[0m\u001b[1;36m2\u001b[0m\u001b[1;33m,\u001b[0m \u001b[1;36m3\u001b[0m\u001b[1;33m)\u001b[0m\u001b[1;33m\u001b[0m\u001b[1;33m\u001b[0m\u001b[0m\n\u001b[0;32m     65\u001b[0m \u001b[0mrows\u001b[0m\u001b[1;33m,\u001b[0m \u001b[0mcols\u001b[0m \u001b[1;33m=\u001b[0m \u001b[1;36m3\u001b[0m\u001b[1;33m,\u001b[0m \u001b[1;36m4\u001b[0m\u001b[1;33m\u001b[0m\u001b[1;33m\u001b[0m\u001b[0m\n\u001b[1;32m---> 66\u001b[1;33m \u001b[0mprint\u001b[0m\u001b[1;33m(\u001b[0m\u001b[0mfind_shortest_path\u001b[0m\u001b[1;33m(\u001b[0m\u001b[0mgrid\u001b[0m\u001b[1;33m,\u001b[0m \u001b[0mstart\u001b[0m\u001b[1;33m,\u001b[0m \u001b[0mtarget\u001b[0m\u001b[1;33m,\u001b[0m \u001b[0mrows\u001b[0m\u001b[1;33m,\u001b[0m \u001b[0mcols\u001b[0m\u001b[1;33m)\u001b[0m\u001b[1;33m)\u001b[0m\u001b[1;33m\u001b[0m\u001b[1;33m\u001b[0m\u001b[0m\n\u001b[0m",
      "\u001b[1;32m<ipython-input-37-649fb03cc02f>\u001b[0m in \u001b[0;36mfind_shortest_path\u001b[1;34m(grid, start, target, rows, cols)\u001b[0m\n\u001b[0;32m     48\u001b[0m            \u001b[1;32mexcept\u001b[0m\u001b[1;33m:\u001b[0m\u001b[1;33m\u001b[0m\u001b[1;33m\u001b[0m\u001b[0m\n\u001b[0;32m     49\u001b[0m                \u001b[0mdict1\u001b[0m\u001b[1;33m[\u001b[0m\u001b[0mset2\u001b[0m\u001b[1;33m]\u001b[0m \u001b[1;33m=\u001b[0m\u001b[0mgrid\u001b[0m\u001b[1;33m[\u001b[0m\u001b[0mx\u001b[0m\u001b[1;33m]\u001b[0m\u001b[1;33m[\u001b[0m\u001b[0my\u001b[0m\u001b[1;33m-\u001b[0m\u001b[1;36m1\u001b[0m\u001b[1;33m]\u001b[0m\u001b[1;33m\u001b[0m\u001b[1;33m\u001b[0m\u001b[0m\n\u001b[1;32m---> 50\u001b[1;33m         \u001b[0mset1\u001b[0m\u001b[1;33m=\u001b[0m\u001b[0mset\u001b[0m\u001b[1;33m(\u001b[0m\u001b[0mmin\u001b[0m\u001b[1;33m(\u001b[0m\u001b[0mdict1\u001b[0m\u001b[1;33m)\u001b[0m\u001b[1;33m)\u001b[0m\u001b[1;33m\u001b[0m\u001b[1;33m\u001b[0m\u001b[0m\n\u001b[0m\u001b[0;32m     51\u001b[0m         \u001b[0ml1\u001b[0m\u001b[1;33m=\u001b[0m\u001b[0mlist\u001b[0m\u001b[1;33m(\u001b[0m\u001b[0mset1\u001b[0m\u001b[1;33m)\u001b[0m\u001b[1;33m\u001b[0m\u001b[1;33m\u001b[0m\u001b[0m\n\u001b[0;32m     52\u001b[0m         \u001b[1;32mdel\u001b[0m  \u001b[0mdict1\u001b[0m\u001b[1;33m[\u001b[0m\u001b[0mset1\u001b[0m\u001b[1;33m]\u001b[0m\u001b[1;33m\u001b[0m\u001b[1;33m\u001b[0m\u001b[0m\n",
      "\u001b[1;31mTypeError\u001b[0m: 'NoneType' object is not iterable"
     ]
    }
   ],
   "source": [
    "def find_shortest_path(grid,start,target,rows,cols):\n",
    "    #if len(grid) > 5 or len(grid[0] >5 :\n",
    "     #   print(\"Invalid dimension \")\n",
    "      #  return\n",
    "    destiny=1\n",
    "    set1=set()\n",
    "    set1.add((start))\n",
    "    dict1=dict()\n",
    "    x,y=start\n",
    "    while destiny:\n",
    "       \n",
    "        if x+1< len(grid) and grid[x+1][y] != 'X':\n",
    "           set2=set1\n",
    "           set2=set2.add((x+1,y))\n",
    "           if grid[x+1][y] == 'T':\n",
    "              return list(set2)\n",
    "           try:\n",
    "              dict1[set2]+=grid[x+1][y]\n",
    "           except:\n",
    "              dict1[set2] =grid[x+1][y]\n",
    "        if x-1>=0 and grid[x-1][y] != 'X' :\n",
    "           set2=set1\n",
    "           set2=set2.add((x-1,y))\n",
    "           if grid[x-1][y] == 'T':\n",
    "              return list(set2)\n",
    "           try:\n",
    "              dict1[set2]+=grid[x-1][y]\n",
    "           except:\n",
    "              dict1[set2] =grid[x-1][y]\n",
    "        if y+1<len(grid[0]) and grid[x][y+1] != 'X':\n",
    "           set2=set1\n",
    "           set2=set2.add((x,y+1))\n",
    "           if grid[x][y+1] == 'T':\n",
    "              return list(set2)\n",
    "           try:\n",
    "              dict1[set2]+=grid[x][y+1]\n",
    "           except:\n",
    "              dict1[set2] =grid[x][y+1]\n",
    "        if y-1>=0 and grid[x][y-1] != 'X' :\n",
    "           set2=set1\n",
    "           set2=set2.add((x,y-1))\n",
    "           if grid[x][y-1] == 'T':\n",
    "              return list(set2)\n",
    "           try:\n",
    "              dict1[set2]+=grid[x][y-1]\n",
    "           except:\n",
    "               dict1[set2] =grid[x][y-1]\n",
    "        set1=set(min(dict1))\n",
    "        l1=list(set1)\n",
    "        del  dict1[set1]\n",
    "        x,y= l1[-1]\n",
    "        set1=set(l1)\n",
    "                          \n",
    "                            \n",
    "#----------------------------------------------------------------------------------------                         \n",
    "grid = [\n",
    "    [1, 2, 'S', 4],\n",
    "    [3, 'X', 6, 7],\n",
    "    [8, 9, 10, 'T']\n",
    "]\n",
    "start = (0, 2)\n",
    "target = (2, 3)\n",
    "rows, cols = 3, 4\n",
    "print(find_shortest_path(grid, start, target, rows, cols))\n"
   ]
  },
  {
   "cell_type": "code",
   "execution_count": null,
   "id": "b5a56004",
   "metadata": {},
   "outputs": [],
   "source": []
  }
 ],
 "metadata": {
  "kernelspec": {
   "display_name": "Python 3",
   "language": "python",
   "name": "python3"
  },
  "language_info": {
   "codemirror_mode": {
    "name": "ipython",
    "version": 3
   },
   "file_extension": ".py",
   "mimetype": "text/x-python",
   "name": "python",
   "nbconvert_exporter": "python",
   "pygments_lexer": "ipython3",
   "version": "3.8.8"
  }
 },
 "nbformat": 4,
 "nbformat_minor": 5
}
