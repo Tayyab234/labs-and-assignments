{
  "nbformat": 4,
  "nbformat_minor": 0,
  "metadata": {
    "colab": {
      "provenance": []
    },
    "kernelspec": {
      "name": "python3",
      "display_name": "Python 3"
    },
    "language_info": {
      "name": "python"
    }
  },
  "cells": [
    {
      "cell_type": "code",
      "execution_count": 4,
      "metadata": {
        "colab": {
          "base_uri": "https://localhost:8080/"
        },
        "id": "T4OTiKlYtEU8",
        "outputId": "eb424e1d-abee-41c9-a489-1de757896805"
      },
      "outputs": [
        {
          "output_type": "stream",
          "name": "stdout",
          "text": [
            "sorted merge list :  [1, 3, 5, 12, 49, 56, 78, 80, 90, 91, 92, 93]\n"
          ]
        }
      ],
      "source": [
        "#Question no 1 : Two sorted lists merge in a sorted order\n",
        "def Linearmerge(l1,l2):\n",
        "  length=len(l1)+len(l2)\n",
        "  l3=[]\n",
        "  j=0\n",
        "  k=0\n",
        "  for i in range(0,length):\n",
        "      if j<len(l1) and k < len(l2):\n",
        "         if l1[j]>l2[k]:\n",
        "           l3.append(l2[k])\n",
        "           k+=1\n",
        "         else:\n",
        "           l3.append(l1[j])\n",
        "           j+=1\n",
        "      else:\n",
        "        break\n",
        "  for i in range(j,len(l1)):\n",
        "     l3.append(l1[j])\n",
        "  for i in range(k,len(l2)):\n",
        "     l3.append(l2[k])\n",
        "  return l3\n",
        "l1=[12,56,78,90,91,93]\n",
        "l2=[1,3,5,49,80,92]\n",
        "print(\"sorted merge list : \",Linearmerge(l1,l2))\n"
      ]
    },
    {
      "cell_type": "code",
      "source": [
        "# Question no 2 : initialize dictionary\n",
        "employees = [\"Kelly\", \"Emma\", \"John\"]\n",
        "defaults = {\"designation\": \"Application Developer\", \"salary\": 8000}\n",
        "dictionary={employees[i]:defaults for i in range(0,len(employees)) }\n",
        "print(dictionary)"
      ],
      "metadata": {
        "colab": {
          "base_uri": "https://localhost:8080/"
        },
        "id": "b9YR1MJMwqqn",
        "outputId": "caf8e8f7-b39a-4d9f-aef3-9f19ca8e2d0f"
      },
      "execution_count": 21,
      "outputs": [
        {
          "output_type": "stream",
          "name": "stdout",
          "text": [
            "{'Kelly': {'designation': 'Application Developer', 'salary': 8000}, 'Emma': {'designation': 'Application Developer', 'salary': 8000}, 'John': {'designation': 'Application Developer', 'salary': 8000}}\n"
          ]
        }
      ]
    },
    {
      "cell_type": "code",
      "source": [
        "#question no 3 : delete keys\n",
        "sampleDict = {\"name\": \"Kelly\",\"age\":25,\"salary\": 8000,\"city\": \"New york\"}\n",
        "keystoremove=[\"name\",\"salary\"]\n",
        "[sampleDict.pop(keystoremove[i]) for i in range(0,len(keystoremove))]\n",
        "print(sampleDict)"
      ],
      "metadata": {
        "colab": {
          "base_uri": "https://localhost:8080/"
        },
        "id": "Yp_l7Q96zJTQ",
        "outputId": "e4409448-d085-4d13-a16f-148b7c0a4858"
      },
      "execution_count": 22,
      "outputs": [
        {
          "output_type": "stream",
          "name": "stdout",
          "text": [
            "{'age': 25, 'city': 'New york'}\n"
          ]
        }
      ]
    },
    {
      "cell_type": "code",
      "source": [
        "\n",
        "#Question no 4\n",
        "X={\"a\",1,45,\"b\"}\n",
        "Y={\"a\",\"c\",\"d\",45,9,8,7}\n",
        "Z=X.intersection(Y)\n",
        "print((X-Z).union(Y-Z))"
      ],
      "metadata": {
        "colab": {
          "base_uri": "https://localhost:8080/"
        },
        "id": "JBCSmnGm2eKQ",
        "outputId": "f536e40d-15d0-415f-e81a-9027d2d3c38f"
      },
      "execution_count": 26,
      "outputs": [
        {
          "output_type": "stream",
          "name": "stdout",
          "text": [
            "{1, 'b', 7, 8, 9, 'd', 'c'}\n"
          ]
        }
      ]
    },
    {
      "cell_type": "code",
      "source": [
        "#Question no 5\n",
        "def dividefunction(P,Q):\n",
        "  try:\n",
        "    print(P/Q)\n",
        "  except:\n",
        "    ValueError: print(\"You should have given either an int or a float\")\n",
        "    ZeroDivisionError : print(\"Infinity\")\n",
        "\n",
        "dividefunction(7,10)\n"
      ],
      "metadata": {
        "colab": {
          "base_uri": "https://localhost:8080/"
        },
        "id": "F92iUebM8cIH",
        "outputId": "864681ae-bd6a-40e1-f7fd-bb7a546b2d68"
      },
      "execution_count": 29,
      "outputs": [
        {
          "output_type": "stream",
          "name": "stdout",
          "text": [
            "0.7\n"
          ]
        }
      ]
    }
  ]
}