{
 "cells": [
  {
   "cell_type": "code",
   "execution_count": 1,
   "metadata": {},
   "outputs": [
    {
     "name": "stdout",
     "output_type": "stream",
     "text": [
      "Input the number: 9\n",
      "        *\n",
      "       ***\n",
      "      *****\n",
      "     *******\n",
      "    *********\n",
      "   ***********\n",
      "  *************\n",
      " ***************\n",
      "*****************\n",
      " ***************\n",
      "  *************\n",
      "   ***********\n",
      "    *********\n",
      "     *******\n",
      "      *****\n",
      "       ***\n",
      "        *\n"
     ]
    }
   ],
   "source": [
    "#Question no 1     Assignment 1\n",
    "\n",
    "print(\"Input the number: \",end='')\n",
    "h=input()\n",
    "h=int(h)\n",
    "print(h)\n",
    "j=h-1\n",
    "c=j\n",
    "k=-1\n",
    "while h>0:\n",
    "    for i in range(j):\n",
    "        print(\" \",end='')\n",
    "    j=j-1\n",
    "    k=k+1\n",
    "    s=1+k*2\n",
    "    for i in range(s):\n",
    "        print(\"*\",end='')\n",
    "    print(\"\\n\",end='')\n",
    "    h=h-1\n",
    "k=k-1\n",
    "while h<c:\n",
    "    j=h+1\n",
    "    for i in range(j):\n",
    "       print(\" \",end='')\n",
    "    s=1+k*2\n",
    "    k=k-1\n",
    "    for i in range(s):\n",
    "       print(\"*\",end='')\n",
    "    print(\"\\n\",end='')\n",
    "    h=h+1\n"
   ]
  },
  {
   "cell_type": "code",
   "execution_count": 30,
   "metadata": {},
   "outputs": [
    {
     "name": "stdout",
     "output_type": "stream",
     "text": [
      "Person Name is :  Tayyab Akhtar \n",
      "Person age is :  20\n",
      "Person name is :  Tayyab Akhtar\n",
      "Tayyab Akhtar  Age in seconds is : 630720000\n",
      "Person is adult\n",
      "Person is pass\n",
      "\n",
      "________________________________________________\n",
      "\n",
      "Person Name is :  Tayyab Akhtar \n",
      "Person age is :  20\n",
      "Person roll_number :  21l-5641 \n",
      "Persentage is :  80\n",
      "\n",
      "________________________________________________\n",
      "\n"
     ]
    }
   ],
   "source": [
    "# Question no 2   Assignment no 1\n",
    "class  person:\n",
    "    def __init__(self,name,age):\n",
    "        self.name=name\n",
    "        self.age=age\n",
    "    def show(self):\n",
    "        print(\"Person Name is : \",self.name,\"\\nPerson age is : \",self.age)\n",
    "    def seconds(self):\n",
    "        print(\"Person name is : \",self.name)\n",
    "        print(self.name,\" Age in seconds is : \",end='')\n",
    "        k=self.age*365*24*60*60\n",
    "        print(k)\n",
    "    def is_adult(self):\n",
    "        if self.age >= 18:\n",
    "            return True\n",
    "        else:\n",
    "            return False\n",
    "class student(person):\n",
    "    def __init__(self,roll,percent,name,age):\n",
    "        self.roll_number=roll\n",
    "        self.percentage=percent\n",
    "        super().__init__(name,age)\n",
    "    def is_pass(self):\n",
    "        if self.percentage >= 40:\n",
    "            return True\n",
    "        else:\n",
    "            return False\n",
    "    def s_show(self):\n",
    "       print(\"\\n________________________________________________\\n\")\n",
    "       super().show()\n",
    "       print(\"Person roll_number : \",self.roll_number,\"\\nPersentage is : \",self.percentage)\n",
    "       print(\"\\n________________________________________________\\n\")\n",
    "\n",
    "p1=person(\"Tayyab Akhtar\",20)\n",
    "p1.show()\n",
    "p1.seconds()\n",
    "if(p1.is_adult()==True):\n",
    "    print(\"Person is adult\")\n",
    "else:\n",
    "    print(\"Person is not adult\")\n",
    "p2=student(\"21l-5641\",80,\"Tayyab Akhtar\",20)\n",
    "if(p2.is_pass()==True):\n",
    "    print(\"Person is pass\")\n",
    "else:\n",
    "    print(\"Person is fail\")\n",
    "p2.s_show()\n"
   ]
  },
  {
   "cell_type": "markdown",
   "metadata": {},
   "source": []
  },
  {
   "cell_type": "code",
   "execution_count": 14,
   "metadata": {},
   "outputs": [
    {
     "name": "stdout",
     "output_type": "stream",
     "text": [
      "\n",
      "____LAST FIVE ROWS____\n",
      "\n"
     ]
    },
    {
     "data": {
      "text/html": [
       "<div>\n",
       "<style scoped>\n",
       "    .dataframe tbody tr th:only-of-type {\n",
       "        vertical-align: middle;\n",
       "    }\n",
       "\n",
       "    .dataframe tbody tr th {\n",
       "        vertical-align: top;\n",
       "    }\n",
       "\n",
       "    .dataframe thead th {\n",
       "        text-align: right;\n",
       "    }\n",
       "</style>\n",
       "<table border=\"1\" class=\"dataframe\">\n",
       "  <thead>\n",
       "    <tr style=\"text-align: right;\">\n",
       "      <th></th>\n",
       "      <th>TK104</th>\n",
       "      <th>TK105</th>\n",
       "      <th>TK107</th>\n",
       "    </tr>\n",
       "  </thead>\n",
       "  <tbody>\n",
       "    <tr>\n",
       "      <th>0</th>\n",
       "      <td>254.0</td>\n",
       "      <td>263.0</td>\n",
       "      <td>338</td>\n",
       "    </tr>\n",
       "    <tr>\n",
       "      <th>1</th>\n",
       "      <td>440.0</td>\n",
       "      <td>NaN</td>\n",
       "      <td>470</td>\n",
       "    </tr>\n",
       "    <tr>\n",
       "      <th>2</th>\n",
       "      <td>501.0</td>\n",
       "      <td>NaN</td>\n",
       "      <td>558</td>\n",
       "    </tr>\n",
       "    <tr>\n",
       "      <th>3</th>\n",
       "      <td>368.0</td>\n",
       "      <td>451.0</td>\n",
       "      <td>426</td>\n",
       "    </tr>\n",
       "    <tr>\n",
       "      <th>4</th>\n",
       "      <td>697.0</td>\n",
       "      <td>709.0</td>\n",
       "      <td>733</td>\n",
       "    </tr>\n",
       "  </tbody>\n",
       "</table>\n",
       "</div>"
      ],
      "text/plain": [
       "   TK104  TK105  TK107\n",
       "0  254.0  263.0    338\n",
       "1  440.0    NaN    470\n",
       "2  501.0    NaN    558\n",
       "3  368.0  451.0    426\n",
       "4  697.0  709.0    733"
      ]
     },
     "execution_count": 14,
     "metadata": {},
     "output_type": "execute_result"
    }
   ],
   "source": [
    "# Question no 3 Assignment no 1\n",
    "import pandas as pd\n",
    "import matplotlib.pyplot as plt\n",
    "df=pd.read_csv('brittleness-index.csv')\n",
    "print(\"\\n____LAST FIVE ROWS____\\n\")\n",
    "df.head()\n",
    "#print(\"\\n____LAST FIVE ROWS____\\n\")\n",
    "#df.tail()"
   ]
  },
  {
   "cell_type": "code",
   "execution_count": 17,
   "metadata": {},
   "outputs": [
    {
     "name": "stdout",
     "output_type": "stream",
     "text": [
      "\n",
      "____LAST FIVE ROWS____\n",
      "\n"
     ]
    },
    {
     "data": {
      "text/html": [
       "<div>\n",
       "<style scoped>\n",
       "    .dataframe tbody tr th:only-of-type {\n",
       "        vertical-align: middle;\n",
       "    }\n",
       "\n",
       "    .dataframe tbody tr th {\n",
       "        vertical-align: top;\n",
       "    }\n",
       "\n",
       "    .dataframe thead th {\n",
       "        text-align: right;\n",
       "    }\n",
       "</style>\n",
       "<table border=\"1\" class=\"dataframe\">\n",
       "  <thead>\n",
       "    <tr style=\"text-align: right;\">\n",
       "      <th></th>\n",
       "      <th>TK104</th>\n",
       "      <th>TK105</th>\n",
       "      <th>TK107</th>\n",
       "    </tr>\n",
       "  </thead>\n",
       "  <tbody>\n",
       "    <tr>\n",
       "      <th>18</th>\n",
       "      <td>406.0</td>\n",
       "      <td>378.0</td>\n",
       "      <td>489</td>\n",
       "    </tr>\n",
       "    <tr>\n",
       "      <th>19</th>\n",
       "      <td>425.0</td>\n",
       "      <td>549.0</td>\n",
       "      <td>479</td>\n",
       "    </tr>\n",
       "    <tr>\n",
       "      <th>20</th>\n",
       "      <td>544.0</td>\n",
       "      <td>631.0</td>\n",
       "      <td>591</td>\n",
       "    </tr>\n",
       "    <tr>\n",
       "      <th>21</th>\n",
       "      <td>376.0</td>\n",
       "      <td>291.0</td>\n",
       "      <td>428</td>\n",
       "    </tr>\n",
       "    <tr>\n",
       "      <th>22</th>\n",
       "      <td>335.0</td>\n",
       "      <td>410.0</td>\n",
       "      <td>424</td>\n",
       "    </tr>\n",
       "  </tbody>\n",
       "</table>\n",
       "</div>"
      ],
      "text/plain": [
       "    TK104  TK105  TK107\n",
       "18  406.0  378.0    489\n",
       "19  425.0  549.0    479\n",
       "20  544.0  631.0    591\n",
       "21  376.0  291.0    428\n",
       "22  335.0  410.0    424"
      ]
     },
     "execution_count": 17,
     "metadata": {},
     "output_type": "execute_result"
    }
   ],
   "source": [
    "print(\"\\n____LAST FIVE ROWS____\\n\")\n",
    "df.tail()\n"
   ]
  },
  {
   "cell_type": "code",
   "execution_count": 29,
   "metadata": {},
   "outputs": [
    {
     "name": "stdout",
     "output_type": "stream",
     "text": [
      "Total rows and columns :  (23, 3)      Dimension :  2\n",
      "Total missing values are : \n",
      " TK104    3\n",
      "TK105    2\n",
      "TK107    0\n",
      "dtype: int64\n"
     ]
    }
   ],
   "source": [
    "c=df.shape\n",
    "j=df.ndim\n",
    "print(\"Total rows and columns : \",c,\"     Dimension : \",j)\n",
    "k=df.isnull().sum()\n",
    "print(\"Total missing values are : \\n\",k)"
   ]
  },
  {
   "attachments": {},
   "cell_type": "markdown",
   "metadata": {},
   "source": []
  },
  {
   "cell_type": "code",
   "execution_count": 30,
   "metadata": {},
   "outputs": [
    {
     "data": {
      "text/html": [
       "<div>\n",
       "<style scoped>\n",
       "    .dataframe tbody tr th:only-of-type {\n",
       "        vertical-align: middle;\n",
       "    }\n",
       "\n",
       "    .dataframe tbody tr th {\n",
       "        vertical-align: top;\n",
       "    }\n",
       "\n",
       "    .dataframe thead th {\n",
       "        text-align: right;\n",
       "    }\n",
       "</style>\n",
       "<table border=\"1\" class=\"dataframe\">\n",
       "  <thead>\n",
       "    <tr style=\"text-align: right;\">\n",
       "      <th></th>\n",
       "      <th>TK104</th>\n",
       "      <th>TK105</th>\n",
       "      <th>TK107</th>\n",
       "    </tr>\n",
       "  </thead>\n",
       "  <tbody>\n",
       "    <tr>\n",
       "      <th>0</th>\n",
       "      <td>False</td>\n",
       "      <td>False</td>\n",
       "      <td>False</td>\n",
       "    </tr>\n",
       "    <tr>\n",
       "      <th>1</th>\n",
       "      <td>False</td>\n",
       "      <td>True</td>\n",
       "      <td>False</td>\n",
       "    </tr>\n",
       "    <tr>\n",
       "      <th>2</th>\n",
       "      <td>False</td>\n",
       "      <td>True</td>\n",
       "      <td>False</td>\n",
       "    </tr>\n",
       "    <tr>\n",
       "      <th>3</th>\n",
       "      <td>False</td>\n",
       "      <td>False</td>\n",
       "      <td>False</td>\n",
       "    </tr>\n",
       "    <tr>\n",
       "      <th>4</th>\n",
       "      <td>False</td>\n",
       "      <td>False</td>\n",
       "      <td>False</td>\n",
       "    </tr>\n",
       "    <tr>\n",
       "      <th>5</th>\n",
       "      <td>False</td>\n",
       "      <td>False</td>\n",
       "      <td>False</td>\n",
       "    </tr>\n",
       "    <tr>\n",
       "      <th>6</th>\n",
       "      <td>False</td>\n",
       "      <td>False</td>\n",
       "      <td>False</td>\n",
       "    </tr>\n",
       "    <tr>\n",
       "      <th>7</th>\n",
       "      <td>False</td>\n",
       "      <td>False</td>\n",
       "      <td>False</td>\n",
       "    </tr>\n",
       "    <tr>\n",
       "      <th>8</th>\n",
       "      <td>False</td>\n",
       "      <td>False</td>\n",
       "      <td>False</td>\n",
       "    </tr>\n",
       "    <tr>\n",
       "      <th>9</th>\n",
       "      <td>False</td>\n",
       "      <td>False</td>\n",
       "      <td>False</td>\n",
       "    </tr>\n",
       "    <tr>\n",
       "      <th>10</th>\n",
       "      <td>False</td>\n",
       "      <td>False</td>\n",
       "      <td>False</td>\n",
       "    </tr>\n",
       "    <tr>\n",
       "      <th>11</th>\n",
       "      <td>True</td>\n",
       "      <td>False</td>\n",
       "      <td>False</td>\n",
       "    </tr>\n",
       "    <tr>\n",
       "      <th>12</th>\n",
       "      <td>True</td>\n",
       "      <td>False</td>\n",
       "      <td>False</td>\n",
       "    </tr>\n",
       "    <tr>\n",
       "      <th>13</th>\n",
       "      <td>True</td>\n",
       "      <td>False</td>\n",
       "      <td>False</td>\n",
       "    </tr>\n",
       "    <tr>\n",
       "      <th>14</th>\n",
       "      <td>False</td>\n",
       "      <td>False</td>\n",
       "      <td>False</td>\n",
       "    </tr>\n",
       "    <tr>\n",
       "      <th>15</th>\n",
       "      <td>False</td>\n",
       "      <td>False</td>\n",
       "      <td>False</td>\n",
       "    </tr>\n",
       "    <tr>\n",
       "      <th>16</th>\n",
       "      <td>False</td>\n",
       "      <td>False</td>\n",
       "      <td>False</td>\n",
       "    </tr>\n",
       "    <tr>\n",
       "      <th>17</th>\n",
       "      <td>False</td>\n",
       "      <td>False</td>\n",
       "      <td>False</td>\n",
       "    </tr>\n",
       "    <tr>\n",
       "      <th>18</th>\n",
       "      <td>False</td>\n",
       "      <td>False</td>\n",
       "      <td>False</td>\n",
       "    </tr>\n",
       "    <tr>\n",
       "      <th>19</th>\n",
       "      <td>False</td>\n",
       "      <td>False</td>\n",
       "      <td>False</td>\n",
       "    </tr>\n",
       "    <tr>\n",
       "      <th>20</th>\n",
       "      <td>False</td>\n",
       "      <td>False</td>\n",
       "      <td>False</td>\n",
       "    </tr>\n",
       "    <tr>\n",
       "      <th>21</th>\n",
       "      <td>False</td>\n",
       "      <td>False</td>\n",
       "      <td>False</td>\n",
       "    </tr>\n",
       "    <tr>\n",
       "      <th>22</th>\n",
       "      <td>False</td>\n",
       "      <td>False</td>\n",
       "      <td>False</td>\n",
       "    </tr>\n",
       "  </tbody>\n",
       "</table>\n",
       "</div>"
      ],
      "text/plain": [
       "    TK104  TK105  TK107\n",
       "0   False  False  False\n",
       "1   False   True  False\n",
       "2   False   True  False\n",
       "3   False  False  False\n",
       "4   False  False  False\n",
       "5   False  False  False\n",
       "6   False  False  False\n",
       "7   False  False  False\n",
       "8   False  False  False\n",
       "9   False  False  False\n",
       "10  False  False  False\n",
       "11   True  False  False\n",
       "12   True  False  False\n",
       "13   True  False  False\n",
       "14  False  False  False\n",
       "15  False  False  False\n",
       "16  False  False  False\n",
       "17  False  False  False\n",
       "18  False  False  False\n",
       "19  False  False  False\n",
       "20  False  False  False\n",
       "21  False  False  False\n",
       "22  False  False  False"
      ]
     },
     "execution_count": 30,
     "metadata": {},
     "output_type": "execute_result"
    }
   ],
   "source": [
    "df.isnull()"
   ]
  },
  {
   "cell_type": "code",
   "execution_count": 37,
   "metadata": {},
   "outputs": [
    {
     "data": {
      "text/plain": [
       "0     263.0\n",
       "1     421.0\n",
       "2     421.0\n",
       "3     451.0\n",
       "4     709.0\n",
       "5     542.0\n",
       "6     223.0\n",
       "7     659.0\n",
       "8     689.0\n",
       "9     509.0\n",
       "10    321.0\n",
       "11    403.0\n",
       "12    690.0\n",
       "13    460.0\n",
       "14    492.0\n",
       "15    369.0\n",
       "16    507.0\n",
       "17    370.0\n",
       "18    378.0\n",
       "19    549.0\n",
       "20    631.0\n",
       "21    291.0\n",
       "22    410.0\n",
       "Name: TK105, dtype: float64"
      ]
     },
     "execution_count": 37,
     "metadata": {},
     "output_type": "execute_result"
    }
   ],
   "source": [
    "c=df.TK107.mean()\n",
    "df.TK104.fillna(value=c)\n",
    "c=df.TK104.mean()\n",
    "df.TK105.fillna(value=c)"
   ]
  },
  {
   "attachments": {},
   "cell_type": "markdown",
   "metadata": {},
   "source": [
    "\n"
   ]
  },
  {
   "cell_type": "code",
   "execution_count": 42,
   "metadata": {},
   "outputs": [
    {
     "name": "stdout",
     "output_type": "stream",
     "text": [
      "Mean is :  421.0   Median is :  423.5   Standard daviation :  112.60176683665688\n"
     ]
    }
   ],
   "source": [
    "c=df.TK104.mean()\n",
    "k=df.TK104.median()\n",
    "g=df.TK104.std()\n",
    "print(\"Mean is : \",c,\"  Median is : \",k,\"  Standard daviation : \",g)"
   ]
  },
  {
   "cell_type": "code",
   "execution_count": 51,
   "metadata": {},
   "outputs": [
    {
     "data": {
      "text/plain": [
       "<BarContainer object of 23 artists>"
      ]
     },
     "execution_count": 51,
     "metadata": {},
     "output_type": "execute_result"
    },
    {
     "data": {
      "image/png": "[encoded data removed]",
      "text/plain": [
       "<Figure size 640x480 with 1 Axes>"
      ]
     },
     "metadata": {},
     "output_type": "display_data"
    }
   ],
   "source": [
    "#plt.plot(df)\n",
    "plt.bar(df.TK104,df.TK105)"
   ]
  },
  {
   "cell_type": "code",
   "execution_count": null,
   "metadata": {},
   "outputs": [],
   "source": [
    "\n",
    "\n",
    "\n"
   ]
  }
 ],
 "metadata": {
  "kernelspec": {
   "display_name": "Python 3.10.8 64-bit (microsoft store)",
   "language": "python",
   "name": "python3"
  },
  "language_info": {
   "codemirror_mode": {
    "name": "ipython",
    "version": 3
   },
   "file_extension": ".py",
   "mimetype": "text/x-python",
   "name": "python",
   "nbconvert_exporter": "python",
   "pygments_lexer": "ipython3",
   "version": "3.10.10"
  },
  "orig_nbformat": 4,
  "vscode": {
   "interpreter": {
    "hash": "486e0d5a79acdbfffd563ee7a67a93a5017bd2a4f66495483a69f0245c8a4a6c"
   }
  }
 },
 "nbformat": 4,
 "nbformat_minor": 2
}
