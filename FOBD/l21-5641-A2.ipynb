{
 "cells": [
  {
   "cell_type": "code",
   "execution_count": null,
   "metadata": {},
   "outputs": [],
   "source": [
    "from pyspark import SparkContext, SparkConf\n",
    "\n",
    "# Initialize Spark context\n",
    "conf = SparkConf().setAppName(\"GPA Calculation and Sorting\")\n",
    "sc = SparkContext.getOrCreate(conf=conf)\n",
    "\n",
    "# Read the input file\n",
    "data = sc.textFile(\"inpufile.txt\")  \n",
    "\n",
    "# Function to convert grades to GPA\n",
    "def grade_to_gpa(grade):\n",
    "    if grade == 'A':\n",
    "        return 4\n",
    "    elif grade == 'B':\n",
    "        return 3\n",
    "    elif grade == 'C':\n",
    "        return 2\n",
    "    elif grade == 'D':\n",
    "        return 1\n",
    "    else:\n",
    "        return 0\n",
    "\n",
    "# Split data and calculate GPA\n",
    "subject_gpa = data.map(lambda line: line.split(' ')).map(lambda x: ((x[0], x[2]), grade_to_gpa(x[3])))\n",
    "\n",
    "# Calculate average GPA for each subject\n",
    "subject_avg_gpa = subject_gpa.mapValues(lambda x: (x, 1)).reduceByKey(lambda x, y: (x[0] + y[0], x[1] + y[1])) \\\n",
    "    .mapValues(lambda x: x[0] / x[1])\n",
    "\n"
   ]
  },
  {
   "cell_type": "code",
   "execution_count": null,
   "metadata": {},
   "outputs": [],
   "source": [
    "# Function to sort roll numbers based on specified rules\n",
    "def custom_sort(roll):\n",
    "    parts = roll.split('-')\n",
    "    campus_order = {'F': 0, 'I': 1, 'K': 2, 'L': 3, 'P': 4}\n",
    "    year_order = {'99': 0, '01': 1, '16': 2, '17': 3}\n",
    "    return (campus_order[parts[0][0]], year_order[parts[0][1:3]], int(parts[1]))\n",
    "\n",
    "# Sort based on roll number\n",
    "sorted_data = subject_avg_gpa.sortByKey(keyfunc=lambda x: custom_sort(x[0]))"
   ]
  },
  {
   "cell_type": "code",
   "execution_count": null,
   "metadata": {},
   "outputs": [],
   "source": [
    "# Filter the data for the given roll number\n",
    "specific_roll = sorted_data.filter(lambda x: x[0][0] == 'L21-1705')\n",
    "\n",
    "# Collect and print the result\n",
    "result = specific_roll.collect()\n",
    "for item in result:\n",
    "    print(f\"Roll Number: {item[0]}, Average GPA: {item[1]}\")\n",
    "\n",
    "sc.stop()"
   ]
  }
 ],
 "metadata": {
  "kernelspec": {
   "display_name": "Python 3",
   "language": "python",
   "name": "python3"
  },
  "language_info": {
   "name": "python",
   "version": "3.10.11"
  }
 },
 "nbformat": 4,
 "nbformat_minor": 2
}
