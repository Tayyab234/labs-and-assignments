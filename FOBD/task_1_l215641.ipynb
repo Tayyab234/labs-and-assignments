{
 "cells": [
  {
   "cell_type": "code",
   "execution_count": null,
   "metadata": {},
   "outputs": [],
   "source": [
    "import pyspark\n",
    "from pyspark import SparkContext, SparkConf\n",
    "appName='TASK'\n",
    "master=\"local[*]\"\n",
    "#lab NO 7\n",
    "conf = SparkConf().setAppName(appName).setMaster(master)\n",
    "sc = SparkContext(conf=conf)"
   ]
  },
  {
   "cell_type": "code",
   "execution_count": null,
   "metadata": {},
   "outputs": [],
   "source": [
    "#Question no 1\n",
    "data = [(1, 2), (3, 4), (3, 6), (4, 5)]\n",
    "Rdd = sc.parallelize(data)\n",
    "\n",
    "Rdd_Reduced = Rdd.reduceByKey(lambda x, y: x + \n",
    "\n",
    "output = Rdd_Reduced.collect()\n",
    "for (key, count) in output:\n",
    "    print(f\"Key {key} has {count} Counts\")\n"
   ]
  },
  {
   "cell_type": "code",
   "execution_count": null,
   "metadata": {},
   "outputs": [],
   "source": [
    "# Question no 2\n",
    "\n",
    "lines = sc.textFile(\"file.txt\")\n",
    "\n",
    "# Split words and count occurrences\n",
    "word_counts = lines.flatMap(lambda line: line.split()).map(lambda word: (word, 1)).reduceByKey(lambda x, y: x + y)\n",
    "\n",
    "# Collect and print word counts\n",
    "word_counts_collected = word_counts.collect()\n",
    "for (word, count) in word_counts_collected:\n",
    "    print(f\"Word: {word} Count: {count}\")\n"
   ]
  },
  {
   "cell_type": "code",
   "execution_count": null,
   "metadata": {},
   "outputs": [],
   "source": [
    "#Question no 3\n",
    "\n",
    "data = [(1, 2), (3, 4), (3, 6), (4, 5)]\n",
    "data = sc.parallelize(data)\n",
    "total = data.keys().distinct().count()\n",
    "print(f\"Total unique keys: {total}\")\n",
    "\n",
    "\n",
    "# Iterate over the unique keys and their counts\n",
    "unique_keys =data.keys().countByValue()\n",
    "for key, count in unique_keys.items():\n",
    "    print(f\"Key: {key} Count: {count}\")\n"
   ]
  },
  {
   "cell_type": "code",
   "execution_count": null,
   "metadata": {},
   "outputs": [],
   "source": [
    "#Question no 5\n",
    "# Load the text file into an RDD\n",
    "base_RDD = sc.textFile(\"Complete_Shakespeare.txt\")\n",
    "\n",
    "\n",
    "split_RDD = base_RDD.flatMap(lambda line: line.split())\n",
    "\n",
    "# Count the total words \n",
    "total_words = split_RDD.count()\n",
    "\n",
    "# Stop words list\n",
    "stop_words = [\"the\", \"and\", \"of\", \"a\", \"to\", \"in\", \"is\", \"you\", \"that\"]  \n",
    "\n",
    "# Remove stop words and create pair RDD with word counts\n",
    "word_counts = split_RDD.filter(lambda word: word.lower() not in stop_words).map(lambda word: (word.lower(), 1)).reduceByKey(lambda x, y: x + y)\n",
    "\n",
    "\n",
    "word_frequency = word_counts.map(lambda x: (x[1], x[0])).sortByKey(False)\n",
    "\n",
    "# Get the top 10 most frequent words and their frequencies\n",
    "top_10 = word_frequency.take(10)\n",
    "for (count, word) in top_10:\n",
    "    print(f\"Word: {word} Count: {count}\")\n"
   ]
  }
 ],
 "metadata": {
  "kernelspec": {
   "display_name": "pyspark-env",
   "language": "python",
   "name": "python3"
  },
  "language_info": {
   "codemirror_mode": {
    "name": "ipython",
    "version": 3
   },
   "file_extension": ".py",
   "mimetype": "text/x-python",
   "name": "python",
   "nbconvert_exporter": "python",
   "pygments_lexer": "ipython3",
   "version": "3.11.5"
  }
 },
 "nbformat": 4,
 "nbformat_minor": 2
}
