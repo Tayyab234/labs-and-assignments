{
 "cells": [
  {
   "cell_type": "code",
   "execution_count": null,
   "metadata": {
    "id": "jV9OSFxjGcRz"
   },
   "outputs": [],
   "source": [
    "import pyspark\n",
    "import random\n",
    "from pyspark import SparkContext, SparkConf\n",
    "from pyspark.sql import SparkSession\n",
    "conf = SparkConf().setAppName('SparkApp').setMaster('local[*]')\n",
    "sc = SparkContext(conf=conf)"
   ]
  },
  {
   "cell_type": "code",
   "execution_count": null,
   "metadata": {
    "colab": {
     "base_uri": "https://localhost:8080/"
    },
    "id": "xWeLqWgNHgcS",
    "outputId": "d1116013-648f-47a2-caea-43f15502886e"
   },
   "outputs": [],
   "source": [
    "# Q - 1\n",
    "RDD = sc.textFile(\"emp1.txt\").map(lambda x: x.split(\",\"))\n",
    "FilterRDD = RDD.filter(lambda line: 'emp_id' not in line)\n",
    "PairRDD1 = FilterRDD.map(lambda line: (line[0], line[1:]))"
   ]
  },
  {
   "cell_type": "code",
   "execution_count": null,
   "metadata": {
    "colab": {
     "base_uri": "https://localhost:8080/"
    },
    "id": "8M4KAFFcZUh-",
    "outputId": "aa529183-78c4-45d5-9957-56cc131f7200"
   },
   "outputs": [],
   "source": [
    "# Q - 2\n",
    "leftOuter = (FilterRDD.leftOuterJoin(FilterRDD2))\n",
    "sorted(leftOuter.collect())"
   ]
  },
  {
   "cell_type": "code",
   "execution_count": null,
   "metadata": {
    "colab": {
     "base_uri": "https://localhost:8080/"
    },
    "id": "5d9pPcquaHIq",
    "outputId": "66ce261b-2975-401c-8977-e001bd82e948"
   },
   "outputs": [],
   "source": [
    "# Q - 3\n",
    "print(\"Total Salary of Employees in RDD1:\")\n",
    "sum = 0\n",
    "for _,(_,k) in inner.collect():\n",
    "    sum += int(k[0])*int(k[1])\n",
    "print(sum)"
   ]
  },
  {
   "cell_type": "code",
   "execution_count": null,
   "metadata": {
    "colab": {
     "base_uri": "https://localhost:8080/"
    },
    "id": "t6CjQBroaHKC",
    "outputId": "f39bc792-d1f0-442a-b514-9d993f66c4cf"
   },
   "outputs": [],
   "source": [
    "# Q - 4\n",
    "max = 0\n",
    "for _,(_,k) in inner.collect():\n",
    "    salary = int(k[0])\n",
    "    if salary > max:\n",
    "        max = salary\n",
    "print(\"Maximum Salary: \",max)"
   ]
  },
  {
   "cell_type": "code",
   "execution_count": null,
   "metadata": {
    "colab": {
     "base_uri": "https://localhost:8080/"
    },
    "id": "TY_6L_lSaHML",
    "outputId": "a6adfccd-48a0-4771-a016-1ad518e7ee9e"
   },
   "outputs": [],
   "source": [
    "# Q - 5\n",
    "print(\"Total Salary of Employees in Each Department:\")\n",
    "department = {}\n",
    "department.setdefault(0)\n",
    "for _,(i,j) in inner.collect():\n",
    "    if i[1] in department:\n",
    "        department[i[1]] = department[i[1]] + int(j[0])\n",
    "    else:\n",
    "        department[i[1]] = int(j[0])\n",
    "department"
   ]
  },
  {
   "cell_type": "code",
   "execution_count": null,
   "metadata": {
    "colab": {
     "base_uri": "https://localhost:8080/"
    },
    "id": "Hr1ndXC5aHPg",
    "outputId": "25fc978e-7862-4772-a4c3-cc07d249e910"
   },
   "outputs": [],
   "source": [
    "# Q - 6\n",
    "print(\"Employees not belonging to any department:\")\n",
    "filtered = leftOuter.filter(lambda i: i[1][0][1] == \"\" )\n",
    "filtered.collect()"
   ]
  },
  {
   "cell_type": "code",
   "execution_count": null,
   "metadata": {},
   "outputs": [],
   "source": [
    "# Q - 7\n",
    "rdd = sc.parallelize([(1,'Mujtaba'),(2,'Saim'),(3,'Taha')])\n",
    "Ages = {1:20,2:30,3:80}\n",
    "brod = sc.broadcast(Ages)\n",
    "def f(y):\n",
    "  return brod.value[y]\n",
    "result = rdd.map(lambda x: (x[0], x[1], f(x[0])))\n",
    "res = result.collect()\n",
    "print(\"BroadCast Join Between Two RDDs : \",res)"
   ]
  },
  {
   "cell_type": "code",
   "execution_count": null,
   "metadata": {},
   "outputs": [],
   "source": [
    "#Q8\n",
    "num = sc.accumulator(0)\n",
    "def f(x):\n",
    "  global num\n",
    "  num+=x\n",
    "rdd = sc.parallelize([1,2,3,4,5,6,7,8,9,10])\n",
    "rdd.foreach(f)\n",
    "final = num.value\n",
    "print(\"Accumulated : \", final)"
   ]
  }
 ],
 "metadata": {
  "colab": {
   "provenance": []
  },
  "kernelspec": {
   "display_name": "Python 3 (ipykernel)",
   "language": "python",
   "name": "python3"
  },
  "language_info": {
   "codemirror_mode": {
    "name": "ipython",
    "version": 3
   },
   "file_extension": ".py",
   "mimetype": "text/x-python",
   "name": "python",
   "nbconvert_exporter": "python",
   "pygments_lexer": "ipython3",
   "version": "3.11.5"
  }
 },
 "nbformat": 4,
 "nbformat_minor": 1
}
