{
  "cells": [
    {
      "cell_type": "code",
      "execution_count": null,
      "metadata": {
        "id": "hnIOuhQYlSDZ"
      },
      "outputs": [],
      "source": [
        "import pyspark\n",
        "import random\n",
        "from pyspark import SparkContext, SparkConf\n",
        "from pyspark.sql import SparkSession\n",
        "conf = SparkConf().setAppName('Assignment no 3').setMaster('local[*]')\n",
        "sc = SparkContext(conf=conf)"
      ]
    },
    {
      "cell_type": "code",
      "execution_count": null,
      "metadata": {
        "colab": {
          "base_uri": "https://localhost:8080/"
        },
        "id": "GctoY8i48Dtx",
        "outputId": "2d222ba3-f971-4451-a4d3-fe30d17ea6fc"
      },
      "outputs": [
        {
          "name": "stdout",
          "output_type": "stream",
          "text": [
            "Total count: 7\n",
            "\n",
            "H  =>  3\n",
            "M  =>  1\n",
            "S  =>  1\n",
            "D  =>  1\n",
            "F  =>  1\n",
            "\n",
            "HORRID HENRY’S HOUND  =>  2\n",
            "HENRY’S HOUND HUNTS  =>  1\n",
            "MASSIVE MURREE MOUNTAINS.  =>  1\n",
            "SILLY STUPID SAMUEL’S  =>  1\n",
            "DREADFUL DRAGON DANY  =>  1\n",
            "FANTASTIC FANCIFUL FOURSOME.  =>  1\n"
          ]
        }
      ],
      "source": [
        "# QUestion no 1\n",
        "spark = SparkSession.builder.appName(\"Ano3_Qno1\").getOrCreate()\n",
        "Sentences = spark.read.text(\"InputSentences.txt\").rdd.map(lambda r: r[0])\n",
        "\n",
        "Sentences_ = Sentences.map(lambda word: word.upper())\n",
        "\n",
        "def threelongconsecutivewords(line):\n",
        "    words = line.split()\n",
        "    result = []\n",
        "    for i in range(len(words) - 2):\n",
        "        if (len(words[i]) > 4) and (len(words[i+1]) >= 4) and (len(words[i+2]) >= 4) and (words[i][0] == words[i+1][0] == words[i+2][0]):\n",
        "            result.append(words[i] + \" \" + words[i+1] + \" \" + words[i+2])\n",
        "    return result\n",
        "\n",
        "long_words = Sentences_.flatMap(threelongconsecutivewords)\n",
        "\n",
        "word_counts = long_words.map(lambda word: (word, 1)).reduceByKey(lambda a, b: a + b)\n",
        "word = word_counts.map(lambda x:x[1]).sum()\n",
        "\n",
        "alphabet_count = long_words.map(lambda x: (x[0], 1)).reduceByKey(lambda a, b: a + b)\n",
        "alpha_count =  alphabet_count.map(lambda x: (x[0][0], x[1])).reduceByKey(lambda a, b: a + b)\n",
        "\n",
        "print(\"Total count:\", word)\n",
        "print()\n",
        "for letter, count in alpha_count.collect():\n",
        "    print(letter, \" : \",count)\n",
        "print()\n",
        "for word, count in word_counts.collect():\n",
        "    print(word,\" : \",count)"
      ]
    },
    {
      "cell_type": "code",
      "execution_count": null,
      "metadata": {
        "colab": {
          "base_uri": "https://localhost:8080/"
        },
        "id": "WnhjqbXylne-",
        "outputId": "1378367d-79f7-430d-cf8d-5c9df1b48bdc"
      },
      "outputs": [
        {
          "name": "stdout",
          "output_type": "stream",
          "text": [
            "('1', 'R1')\n",
            "('2', 'R1')\n",
            "('3', 'R1')\n",
            "('4', 'R2')\n"
          ]
        }
      ],
      "source": [
        "#Question no 2\n",
        "input_file = sc.textFile(\"InputFile.txt\")\n",
        "input_data = input_file.map(lambda line: line.split(\":\"))\n",
        "input_data = input_data.map(lambda x: (x[0], list(map(int, x[1].split()))))\n",
        "\n",
        "\n",
        "reference_file = sc.textFile(\"Reference.txt\")\n",
        "reference_data = reference_file.map(lambda line: line.split(\":\"))\n",
        "reference_data = reference_data.map(lambda x: (x[0], list(map(int, x[1].split()))))\n",
        "\n",
        "# Compute Jaccard distance function\n",
        "def jaccard_distance(a, b):\n",
        "    intersection = sum([1 for i in range(len(a)) if a[i] == 1 and b[i] == 1])\n",
        "    union = sum([1 for i in range(len(a)) if a[i] == 1 or b[i] == 1])\n",
        "    return intersection / float(union)\n",
        "\n",
        "\n",
        "input_ref_join = input_data.cartesian(reference_data)\n",
        "input_ref_join = input_ref_join.map(lambda x: (x[0][0], x[1][0], jaccard_distance(x[0][1], x[1][1])))\n",
        "\n",
        "closest_ref = input_ref_join.groupBy(lambda x: x[0]).map(lambda x: (x[0], max(x[1], key=lambda y: y[2])[1]))\n",
        "\n",
        "\n",
        "for element in sorted(closest_ref.collect()):\n",
        "    print(element)"
      ]
    },
    {
      "cell_type": "code",
      "execution_count": null,
      "metadata": {
        "colab": {
          "base_uri": "https://localhost:8080/"
        },
        "id": "8KwkPcxZA-Co",
        "outputId": "df95bc0d-89f5-46f9-8e35-d7f3d748274e"
      },
      "outputs": [
        {
          "name": "stdout",
          "output_type": "stream",
          "text": [
            "B. Cao, C. Rego -> (1) Y. Lu\n",
            "B. Cao, K. Kiani -> (1) Y. Lu\n",
            "C. Rego, K. Kiani -> (2) B. Cao, Y. Lu\n",
            "B. Cao, Y. Lu -> (3) C. Rego, F. Glover, K. Kiani\n",
            "C. Rego, Y. Lu -> (1) B. Cao\n",
            "B. Cao, F. Glover -> (1) Y. Lu\n",
            "C. Rego, F. Glover -> (2) B. Cao, Y. Lu\n",
            "B. Cao, B. Hosseini -> (1) K. Kiani\n",
            "K. Kiani, Y. Lu -> (1) B. Cao\n",
            "F. Glover, Y. Lu -> (1) B. Cao\n",
            "B. Hosseini, Y. Lu -> (1) K. Kiani\n",
            "F. Glover, K. Kiani -> (2) B. Cao, Y. Lu\n"
          ]
        }
      ],
      "source": [
        "#Question no 3\n",
        "input_data = sc.textFile(\"InputAuthor.txt\")\n",
        "\n",
        "# Extract authors and their coauthors\n",
        "authors = input_data.map(lambda line: (line.split(\"->\")[0].strip(), line.split(\"->\")[1].strip().split(\", \")))\n",
        "\n",
        "# Find common coauthors\n",
        "common_coauthors = authors.cartesian(authors).filter(lambda pair: pair[0][0] < pair[1][0])\n",
        "cmn_coauthors = common_coauthors.flatMap(lambda pair: [((pair[0][0], pair[1][0]), coauthor) for coauthor in pair[0][1] if coauthor in pair[1][1]])\n",
        "\n",
        "# Group coauthors \n",
        "grouping_coauthors = cmn_coauthors.groupByKey()\n",
        "\n",
        "sorted_authors = grouping_coauthors.mapValues(lambda coauthors: (len(coauthors), sorted(coauthors)))\n",
        "coauthors = sorted_authors.filter(lambda pair: pair[1][0] > 0)\n",
        "\n",
        "# Print the results\n",
        "for (author1, author2), (count, common_coauthors) in coauthors.collect():\n",
        "    print(f\"{author1}, {author2} -> ({count}) {', '.join(common_coauthors)}\")\n",
        "\n",
        "# Stop the Spark context\n",
        "sc.stop()\n"
      ]
    }
  ],
  "metadata": {
    "colab": {
      "provenance": []
    },
    "kernelspec": {
      "display_name": "Python 3",
      "name": "python3"
    },
    "language_info": {
      "name": "python"
    }
  },
  "nbformat": 4,
  "nbformat_minor": 0
}
