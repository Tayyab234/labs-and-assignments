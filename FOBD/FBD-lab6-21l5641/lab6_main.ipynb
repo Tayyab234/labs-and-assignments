{
 "cells": [
  {
   "cell_type": "code",
   "execution_count": null,
   "metadata": {},
   "outputs": [],
   "source": [
    "!! python q1_lab6.py listening_history.csv"
   ]
  },
  {
   "cell_type": "code",
   "execution_count": null,
   "metadata": {},
   "outputs": [],
   "source": [
    "!! python q2_lab6.py listening_history.csv"
   ]
  },
  {
   "cell_type": "code",
   "execution_count": null,
   "metadata": {},
   "outputs": [],
   "source": [
    "!! python q3_lab6.py listening_history.csv"
   ]
  },
  {
   "cell_type": "code",
   "execution_count": null,
   "metadata": {},
   "outputs": [],
   "source": [
    "!! python q4_lab6.py listening_history.csv"
   ]
  },
  {
   "cell_type": "code",
   "execution_count": null,
   "metadata": {},
   "outputs": [],
   "source": [
    "!! python q4_b_lab6.py listening_history.csv"
   ]
  },
  {
   "cell_type": "code",
   "execution_count": 3,
   "metadata": {},
   "outputs": [
    {
     "data": {
      "text/plain": [
       "['No configs found; falling back on auto-configuration',\n",
       " 'No configs specified for inline runner',\n",
       " 'Creating temp directory C:\\\\Users\\\\HP\\\\AppData\\\\Local\\\\Temp\\\\q5_lab6.HP.20231104.034326.409511',\n",
       " 'Running step 1 of 1...',\n",
       " 'job output is in C:\\\\Users\\\\HP\\\\AppData\\\\Local\\\\Temp\\\\q5_lab6.HP.20231104.034326.409511\\\\output',\n",
       " 'Streaming final output from C:\\\\Users\\\\HP\\\\AppData\\\\Local\\\\Temp\\\\q5_lab6.HP.20231104.034326.409511\\\\output...',\n",
       " '\"101\"\\t1',\n",
       " '\"102\"\\t2',\n",
       " '\"103\"\\t2',\n",
       " '\"104\"\\t1',\n",
       " '\"105\"\\t1',\n",
       " '\"106\"\\t2',\n",
       " '\"107\"\\t2',\n",
       " '\"108\"\\t2',\n",
       " '\"109\"\\t2',\n",
       " '\"111\"\\t2',\n",
       " 'Removing temp directory C:\\\\Users\\\\HP\\\\AppData\\\\Local\\\\Temp\\\\q5_lab6.HP.20231104.034326.409511...']"
      ]
     },
     "execution_count": 3,
     "metadata": {},
     "output_type": "execute_result"
    }
   ],
   "source": [
    "!! python q5_lab6.py listening_history.csv"
   ]
  },
  {
   "cell_type": "code",
   "execution_count": 25,
   "metadata": {},
   "outputs": [
    {
     "data": {
      "text/plain": [
       "['No configs found; falling back on auto-configuration',\n",
       " 'No configs specified for inline runner',\n",
       " 'Creating temp directory C:\\\\Users\\\\HP\\\\AppData\\\\Local\\\\Temp\\\\q6_lab6.HP.20231104.042258.463029',\n",
       " 'Running step 1 of 1...',\n",
       " 'job output is in C:\\\\Users\\\\HP\\\\AppData\\\\Local\\\\Temp\\\\q6_lab6.HP.20231104.042258.463029\\\\output',\n",
       " 'Streaming final output from C:\\\\Users\\\\HP\\\\AppData\\\\Local\\\\Temp\\\\q6_lab6.HP.20231104.042258.463029\\\\output...',\n",
       " '[\"user1\", \"21/10/2023\"]\\t8',\n",
       " '[\"user2\", \"21/10/2023\"]\\t2',\n",
       " '[\"user2\", \"25/10/2023\"]\\t2',\n",
       " '[\"user2\", \"26/10/2023\"]\\t3',\n",
       " '[\"user3\", \"27/10/2023\"]\\t2',\n",
       " 'Removing temp directory C:\\\\Users\\\\HP\\\\AppData\\\\Local\\\\Temp\\\\q6_lab6.HP.20231104.042258.463029...']"
      ]
     },
     "execution_count": 25,
     "metadata": {},
     "output_type": "execute_result"
    }
   ],
   "source": [
    "!! python q6_lab6.py listening_history.csv"
   ]
  },
  {
   "cell_type": "code",
   "execution_count": 27,
   "metadata": {},
   "outputs": [
    {
     "data": {
      "text/plain": [
       "['No configs found; falling back on auto-configuration',\n",
       " 'No configs specified for inline runner',\n",
       " 'Creating temp directory C:\\\\Users\\\\HP\\\\AppData\\\\Local\\\\Temp\\\\Q7_lab6.HP.20231104.042507.343932',\n",
       " 'Running step 1 of 1...',\n",
       " 'job output is in C:\\\\Users\\\\HP\\\\AppData\\\\Local\\\\Temp\\\\Q7_lab6.HP.20231104.042507.343932\\\\output',\n",
       " 'Streaming final output from C:\\\\Users\\\\HP\\\\AppData\\\\Local\\\\Temp\\\\Q7_lab6.HP.20231104.042507.343932\\\\output...',\n",
       " 'Removing temp directory C:\\\\Users\\\\HP\\\\AppData\\\\Local\\\\Temp\\\\Q7_lab6.HP.20231104.042507.343932...']"
      ]
     },
     "execution_count": 27,
     "metadata": {},
     "output_type": "execute_result"
    }
   ],
   "source": [
    "!! python Q7_lab6.py listening_history.csv"
   ]
  },
  {
   "cell_type": "code",
   "execution_count": 20,
   "metadata": {},
   "outputs": [
    {
     "data": {
      "text/plain": [
       "['No configs found; falling back on auto-configuration',\n",
       " 'No configs specified for inline runner',\n",
       " 'Creating temp directory C:\\\\Users\\\\HP\\\\AppData\\\\Local\\\\Temp\\\\q8_lab6.HP.20231104.041652.700357',\n",
       " 'Running step 1 of 1...',\n",
       " 'job output is in C:\\\\Users\\\\HP\\\\AppData\\\\Local\\\\Temp\\\\q8_lab6.HP.20231104.041652.700357\\\\output',\n",
       " 'Streaming final output from C:\\\\Users\\\\HP\\\\AppData\\\\Local\\\\Temp\\\\q8_lab6.HP.20231104.041652.700357\\\\output...',\n",
       " '[\"user1\", \"21/10/2023\"]\\t5',\n",
       " '[\"user2\", \"21/10/2023\"]\\t2',\n",
       " '[\"user2\", \"25/10/2023\"]\\t2',\n",
       " '[\"user2\", \"26/10/2023\"]\\t3',\n",
       " '[\"user3\", \"27/10/2023\"]\\t2',\n",
       " 'Removing temp directory C:\\\\Users\\\\HP\\\\AppData\\\\Local\\\\Temp\\\\q8_lab6.HP.20231104.041652.700357...']"
      ]
     },
     "execution_count": 20,
     "metadata": {},
     "output_type": "execute_result"
    }
   ],
   "source": [
    "!! python q8_lab6.py listening_history.csv"
   ]
  }
 ],
 "metadata": {
  "kernelspec": {
   "display_name": "Python 3",
   "language": "python",
   "name": "python3"
  },
  "language_info": {
   "codemirror_mode": {
    "name": "ipython",
    "version": 3
   },
   "file_extension": ".py",
   "mimetype": "text/x-python",
   "name": "python",
   "nbconvert_exporter": "python",
   "pygments_lexer": "ipython3",
   "version": "3.10.11"
  }
 },
 "nbformat": 4,
 "nbformat_minor": 2
}
