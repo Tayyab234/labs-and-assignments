{
 "cells": [
  {
   "cell_type": "code",
   "execution_count": 7,
   "id": "4b920ac0",
   "metadata": {},
   "outputs": [
    {
     "name": "stdout",
     "output_type": "stream",
     "text": [
      "Hello world\n"
     ]
    }
   ],
   "source": [
    "print('Hello world')"
   ]
  },
  {
   "cell_type": "code",
   "execution_count": 8,
   "id": "e3200672",
   "metadata": {},
   "outputs": [
    {
     "name": "stdout",
     "output_type": "stream",
     "text": [
      "Please enter the string : ffgdh\n"
     ]
    }
   ],
   "source": [
    "a=input(\"Please enter the string : \")\n"
   ]
  },
  {
   "cell_type": "code",
   "execution_count": 23,
   "id": "530780b3",
   "metadata": {},
   "outputs": [
    {
     "name": "stdout",
     "output_type": "stream",
     "text": [
      "hdgff\n"
     ]
    }
   ],
   "source": [
    "h=a[::-1]\n",
    "a=h\n",
    "print(\"Reverse string : \" ,a)"
   ]
  },
  {
   "cell_type": "code",
   "execution_count": 79,
   "id": "b6f649b0",
   "metadata": {},
   "outputs": [
    {
     "name": "stdout",
     "output_type": "stream",
     "text": [
      "Please enter string to check palindrome : \"A man, a plan, a canal: Panama\"\n",
      " amanaplanacanalpanama\n",
      "Given string is pallindrome \n"
     ]
    }
   ],
   "source": [
    "#Question 2 Palindrome\n",
    "k=input(\"Please enter string to check palindrome : \")\n",
    "text=' '\n",
    "for char in k:\n",
    "    if char >='a' and char<='z'or char >= 'A'and char <=\"Z\":\n",
    "         text+=char\n",
    "e=int(len(text))\n",
    "s=int(e/2)\n",
    "text=text.lower()\n",
    "print(text)\n",
    "if text[1:s:1]==text[e:s:-1]:\n",
    "    print(\"Given string is pallindrome \")\n",
    "elif s%2==0 and text[1:s+1:1]==text[e:s:-1]:\n",
    "    print(\"Given string is pallindrome \")\n",
    "else:\n",
    "     print(\"Given string is not pallindrome \")"
   ]
  },
  {
   "cell_type": "code",
   "execution_count": 81,
   "id": "c200557d",
   "metadata": {},
   "outputs": [
    {
     "name": "stdout",
     "output_type": "stream",
     "text": [
      "Please enter the value for suare root : 8\n",
      "2\n"
     ]
    }
   ],
   "source": [
    "#Question no 3\n",
    "c=int(input(\"Please enter the value for suare root : \"))\n",
    "for i in range(1,c):\n",
    "    if i*i==c:\n",
    "        print(i)\n",
    "        break\n",
    "    elif i*i>c:\n",
    "        print(i-1)\n",
    "        break\n"
   ]
  },
  {
   "cell_type": "code",
   "execution_count": 17,
   "id": "d9f6662b",
   "metadata": {
    "scrolled": true
   },
   "outputs": [
    {
     "name": "stdout",
     "output_type": "stream",
     "text": [
      "Please choose following options\n",
      "1: Triangle  2: Rectangle\n",
      "2\n",
      "Please enter size : 5\n",
      "*****\n",
      "*****\n",
      "*****\n"
     ]
    }
   ],
   "source": [
    "#lab manual 2\n",
    "#Question no 1\n",
    "print(\"Please choose following options\" )\n",
    "print(\"1: Triangle  2: Rectangle\")\n",
    "x=int(input())\n",
    "k=int(input((\"Please enter size : \")))\n",
    "if x==1:\n",
    "    c=0\n",
    "    while k>0:\n",
    "        u=k\n",
    "        while(u>0):\n",
    "            print(\" \",end='')\n",
    "            u=u-1\n",
    "        for i in range(1,c):\n",
    "            print(\"*\",end='')\n",
    "        k=k-1\n",
    "        c=c+2\n",
    "        print()\n",
    "elif x==2:\n",
    "    for i in range(0,k-2):\n",
    "        for j in range(0,k):\n",
    "            print(\"*\",end='')\n",
    "        print()    \n",
    "        \n"
   ]
  },
  {
   "cell_type": "code",
   "execution_count": null,
   "id": "443e8347",
   "metadata": {},
   "outputs": [],
   "source": []
  },
  {
   "cell_type": "code",
   "execution_count": null,
   "id": "688b82d4",
   "metadata": {},
   "outputs": [],
   "source": []
  },
  {
   "cell_type": "code",
   "execution_count": 21,
   "id": "00237bd0",
   "metadata": {},
   "outputs": [
    {
     "name": "stdout",
     "output_type": "stream",
     "text": [
      "Please enter first value : 7\n",
      "Please enter second value : 5\n",
      "Please select one of the given menu option\n",
      "1.Perform substraction \n",
      "2.Perform Division \n",
      "3.Perform Multiplication \n",
      "4.Perform Addition4\n",
      "12\n"
     ]
    }
   ],
   "source": [
    "#Question no 4\n",
    "x=int(input(\"Please enter first value : \"))\n",
    "y=int(input(\"Please enter second value : \"))\n",
    "print(\"Please select one of the given menu option\")\n",
    "k=int(input(('1.Perform substraction \\n2.Perform Division \\n3.Perform Multiplication \\n4.Perform Addition\\n')))\n",
    "if k==1:\n",
    "    print(x-y)\n",
    "elif k==2:\n",
    "    print(x/y)\n",
    "elif k==3:\n",
    "    print(x*y)\n",
    "elif k==4:\n",
    "    print(x+y)\n"
   ]
  },
  {
   "cell_type": "markdown",
   "id": "d2f9cc40",
   "metadata": {},
   "source": [
    "### factorial\n",
    "x=int(input(\"Please enter value to find factorial : \"))\n",
    "k=1;\n",
    "while x>=1:\n",
    "    k=k*x\n",
    "    x=x-1\n",
    "    \n",
    "print(\"factorial : \",k)\n"
   ]
  },
  {
   "cell_type": "code",
   "execution_count": 2,
   "id": "34fa9ab9",
   "metadata": {},
   "outputs": [
    {
     "name": "stdout",
     "output_type": "stream",
     "text": [
      "Please enter value to find factorial : 0\n",
      "factorial :  1\n"
     ]
    }
   ],
   "source": [
    "#Question no 6\n",
    "x=int(input(\"Please enter value to find factorial : \")) \n",
    "k=1\n",
    "while x>=1: \n",
    "    k=k*x\n",
    "    x=x-1\n",
    "\n",
    "print(\"factorial : \",k)"
   ]
  },
  {
   "cell_type": "code",
   "execution_count": null,
   "id": "2e1b8ef8",
   "metadata": {},
   "outputs": [],
   "source": []
  },
  {
   "cell_type": "code",
   "execution_count": 11,
   "id": "25abe016",
   "metadata": {},
   "outputs": [
    {
     "name": "stdout",
     "output_type": "stream",
     "text": [
      "True\n"
     ]
    }
   ],
   "source": [
    "#Question no 7\n",
    "def com(s1,s2):\n",
    "    if s1[0:] == s2[0:]:\n",
    "       return True\n",
    "    \n",
    "      \n",
    "s1=['a','word',1,2]\n",
    "s2=['a','word',1,2]\n",
    "\n",
    "h=com(s1,s2)\n",
    "print(h)\n"
   ]
  }
 ],
 "metadata": {
  "kernelspec": {
   "display_name": "Python 3",
   "language": "python",
   "name": "python3"
  },
  "language_info": {
   "codemirror_mode": {
    "name": "ipython",
    "version": 3
   },
   "file_extension": ".py",
   "mimetype": "text/x-python",
   "name": "python",
   "nbconvert_exporter": "python",
   "pygments_lexer": "ipython3",
   "version": "3.8.8"
  }
 },
 "nbformat": 4,
 "nbformat_minor": 5
}
