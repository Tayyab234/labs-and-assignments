{
 "cells": [
  {
   "cell_type": "code",
   "execution_count": 1,
   "metadata": {},
   "outputs": [],
   "source": [
    "#lab NO 8\n",
    "from pyspark import SparkContext, SparkConf\n",
    "appName='lab8'\n",
    "master=\"local[*]\"\n",
    "conf = SparkConf().setAppName(appName).setMaster(master)\n",
    "sc = SparkContext(conf=conf)\n",
    "\n"
   ]
  },
  {
   "cell_type": "code",
   "execution_count": 2,
   "metadata": {},
   "outputs": [
    {
     "data": {
      "text/plain": [
       "[('Sam', '23'), ('Mary', '34'), ('Peter', '25')]"
      ]
     },
     "execution_count": 2,
     "metadata": {},
     "output_type": "execute_result"
    }
   ],
   "source": [
    "#Q1\n",
    "my_list = ['Sam 23', 'Mary 34', 'Peter 25']\n",
    "regularRDD = sc.parallelize(my_list)\n",
    "pairRDD_RDD = regularRDD.map(lambda s: (s.split(' ')[0], s.split(' ')[1]))\n",
    "pairRDD_RDD.collect()"
   ]
  },
  {
   "cell_type": "code",
   "execution_count": 4,
   "metadata": {},
   "outputs": [
    {
     "name": "stdout",
     "output_type": "stream",
     "text": [
      "Key 4 has 5 Counts\n",
      "Key 1 has 2 Counts\n",
      "Key 3 has 10 Counts\n"
     ]
    }
   ],
   "source": [
    "#TASK 1\n",
    "\n",
    "data = [(1, 2), (3, 4), (3, 6), (4, 5)]\n",
    "Rdd = sc.parallelize(data)\n",
    "\n",
    "Rdd_Reduced = Rdd.reduceByKey(lambda x, y: x + y)\n",
    "\n",
    "output = Rdd_Reduced.collect()\n",
    "for (key, count) in output:\n",
    "    print(f\"Key {key} has {count} Counts\")\n"
   ]
  },
  {
   "cell_type": "code",
   "execution_count": 5,
   "metadata": {},
   "outputs": [
    {
     "name": "stdout",
     "output_type": "stream",
     "text": [
      "Word: world Count: 1\n",
      "Word: hello Count: 1\n"
     ]
    }
   ],
   "source": [
    "# TASK no 2\n",
    "\n",
    "lines = sc.textFile(\"file.txt\")\n",
    "\n",
    "# Split words and count occurrences\n",
    "word_counts = lines.flatMap(lambda line: line.split()).map(lambda word: (word, 1)).reduceByKey(lambda x, y: x + y)\n",
    "\n",
    "# Collect and print word counts\n",
    "word_counts_collected = word_counts.collect()\n",
    "for (word, count) in word_counts_collected:\n",
    "    print(f\"Word: {word} Count: {count}\")\n"
   ]
  },
  {
   "cell_type": "code",
   "execution_count": 7,
   "metadata": {},
   "outputs": [
    {
     "name": "stdout",
     "output_type": "stream",
     "text": [
      "Total unique keys: 3\n",
      "Key: 1 Count: 1\n",
      "Key: 3 Count: 2\n",
      "Key: 4 Count: 1\n"
     ]
    }
   ],
   "source": [
    "#TASK NO 3\n",
    "\n",
    "data = [(1, 2), (3, 4), (3, 6), (4, 5)]\n",
    "data = sc.parallelize(data)\n",
    "total = data.keys().distinct().count()\n",
    "print(f\"Total unique keys: {total}\")\n",
    "\n",
    "\n",
    "# Iterate over the unique keys and their counts\n",
    "unique_keys =data.keys().countByValue()\n",
    "for key, count in unique_keys.items():\n",
    "    print(f\"Key: {key} Count: {count}\")\n"
   ]
  },
  {
   "cell_type": "code",
   "execution_count": null,
   "metadata": {},
   "outputs": [],
   "source": [
    "# Load the text file into an RDD\n",
    "base_RDD = sc.textFile(\"Complete_Shakespeare.txt\")\n",
    "\n",
    "\n",
    "split_RDD = base_RDD.flatMap(lambda line: line.split())\n",
    "\n",
    "# Count the total words \n",
    "total_words = split_RDD.count()\n",
    "\n",
    "# Stop words list\n",
    "stop_words = [\"the\", \"and\", \"of\", \"a\", \"to\", \"in\", \"is\", \"you\", \"that\"]  \n",
    "\n",
    "# Remove stop words and create pair RDD with word counts\n",
    "word_counts = split_RDD.filter(lambda word: word.lower() not in stop_words).map(lambda word: (word.lower(), 1)).reduceByKey(lambda x, y: x + y)\n",
    "\n",
    "\n",
    "word_frequency = word_counts.map(lambda x: (x[1], x[0])).sortByKey(False)\n",
    "\n",
    "# Get the top 10 most frequent words and their frequencies\n",
    "top_10 = word_frequency.take(10)\n",
    "for (count, word) in top_10:\n",
    "    print(f\"Word: {word} Count: {count}\")\n"
   ]
  }
 ],
 "metadata": {
  "kernelspec": {
   "display_name": "Python 3",
   "language": "python",
   "name": "python3"
  },
  "language_info": {
   "codemirror_mode": {
    "name": "ipython",
    "version": 3
   },
   "file_extension": ".py",
   "mimetype": "text/x-python",
   "name": "python",
   "nbconvert_exporter": "python",
   "pygments_lexer": "ipython3",
   "version": "3.10.11"
  }
 },
 "nbformat": 4,
 "nbformat_minor": 2
}
